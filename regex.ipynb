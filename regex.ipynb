{
 "cells": [
  {
   "cell_type": "markdown",
   "id": "8e5a2c5f-9f49-49f6-a891-a6b5fa73c78a",
   "metadata": {},
   "source": [
    "# Regular Expressions\n",
    "\n",
    "***\n",
    "\n",
    "Regular expressions describe patterns - in this case, patterns of text.\n",
    "\n",
    "In Python, regular expressions are described by strings.\n",
    "\n",
    "They're strings that describe patterns in strings.\n",
    "\n",
    "We use raw python strings for regular expressions to prevent special characters being evaluated (https://stackoverflow.com/a/2081708).\n",
    "\n",
    "In a sense, regular expressions represent sets (collections) of strings.\n",
    "\n",
    "For example, the regular expression r'a+' represents the set of strings {'a', 'aa', 'aaa', ...}.\n",
    "\n",
    "***"
   ]
  },
  {
   "cell_type": "code",
   "execution_count": 1,
   "id": "e6a464e9-4fad-441f-b074-417715e34815",
   "metadata": {},
   "outputs": [],
   "source": [
    "# In Python, the re module in the standard library provides regular expression (regex) functionality.\n",
    "import re"
   ]
  },
  {
   "cell_type": "markdown",
   "id": "ecc628a0-6044-4027-8062-3892a000556e",
   "metadata": {},
   "source": [
    "<br>\n",
    "\n",
    "## Examples\n",
    "\n",
    "***"
   ]
  },
  {
   "cell_type": "code",
   "execution_count": 2,
   "id": "8d108ee6-56e8-4b11-b741-67a5b4b35794",
   "metadata": {},
   "outputs": [],
   "source": [
    "# Here's a regular expression that matches strings with three or more digits.\n",
    "r = r'[0-9]{3,}'"
   ]
  },
  {
   "cell_type": "code",
   "execution_count": 3,
   "id": "521c58f5-e662-4e1d-8b8f-732895f630cd",
   "metadata": {},
   "outputs": [
    {
     "name": "stdout",
     "output_type": "stream",
     "text": [
      "Match\n"
     ]
    }
   ],
   "source": [
    "# Test the regex against some strings.\n",
    "if re.fullmatch(r, '123'):\n",
    "    print(\"Match\")\n",
    "else:\n",
    "    print(\"No match\")"
   ]
  },
  {
   "cell_type": "code",
   "execution_count": 4,
   "id": "97b0882d-ceb4-45e7-9a7e-fa2dbeb62dfb",
   "metadata": {},
   "outputs": [
    {
     "name": "stdout",
     "output_type": "stream",
     "text": [
      "No match\n"
     ]
    }
   ],
   "source": [
    "# Test the regex against some strings.\n",
    "if re.fullmatch(r, '20'):\n",
    "    print(\"Match\")\n",
    "else:\n",
    "    print(\"No match\")"
   ]
  },
  {
   "cell_type": "code",
   "execution_count": 5,
   "id": "43cff6b8-1a5a-4154-a347-3a95683277b0",
   "metadata": {},
   "outputs": [
    {
     "name": "stdout",
     "output_type": "stream",
     "text": [
      "No match\n"
     ]
    }
   ],
   "source": [
    "# Test the regex against some strings.\n",
    "if re.fullmatch(r, '123.53'):\n",
    "    print(\"Match\")\n",
    "else:\n",
    "    print(\"No match\")"
   ]
  },
  {
   "cell_type": "code",
   "execution_count": 6,
   "id": "d5ce8d4e-55e6-4791-b13a-2d51f666bb91",
   "metadata": {},
   "outputs": [
    {
     "name": "stdout",
     "output_type": "stream",
     "text": [
      "Match\n"
     ]
    }
   ],
   "source": [
    "# Where fullmatch tests the whole string, match will test the start of the string.\n",
    "if re.match(r, '123.53'):\n",
    "    print(\"Match\")\n",
    "else:\n",
    "    print(\"No match\")"
   ]
  },
  {
   "cell_type": "code",
   "execution_count": 7,
   "id": "76073259-7d03-405d-af85-eb31ce7eb67a",
   "metadata": {},
   "outputs": [
    {
     "data": {
      "text/plain": [
       "<re.Match object; span=(14, 17), match='123'>"
      ]
     },
     "execution_count": 7,
     "metadata": {},
     "output_type": "execute_result"
    }
   ],
   "source": [
    "re.search(r, 'The number is 123.45, so it is. Another is 432.1')"
   ]
  },
  {
   "cell_type": "code",
   "execution_count": 8,
   "id": "15ee5d06-de8c-40b5-b590-7fb09ed4f994",
   "metadata": {},
   "outputs": [
    {
     "data": {
      "text/plain": [
       "['123', '432']"
      ]
     },
     "execution_count": 8,
     "metadata": {},
     "output_type": "execute_result"
    }
   ],
   "source": [
    "re.findall(r, 'The number is 123.45, so it is. Another is 432.1')"
   ]
  },
  {
   "cell_type": "code",
   "execution_count": 9,
   "id": "1754273b-e496-4954-8398-809c62bf1f05",
   "metadata": {},
   "outputs": [
    {
     "data": {
      "text/plain": [
       "'The number is NUMBER HERE.45, so it is. Another is NUMBER HERE.1'"
      ]
     },
     "execution_count": 9,
     "metadata": {},
     "output_type": "execute_result"
    }
   ],
   "source": [
    "re.sub(r, 'NUMBER HERE', 'The number is 123.45, so it is. Another is 432.1')"
   ]
  },
  {
   "cell_type": "code",
   "execution_count": 10,
   "id": "6e1b57c0-b8aa-4190-bca6-00c214fbda37",
   "metadata": {},
   "outputs": [],
   "source": [
    "# Here's a regular expression that matches strings with three or more digits.\n",
    "r = r'[0-9]{1,}\\.?[0-9]*'"
   ]
  },
  {
   "cell_type": "code",
   "execution_count": 11,
   "id": "0d0e3695-b929-4f6b-ac61-ece3a83568bc",
   "metadata": {},
   "outputs": [
    {
     "data": {
      "text/plain": [
       "['1', '1.0', '1.00', '0.9999']"
      ]
     },
     "execution_count": 11,
     "metadata": {},
     "output_type": "execute_result"
    }
   ],
   "source": [
    "re.findall(r, 'The number 1 can be written as 1.0, 1.00, and believe it or not 0.9999...')"
   ]
  },
  {
   "cell_type": "markdown",
   "id": "89d6af71-9ae1-44b7-b32e-6095f29875fc",
   "metadata": {},
   "source": [
    "## Special Characters\n",
    "\n",
    "***\n",
    "\n",
    "Most characters in a regex pattern just mean themselves.\n",
    "\n",
    "For instance 'a' is a regular expression meaning \"match a single a\".\n",
    "\n",
    "However, some characters have a special meaning.\n",
    "\n",
    "For instance, '.' is a regular expression meaning \"match any character\".\n",
    "\n",
    "To match a full stop you have to escape it: '\\.'\n",
    "\n",
    "Depending on the context, a character might be special or not.\n",
    "\n",
    "For instance, '12' means a '1' followed by a '2' but 'a{12}' means 'a' twelve times in a row.\n",
    "\n",
    "***"
   ]
  },
  {
   "cell_type": "code",
   "execution_count": 12,
   "id": "4c13ecc8-606a-4de6-8696-4f19a4daca51",
   "metadata": {},
   "outputs": [
    {
     "data": {
      "text/plain": [
       "<re.Match object; span=(0, 1), match='a'>"
      ]
     },
     "execution_count": 12,
     "metadata": {},
     "output_type": "execute_result"
    }
   ],
   "source": [
    "# Non-special characters match themselves.\n",
    "re.match(r'a', 'a')"
   ]
  },
  {
   "cell_type": "code",
   "execution_count": 13,
   "id": "500ef7bd-680b-4c71-8fbb-f2e4e88c2c84",
   "metadata": {},
   "outputs": [],
   "source": [
    "# Non-special characters match themselves - no return value means no match.\n",
    "re.match(r'a', 'b')"
   ]
  },
  {
   "cell_type": "code",
   "execution_count": 14,
   "id": "96fc68ce-a0c0-4f1a-9c93-c9101bae237e",
   "metadata": {},
   "outputs": [
    {
     "data": {
      "text/plain": [
       "<re.Match object; span=(0, 1), match='a'>"
      ]
     },
     "execution_count": 14,
     "metadata": {},
     "output_type": "execute_result"
    }
   ],
   "source": [
    "# Special characters give regular expressions their power.\n",
    "re.match(r'.', 'a')"
   ]
  },
  {
   "cell_type": "code",
   "execution_count": 15,
   "id": "a69e6181-b8d1-4c69-8b38-7244eeb57c61",
   "metadata": {},
   "outputs": [
    {
     "data": {
      "text/plain": [
       "<re.Match object; span=(0, 1), match='b'>"
      ]
     },
     "execution_count": 15,
     "metadata": {},
     "output_type": "execute_result"
    }
   ],
   "source": [
    "# Special characters give regular expressions their power.\n",
    "re.match(r'.', 'b')"
   ]
  },
  {
   "cell_type": "code",
   "execution_count": 16,
   "id": "dddfc304-ec8b-4adc-84da-55e72b173451",
   "metadata": {},
   "outputs": [
    {
     "data": {
      "text/plain": [
       "<re.Match object; span=(0, 1), match='.'>"
      ]
     },
     "execution_count": 16,
     "metadata": {},
     "output_type": "execute_result"
    }
   ],
   "source": [
    "# Special characters give regular expressions their power.\n",
    "re.match(r'.', '.')"
   ]
  },
  {
   "cell_type": "code",
   "execution_count": 17,
   "id": "bbe8b3e0-b48a-41a7-a369-6ab084395208",
   "metadata": {},
   "outputs": [],
   "source": [
    "# Special characters give regular expressions their power.\n",
    "re.fullmatch(r'.', 'bb')"
   ]
  },
  {
   "cell_type": "code",
   "execution_count": 18,
   "id": "5c82ca43-2bce-4876-8ab1-89006819bf0b",
   "metadata": {},
   "outputs": [
    {
     "data": {
      "text/plain": [
       "<re.Match object; span=(0, 2), match='ab'>"
      ]
     },
     "execution_count": 18,
     "metadata": {},
     "output_type": "execute_result"
    }
   ],
   "source": [
    "# Two regular expressions can be joined.\n",
    "re.match(r'a.', 'abbbb')"
   ]
  },
  {
   "cell_type": "code",
   "execution_count": 19,
   "id": "546a0715-6e62-4749-ba5e-036866e3a9b6",
   "metadata": {},
   "outputs": [],
   "source": [
    "# Two regular expressions can be joined.\n",
    "re.match(r'a.', 'bbbbb')"
   ]
  },
  {
   "cell_type": "markdown",
   "id": "a25956e4-add3-46ae-842e-136660a7c235",
   "metadata": {},
   "source": [
    "<br>\n",
    "\n",
    "## Sets\n",
    "\n",
    "***\n",
    "\n",
    "We can match any of a specified set or range of characters using square brackets.\n",
    "\n",
    "We can match anything but a specified set too.\n",
    "\n",
    "To match brackets in general, you have to escape them.\n",
    "\n",
    "***\n"
   ]
  },
  {
   "cell_type": "code",
   "execution_count": 20,
   "id": "d81fb6f3-eb11-44dc-a2c4-cde49c72684b",
   "metadata": {},
   "outputs": [
    {
     "data": {
      "text/plain": [
       "['a']"
      ]
     },
     "execution_count": 20,
     "metadata": {},
     "output_type": "execute_result"
    }
   ],
   "source": [
    "# Matching a or b.\n",
    "re.findall(r'[ab]', \"a\")"
   ]
  },
  {
   "cell_type": "code",
   "execution_count": 21,
   "id": "03ed673c-f168-41ef-961d-6ad0becd5ffc",
   "metadata": {},
   "outputs": [
    {
     "data": {
      "text/plain": [
       "['b']"
      ]
     },
     "execution_count": 21,
     "metadata": {},
     "output_type": "execute_result"
    }
   ],
   "source": [
    "# Matching a or b.\n",
    "re.findall(r'[ab]', \"b\")"
   ]
  },
  {
   "cell_type": "code",
   "execution_count": 22,
   "id": "06a251d9-249e-4005-b200-c5ef221e9e39",
   "metadata": {},
   "outputs": [
    {
     "data": {
      "text/plain": [
       "['a', 'b']"
      ]
     },
     "execution_count": 22,
     "metadata": {},
     "output_type": "execute_result"
    }
   ],
   "source": [
    "# Matching a or b.\n",
    "re.findall(r'[ab]', \"ab\")"
   ]
  },
  {
   "cell_type": "code",
   "execution_count": 23,
   "id": "9508da16-959f-4891-ac99-fae29cfc672a",
   "metadata": {},
   "outputs": [
    {
     "data": {
      "text/plain": [
       "['a']"
      ]
     },
     "execution_count": 23,
     "metadata": {},
     "output_type": "execute_result"
    }
   ],
   "source": [
    "# Matching a or b.\n",
    "re.findall(r'[ab]', \"ac\")"
   ]
  },
  {
   "cell_type": "code",
   "execution_count": 24,
   "id": "8f79599e-8e8e-46e7-84cb-854cadbeecbc",
   "metadata": {},
   "outputs": [
    {
     "data": {
      "text/plain": [
       "['c']"
      ]
     },
     "execution_count": 24,
     "metadata": {},
     "output_type": "execute_result"
    }
   ],
   "source": [
    "# Matching anything but a or b.\n",
    "re.findall(r'[^ab]', \"ac\")"
   ]
  },
  {
   "cell_type": "code",
   "execution_count": 25,
   "id": "f92a6996-6dd3-4328-b5a4-41e8c77fccc3",
   "metadata": {},
   "outputs": [
    {
     "data": {
      "text/plain": [
       "['a', 'c']"
      ]
     },
     "execution_count": 25,
     "metadata": {},
     "output_type": "execute_result"
    }
   ],
   "source": [
    "# Using ranges: a-z means the lowercase alphabet.\n",
    "re.findall(r'[a-z]', \"ac\")"
   ]
  },
  {
   "cell_type": "code",
   "execution_count": 26,
   "id": "a26202ac-2b4d-4d4c-9033-004976411533",
   "metadata": {},
   "outputs": [
    {
     "data": {
      "text/plain": [
       "['A']"
      ]
     },
     "execution_count": 26,
     "metadata": {},
     "output_type": "execute_result"
    }
   ],
   "source": [
    "# Using ranges: A-Z means the lowercase alphabet.\n",
    "re.findall(r'[A-Z]', \"Aac\")"
   ]
  },
  {
   "cell_type": "code",
   "execution_count": 27,
   "id": "5676bb9e-c75d-4728-a389-bbff3e8994a6",
   "metadata": {},
   "outputs": [
    {
     "data": {
      "text/plain": [
       "['1', '2', '3']"
      ]
     },
     "execution_count": 27,
     "metadata": {},
     "output_type": "execute_result"
    }
   ],
   "source": [
    "# Using ranges: 0-9 means any digit.\n",
    "re.findall(r'[0-9]', \"1a2c3\")"
   ]
  },
  {
   "cell_type": "code",
   "execution_count": 28,
   "id": "b1de5a63-7716-4b24-a6dd-84faeba81482",
   "metadata": {},
   "outputs": [
    {
     "data": {
      "text/plain": [
       "['a', 'c']"
      ]
     },
     "execution_count": 28,
     "metadata": {},
     "output_type": "execute_result"
    }
   ],
   "source": [
    "# Using ranges: 0-9 means any digit.\n",
    "re.findall(r'[^0-9]', \"1a2c3\")"
   ]
  },
  {
   "cell_type": "markdown",
   "id": "2bcd6a63-31c4-42dc-9508-f90135e2eb25",
   "metadata": {},
   "source": [
    "<br>\n",
    "\n",
    "## Quantifiers\n",
    "\n",
    "***\n",
    "\n",
    "Quantifiers are used to specify repition.\n",
    "\n",
    "For example, rather than typing 1,000 a's, we can just say \"a one thousand times\".\n",
    "\n",
    "This would be written as 'a{1000}'."
   ]
  },
  {
   "cell_type": "code",
   "execution_count": 29,
   "id": "f481851f-4c2a-416c-9c4a-71f8f91239d8",
   "metadata": {},
   "outputs": [
    {
     "data": {
      "text/plain": [
       "<re.Match object; span=(0, 7), match='bbbbbbb'>"
      ]
     },
     "execution_count": 29,
     "metadata": {},
     "output_type": "execute_result"
    }
   ],
   "source": [
    "# Astrisk means zero or more of - it's greedy by default.\n",
    "re.match('.*', 'bbbbbbb')"
   ]
  },
  {
   "cell_type": "code",
   "execution_count": 30,
   "id": "a6292426-c27b-4a3f-959b-ce928f40f350",
   "metadata": {},
   "outputs": [
    {
     "data": {
      "text/plain": [
       "<re.Match object; span=(0, 0), match=''>"
      ]
     },
     "execution_count": 30,
     "metadata": {},
     "output_type": "execute_result"
    }
   ],
   "source": [
    "# Astrisk means zero or more of - it's greedy by default.\n",
    "re.match('.*', '')"
   ]
  },
  {
   "cell_type": "code",
   "execution_count": 31,
   "id": "31acb452-7b41-4f02-bd01-992a84b050f3",
   "metadata": {},
   "outputs": [
    {
     "data": {
      "text/plain": [
       "<re.Match object; span=(0, 6), match='abbbbb'>"
      ]
     },
     "execution_count": 31,
     "metadata": {},
     "output_type": "execute_result"
    }
   ],
   "source": [
    "# Quantifiers apply to the immediately preceding item only.\n",
    "re.match('a.*', 'abbbbb')"
   ]
  },
  {
   "cell_type": "code",
   "execution_count": 32,
   "id": "2ef154c2-fb72-4bcb-b490-f060ef2ca8a3",
   "metadata": {},
   "outputs": [],
   "source": [
    "# Plus means one or more.\n",
    "re.match('.+', '')"
   ]
  },
  {
   "cell_type": "code",
   "execution_count": 33,
   "id": "750e112c-9175-4dfc-a341-d4563b200e84",
   "metadata": {},
   "outputs": [
    {
     "data": {
      "text/plain": [
       "<re.Match object; span=(0, 1), match='a'>"
      ]
     },
     "execution_count": 33,
     "metadata": {},
     "output_type": "execute_result"
    }
   ],
   "source": [
    "# Plus means one or more.\n",
    "re.match('.+', 'a')"
   ]
  },
  {
   "cell_type": "code",
   "execution_count": 34,
   "id": "428ce46b-3ea1-4566-aa3d-3a4318da4b1c",
   "metadata": {},
   "outputs": [],
   "source": [
    "# Curly braces allow specific numbers.\n",
    "re.fullmatch('a{3}', 'a')"
   ]
  },
  {
   "cell_type": "code",
   "execution_count": 35,
   "id": "921a46e5-2468-4615-b4a5-551fa27a98d6",
   "metadata": {},
   "outputs": [],
   "source": [
    "# Curly braces allow specific numbers.\n",
    "re.fullmatch('a{3}', 'aa')"
   ]
  },
  {
   "cell_type": "code",
   "execution_count": 36,
   "id": "a563c4c0-a502-4d83-ae6e-11902ba0e4b1",
   "metadata": {},
   "outputs": [
    {
     "data": {
      "text/plain": [
       "<re.Match object; span=(0, 3), match='aaa'>"
      ]
     },
     "execution_count": 36,
     "metadata": {},
     "output_type": "execute_result"
    }
   ],
   "source": [
    "# Curly braces allow specific numbers.\n",
    "re.fullmatch('a{3}', 'aaa')"
   ]
  },
  {
   "cell_type": "code",
   "execution_count": 37,
   "id": "a9e4020a-ec96-4d99-9ebe-b99995092720",
   "metadata": {},
   "outputs": [],
   "source": [
    "# Curly braces allow specific numbers.\n",
    "re.fullmatch('a{3}', 'aaaa')"
   ]
  },
  {
   "cell_type": "code",
   "execution_count": 38,
   "id": "bb8f34a4-52f9-4053-8838-627bce7c03f9",
   "metadata": {},
   "outputs": [
    {
     "data": {
      "text/plain": [
       "<re.Match object; span=(0, 4), match='aaaa'>"
      ]
     },
     "execution_count": 38,
     "metadata": {},
     "output_type": "execute_result"
    }
   ],
   "source": [
    "# Curly braces allow specific numbers.\n",
    "re.fullmatch('a{3,4}', 'aaaa')"
   ]
  },
  {
   "cell_type": "code",
   "execution_count": 39,
   "id": "0180879a-f413-4233-bc1e-c4b990c0166e",
   "metadata": {},
   "outputs": [
    {
     "data": {
      "text/plain": [
       "<re.Match object; span=(0, 4), match='aaaa'>"
      ]
     },
     "execution_count": 39,
     "metadata": {},
     "output_type": "execute_result"
    }
   ],
   "source": [
    "# A stray comma means \"or more\".\n",
    "re.fullmatch('a{3,}', 'aaaa')"
   ]
  },
  {
   "cell_type": "code",
   "execution_count": 40,
   "id": "fe5202b2-68e3-4574-95d2-11b0e634a07a",
   "metadata": {},
   "outputs": [
    {
     "data": {
      "text/plain": [
       "['1', '22', '333']"
      ]
     },
     "execution_count": 40,
     "metadata": {},
     "output_type": "execute_result"
    }
   ],
   "source": [
    "# Quantifiers mix with sets.\n",
    "re.findall(r'[0-9]+', \"1a22c333\")"
   ]
  },
  {
   "cell_type": "code",
   "execution_count": 41,
   "id": "dcbdc3c2-47f4-4fdb-ac57-53da94dba2e0",
   "metadata": {},
   "outputs": [
    {
     "data": {
      "text/plain": [
       "['1', '12', '123']"
      ]
     },
     "execution_count": 41,
     "metadata": {},
     "output_type": "execute_result"
    }
   ],
   "source": [
    "# Note it doesn't have to be the same element of the set repeated.\n",
    "re.findall(r'[0-9]+', \"1a12c123\")"
   ]
  },
  {
   "cell_type": "markdown",
   "id": "abbc0ca6-9a25-4bc2-b2a6-2559b9c0d24f",
   "metadata": {},
   "source": [
    "<br>\n",
    "\n",
    "## Groups\n",
    "\n",
    "***"
   ]
  },
  {
   "cell_type": "code",
   "execution_count": 42,
   "id": "f93f816e-9776-437b-bcae-000f21b2e81a",
   "metadata": {},
   "outputs": [
    {
     "data": {
      "text/plain": [
       "<re.Match object; span=(0, 6), match='ababab'>"
      ]
     },
     "execution_count": 42,
     "metadata": {},
     "output_type": "execute_result"
    }
   ],
   "source": [
    "# Match ab three to five times.\n",
    "re.fullmatch('(ab){3,5}', 'ababab')"
   ]
  },
  {
   "cell_type": "code",
   "execution_count": 43,
   "id": "07aeae19-5f9e-41d0-ac0c-6bf798a4221a",
   "metadata": {},
   "outputs": [
    {
     "data": {
      "text/plain": [
       "<re.Match object; span=(0, 8), match='abababab'>"
      ]
     },
     "execution_count": 43,
     "metadata": {},
     "output_type": "execute_result"
    }
   ],
   "source": [
    "# Match ab three to five times.\n",
    "re.fullmatch('(ab){3,5}', 'abababab')"
   ]
  },
  {
   "cell_type": "code",
   "execution_count": 44,
   "id": "efde5ca8-a35b-42c1-a449-8bac03560a9f",
   "metadata": {},
   "outputs": [
    {
     "data": {
      "text/plain": [
       "<re.Match object; span=(0, 10), match='ababababab'>"
      ]
     },
     "execution_count": 44,
     "metadata": {},
     "output_type": "execute_result"
    }
   ],
   "source": [
    "# Match ab three to five times.\n",
    "re.fullmatch('(ab){3,5}', 'ababababab')"
   ]
  },
  {
   "cell_type": "code",
   "execution_count": 45,
   "id": "09d5d75a-884d-43e1-9191-9ef084120d43",
   "metadata": {},
   "outputs": [],
   "source": [
    "# Match ab three to five times.\n",
    "re.fullmatch('(ab){3,5}', 'abababababab')"
   ]
  },
  {
   "cell_type": "code",
   "execution_count": 46,
   "id": "47688488-8dc1-4985-b02b-3e9970df5cd4",
   "metadata": {},
   "outputs": [
    {
     "data": {
      "text/plain": [
       "<re.Match object; span=(0, 10), match='ababababab'>"
      ]
     },
     "execution_count": 46,
     "metadata": {},
     "output_type": "execute_result"
    }
   ],
   "source": [
    "# Groups can be captured or not captured.\n",
    "re.fullmatch('(?:ab){3,5}', 'ababababab')"
   ]
  },
  {
   "cell_type": "code",
   "execution_count": 47,
   "id": "346d5de8-2135-46f0-b718-88d7f72db435",
   "metadata": {},
   "outputs": [
    {
     "data": {
      "text/plain": [
       "<re.Match object; span=(0, 2), match='99'>"
      ]
     },
     "execution_count": 47,
     "metadata": {},
     "output_type": "execute_result"
    }
   ],
   "source": [
    "# The difference between captured and non-captured is only relevant when backreferencing or substituting.\n",
    "# The first capture is \\1, the second \\2, etc. Note the use of r'' for raw strings is essential.\n",
    "re.fullmatch(r'([0-9])\\1', '99')"
   ]
  },
  {
   "cell_type": "code",
   "execution_count": 48,
   "id": "88faecf4-da82-4c8a-90ed-bc81f6549aeb",
   "metadata": {},
   "outputs": [],
   "source": [
    "# The difference between captured and non-captured is only relevant when backreferencing or substituting.\n",
    "re.fullmatch(r'([0-9])\\1', '19')"
   ]
  },
  {
   "cell_type": "code",
   "execution_count": 49,
   "id": "e7cbe2d0-3cf4-489f-8c21-e1c5f58e2464",
   "metadata": {},
   "outputs": [
    {
     "name": "stdout",
     "output_type": "stream",
     "text": [
      "A problem\n"
     ]
    }
   ],
   "source": [
    "# If we don't capture a group and then try to refer to it - that's a problem.\n",
    "try:\n",
    "    re.fullmatch(r'(?:[0-9])\\1', '99')\n",
    "except:\n",
    "    print(\"A problem\")"
   ]
  },
  {
   "cell_type": "markdown",
   "id": "c4b44a0c-ad16-4922-97aa-5068d859b864",
   "metadata": {},
   "source": [
    "<br>\n",
    "\n",
    "## Anchors\n",
    "\n",
    "***\n",
    "\n",
    "Anchors are special characters that don't match any character.\n",
    "\n",
    "Rather they indicate a position.\n",
    "\n",
    "***"
   ]
  },
  {
   "cell_type": "code",
   "execution_count": 50,
   "id": "bff3809c-c632-4925-8d63-b61fc584e348",
   "metadata": {},
   "outputs": [
    {
     "data": {
      "text/plain": [
       "['and', 'and']"
      ]
     },
     "execution_count": 50,
     "metadata": {},
     "output_type": "execute_result"
    }
   ],
   "source": [
    "# \\b matches a word boundary.\n",
    "re.findall(r'\\band\\b', \"Ireland is and island and England is part of an island.\")"
   ]
  },
  {
   "cell_type": "code",
   "execution_count": 51,
   "id": "9a0a8da8-3c6a-447e-909a-5b63b36ccbce",
   "metadata": {},
   "outputs": [
    {
     "data": {
      "text/plain": [
       "['and']"
      ]
     },
     "execution_count": 51,
     "metadata": {},
     "output_type": "execute_result"
    }
   ],
   "source": [
    "# ^ matches the start of a line/string.\n",
    "re.findall(r'^and', \"and will be found but and won't.\")"
   ]
  },
  {
   "cell_type": "code",
   "execution_count": 52,
   "id": "b2d71fdc-3e92-413f-85d5-6b1251fb71ab",
   "metadata": {},
   "outputs": [
    {
     "data": {
      "text/plain": [
       "['and']"
      ]
     },
     "execution_count": 52,
     "metadata": {},
     "output_type": "execute_result"
    }
   ],
   "source": [
    "# $ matches the end of a line/string.\n",
    "re.findall(r'and$', \"This and won't be found but let's end the sentence in and and that will be found: and\")"
   ]
  },
  {
   "cell_type": "markdown",
   "id": "3277655b-7a8b-490b-b928-83334e392b24",
   "metadata": {},
   "source": [
    "<br>\n",
    "\n",
    "## Greedy\n",
    "\n",
    "***\n",
    "\n",
    "Quantifiers are generally greedy: they'll match as much as they can.\n",
    "\n",
    "You can change that behaviour with a question mark.\n",
    "\n",
    "Note that question marks have a few different meanings, depending on their contexts.\n",
    "\n",
    "***"
   ]
  },
  {
   "cell_type": "code",
   "execution_count": 53,
   "id": "75f401d8-1d63-437f-b566-3b190aa2956a",
   "metadata": {},
   "outputs": [
    {
     "data": {
      "text/plain": [
       "['<title>Hello, world</title>']"
      ]
     },
     "execution_count": 53,
     "metadata": {},
     "output_type": "execute_result"
    }
   ],
   "source": [
    "# Greediness doesn't make sense when matching HTML tags.\n",
    "re.findall(r'<.*>', \"<title>Hello, world</title>\")"
   ]
  },
  {
   "cell_type": "code",
   "execution_count": 54,
   "id": "e9804f8d-4ca6-4a40-abb5-fdbbc79d1bbf",
   "metadata": {},
   "outputs": [
    {
     "data": {
      "text/plain": [
       "['<title>', '</title>']"
      ]
     },
     "execution_count": 54,
     "metadata": {},
     "output_type": "execute_result"
    }
   ],
   "source": [
    "# Make him less greedy and he'll match each tag separately.\n",
    "re.findall(r'<.*?>', \"<title>Hello, world</title>\")"
   ]
  },
  {
   "cell_type": "code",
   "execution_count": 55,
   "id": "3088cb00-2091-4a3b-9c0e-cf3fc7375100",
   "metadata": {},
   "outputs": [
    {
     "data": {
      "text/plain": [
       "['<title>', '</title>']"
      ]
     },
     "execution_count": 55,
     "metadata": {},
     "output_type": "execute_result"
    }
   ],
   "source": [
    "# Note there are oftenlots of ways to achieve the same result - here's a greedy one.\n",
    "re.findall(r'<[^>]*>', \"<title>Hello, world</title>\")"
   ]
  },
  {
   "cell_type": "markdown",
   "id": "5b97a6ce-2840-4676-9ea3-ca1b8f8f96a2",
   "metadata": {},
   "source": [
    "<br>\n",
    "\n",
    "## Working with Data\n",
    "\n",
    "***\n",
    "\n",
    "Regular expressions are especially useful in manipulating large structured text files like CSV files.\n",
    "\n",
    "Here we load the iris data set.\n",
    "\n",
    "***"
   ]
  },
  {
   "cell_type": "code",
   "execution_count": 56,
   "id": "b832e179-4d6f-42fa-a206-e98fe102cb5d",
   "metadata": {},
   "outputs": [],
   "source": [
    "# For fetching files on the internet.\n",
    "import requests\n",
    "\n",
    "# Get the iris data set.\n",
    "response = requests.get(\"https://raw.githubusercontent.com/ianmcloughlin/datasets/main/iris.csv\")"
   ]
  },
  {
   "cell_type": "code",
   "execution_count": 57,
   "id": "b30588f1-cee2-4bb2-877c-d55247c363ef",
   "metadata": {},
   "outputs": [
    {
     "data": {
      "text/plain": [
       "[b'sepal_length,sepal_width,petal_length,petal_width,species',\n",
       " b'5.1,3.5,1.4,0.2,setosa',\n",
       " b'4.9,3.0,1.4,0.2,setosa',\n",
       " b'4.7,3.2,1.3,0.2,setosa',\n",
       " b'4.6,3.1,1.5,0.2,setosa']"
      ]
     },
     "execution_count": 57,
     "metadata": {},
     "output_type": "execute_result"
    }
   ],
   "source": [
    "# Print the first few lines.\n",
    "list(response.iter_lines())[:5]"
   ]
  },
  {
   "cell_type": "code",
   "execution_count": 58,
   "id": "2252530b-dd3e-4d9e-9da0-18d20ea7d061",
   "metadata": {},
   "outputs": [
    {
     "data": {
      "text/plain": [
       "['5.1,3.5,1.4,0.2,setosa',\n",
       " '5.4,3.4,1.7,0.2,setosa',\n",
       " '5.0,3.5,1.3,0.3,setosa',\n",
       " '5.0,2.0,3.5,1.0,versicolor',\n",
       " '5.5,2.4,3.8,1.1,versicolor',\n",
       " '6.3,3.3,6.0,2.5,virginica',\n",
       " '6.9,3.2,5.7,2.3,virginica',\n",
       " '6.7,3.1,5.6,2.4,virginica']"
      ]
     },
     "execution_count": 58,
     "metadata": {},
     "output_type": "execute_result"
    }
   ],
   "source": [
    "# Store all lines except for the header.\n",
    "lines = list(response.iter_lines())[1:]\n",
    "\n",
    "# Decode the lines.\n",
    "lines = [l.decode('utf-8') for l in lines]\n",
    "\n",
    "# Display every twentieth line.\n",
    "lines[::20]"
   ]
  },
  {
   "cell_type": "code",
   "execution_count": 59,
   "id": "09e1f0b5-80b8-43c5-a941-ebac1e07c50b",
   "metadata": {},
   "outputs": [
    {
     "data": {
      "text/plain": [
       "['5.1', '3.5', '1.4', '0.2']"
      ]
     },
     "execution_count": 59,
     "metadata": {},
     "output_type": "execute_result"
    }
   ],
   "source": [
    "# Match numbers.\n",
    "re.findall(r'[0-9]+.[0-9]+', lines[0])"
   ]
  },
  {
   "cell_type": "code",
   "execution_count": 60,
   "id": "f96db887-b59c-4116-bcad-fa1c561953e3",
   "metadata": {},
   "outputs": [
    {
     "name": "stdout",
     "output_type": "stream",
     "text": [
      "NUMBER:5.1,NUMBER:3.5,NUMBER:1.4,NUMBER:0.2,setosa\n",
      "NUMBER:5.4,NUMBER:3.4,NUMBER:1.7,NUMBER:0.2,setosa\n",
      "NUMBER:5.0,NUMBER:3.5,NUMBER:1.3,NUMBER:0.3,setosa\n",
      "NUMBER:5.0,NUMBER:2.0,NUMBER:3.5,NUMBER:1.0,versicolor\n",
      "NUMBER:5.5,NUMBER:2.4,NUMBER:3.8,NUMBER:1.1,versicolor\n",
      "NUMBER:6.3,NUMBER:3.3,NUMBER:6.0,NUMBER:2.5,virginica\n",
      "NUMBER:6.9,NUMBER:3.2,NUMBER:5.7,NUMBER:2.3,virginica\n",
      "NUMBER:6.7,NUMBER:3.1,NUMBER:5.6,NUMBER:2.4,virginica\n"
     ]
    }
   ],
   "source": [
    "# Identify each number on each line.\n",
    "for line in lines[::20]:\n",
    "    print(re.sub(r'([0-9]+\\.[0-9]+)', r'NUMBER:\\1', line))"
   ]
  },
  {
   "cell_type": "code",
   "execution_count": 61,
   "id": "fca881a2-8b2d-4a1e-a91b-2d1d8fb0bae8",
   "metadata": {},
   "outputs": [
    {
     "name": "stdout",
     "output_type": "stream",
     "text": [
      "NUMBER1:5.1,NUMBER2:3.5,NUMBER3:1.4,NUMBER4:0.2,STRING:setosa\n",
      "NUMBER1:5.4,NUMBER2:3.4,NUMBER3:1.7,NUMBER4:0.2,STRING:setosa\n",
      "NUMBER1:5.0,NUMBER2:3.5,NUMBER3:1.3,NUMBER4:0.3,STRING:setosa\n",
      "NUMBER1:5.0,NUMBER2:2.0,NUMBER3:3.5,NUMBER4:1.0,STRING:versicolor\n",
      "NUMBER1:5.5,NUMBER2:2.4,NUMBER3:3.8,NUMBER4:1.1,STRING:versicolor\n",
      "NUMBER1:6.3,NUMBER2:3.3,NUMBER3:6.0,NUMBER4:2.5,STRING:virginica\n",
      "NUMBER1:6.9,NUMBER2:3.2,NUMBER3:5.7,NUMBER4:2.3,STRING:virginica\n",
      "NUMBER1:6.7,NUMBER2:3.1,NUMBER3:5.6,NUMBER4:2.4,STRING:virginica\n"
     ]
    }
   ],
   "source": [
    "# Identify each number and then the string.\n",
    "for line in lines[::20]:\n",
    "    print(re.sub(r'([0-9]+\\.[0-9]+),([0-9]+\\.[0-9]+),([0-9]+\\.[0-9]+),([0-9]+\\.[0-9]+),(.*)', r'NUMBER1:\\1,NUMBER2:\\2,NUMBER3:\\3,NUMBER4:\\4,STRING:\\5', line))"
   ]
  },
  {
   "cell_type": "code",
   "execution_count": 62,
   "id": "01883f84-8aeb-4a05-a815-951f0ed0f1ce",
   "metadata": {},
   "outputs": [
    {
     "name": "stdout",
     "output_type": "stream",
     "text": [
      "setosa,5.1,3.5,1.4,0.2\n",
      "setosa,5.4,3.4,1.7,0.2\n",
      "setosa,5.0,3.5,1.3,0.3\n",
      "versicolor,5.0,2.0,3.5,1.0\n",
      "versicolor,5.5,2.4,3.8,1.1\n",
      "virginica,6.3,3.3,6.0,2.5\n",
      "virginica,6.9,3.2,5.7,2.3\n",
      "virginica,6.7,3.1,5.6,2.4\n"
     ]
    }
   ],
   "source": [
    "# Move the string to the start of the numbers.\n",
    "for line in lines[::20]:\n",
    "    print(re.sub(r'([0-9]+\\.[0-9]+),([0-9]+\\.[0-9]+),([0-9]+\\.[0-9]+),([0-9]+\\.[0-9]+),(.*)', r'\\5,\\1,\\2,\\3,\\4', line))"
   ]
  },
  {
   "cell_type": "code",
   "execution_count": 63,
   "id": "cbf9c34e-a449-48c8-859a-71d53135e10b",
   "metadata": {},
   "outputs": [
    {
     "name": "stdout",
     "output_type": "stream",
     "text": [
      "setosa,0.2,1.4,3.5,5.1\n",
      "setosa,0.2,1.7,3.4,5.4\n",
      "setosa,0.3,1.3,3.5,5.0\n",
      "versicolor,1.0,3.5,2.0,5.0\n",
      "versicolor,1.1,3.8,2.4,5.5\n",
      "virginica,2.5,6.0,3.3,6.3\n",
      "virginica,2.3,5.7,3.2,6.9\n",
      "virginica,2.4,5.6,3.1,6.7\n"
     ]
    }
   ],
   "source": [
    "# Move the string to the start of the numbers and reverse the numbers.\n",
    "for line in lines[::20]:\n",
    "    print(re.sub(r'([0-9]+\\.[0-9]+),([0-9]+\\.[0-9]+),([0-9]+\\.[0-9]+),([0-9]+\\.[0-9]+),(.*)', r'\\5,\\4,\\3,\\2,\\1', line))"
   ]
  },
  {
   "cell_type": "markdown",
   "id": "a8d8c888-4e6f-409f-9e42-43ba23440df3",
   "metadata": {},
   "source": [
    "***\n",
    "\n",
    "## End"
   ]
  }
 ],
 "metadata": {
  "kernelspec": {
   "display_name": "Python 3 (ipykernel)",
   "language": "python",
   "name": "python3"
  },
  "language_info": {
   "codemirror_mode": {
    "name": "ipython",
    "version": 3
   },
   "file_extension": ".py",
   "mimetype": "text/x-python",
   "name": "python",
   "nbconvert_exporter": "python",
   "pygments_lexer": "ipython3",
   "version": "3.9.7"
  }
 },
 "nbformat": 4,
 "nbformat_minor": 5
}
