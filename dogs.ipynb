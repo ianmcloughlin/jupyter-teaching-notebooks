{
 "cells": [
  {
   "cell_type": "markdown",
   "metadata": {},
   "source": [
    "# Dogs"
   ]
  },
  {
   "cell_type": "code",
   "execution_count": 1,
   "metadata": {},
   "outputs": [
    {
     "name": "stderr",
     "output_type": "stream",
     "text": [
      "Using TensorFlow backend.\n"
     ]
    }
   ],
   "source": [
    "# For neural networks.\n",
    "import keras as kr\n",
    "# For data frames.\n",
    "import pandas as pd\n",
    "# For numerical arrays.\n",
    "import numpy as np\n",
    "# For preprocessing data.\n",
    "import sklearn.preprocessing as pre\n",
    "# For splitting data sets.\n",
    "import sklearn.model_selection as mod\n",
    "# For whitening.\n",
    "import sklearn.decomposition as dec"
   ]
  },
  {
   "cell_type": "markdown",
   "metadata": {},
   "source": [
    "## Preparing"
   ]
  },
  {
   "cell_type": "code",
   "execution_count": 2,
   "metadata": {},
   "outputs": [
    {
     "data": {
      "text/html": [
       "<div>\n",
       "<style scoped>\n",
       "    .dataframe tbody tr th:only-of-type {\n",
       "        vertical-align: middle;\n",
       "    }\n",
       "\n",
       "    .dataframe tbody tr th {\n",
       "        vertical-align: top;\n",
       "    }\n",
       "\n",
       "    .dataframe thead th {\n",
       "        text-align: right;\n",
       "    }\n",
       "</style>\n",
       "<table border=\"1\" class=\"dataframe\">\n",
       "  <thead>\n",
       "    <tr style=\"text-align: right;\">\n",
       "      <th></th>\n",
       "      <th>pure</th>\n",
       "      <th>age</th>\n",
       "      <th>weight</th>\n",
       "      <th>height</th>\n",
       "      <th>lifespan</th>\n",
       "    </tr>\n",
       "  </thead>\n",
       "  <tbody>\n",
       "    <tr>\n",
       "      <td>0</td>\n",
       "      <td>True</td>\n",
       "      <td>3</td>\n",
       "      <td>7.94</td>\n",
       "      <td>49.6</td>\n",
       "      <td>15</td>\n",
       "    </tr>\n",
       "    <tr>\n",
       "      <td>1</td>\n",
       "      <td>True</td>\n",
       "      <td>7</td>\n",
       "      <td>5.05</td>\n",
       "      <td>63.5</td>\n",
       "      <td>17</td>\n",
       "    </tr>\n",
       "    <tr>\n",
       "      <td>2</td>\n",
       "      <td>True</td>\n",
       "      <td>6</td>\n",
       "      <td>16.15</td>\n",
       "      <td>68.2</td>\n",
       "      <td>11</td>\n",
       "    </tr>\n",
       "    <tr>\n",
       "      <td>3</td>\n",
       "      <td>False</td>\n",
       "      <td>3</td>\n",
       "      <td>15.50</td>\n",
       "      <td>64.7</td>\n",
       "      <td>12</td>\n",
       "    </tr>\n",
       "    <tr>\n",
       "      <td>4</td>\n",
       "      <td>False</td>\n",
       "      <td>3</td>\n",
       "      <td>12.17</td>\n",
       "      <td>59.7</td>\n",
       "      <td>14</td>\n",
       "    </tr>\n",
       "    <tr>\n",
       "      <td>...</td>\n",
       "      <td>...</td>\n",
       "      <td>...</td>\n",
       "      <td>...</td>\n",
       "      <td>...</td>\n",
       "      <td>...</td>\n",
       "    </tr>\n",
       "    <tr>\n",
       "      <td>95</td>\n",
       "      <td>False</td>\n",
       "      <td>4</td>\n",
       "      <td>20.76</td>\n",
       "      <td>52.2</td>\n",
       "      <td>10</td>\n",
       "    </tr>\n",
       "    <tr>\n",
       "      <td>96</td>\n",
       "      <td>False</td>\n",
       "      <td>4</td>\n",
       "      <td>17.40</td>\n",
       "      <td>47.5</td>\n",
       "      <td>11</td>\n",
       "    </tr>\n",
       "    <tr>\n",
       "      <td>97</td>\n",
       "      <td>False</td>\n",
       "      <td>6</td>\n",
       "      <td>15.60</td>\n",
       "      <td>51.4</td>\n",
       "      <td>12</td>\n",
       "    </tr>\n",
       "    <tr>\n",
       "      <td>98</td>\n",
       "      <td>False</td>\n",
       "      <td>3</td>\n",
       "      <td>8.37</td>\n",
       "      <td>54.1</td>\n",
       "      <td>16</td>\n",
       "    </tr>\n",
       "    <tr>\n",
       "      <td>99</td>\n",
       "      <td>True</td>\n",
       "      <td>7</td>\n",
       "      <td>9.09</td>\n",
       "      <td>50.3</td>\n",
       "      <td>14</td>\n",
       "    </tr>\n",
       "  </tbody>\n",
       "</table>\n",
       "<p>100 rows × 5 columns</p>\n",
       "</div>"
      ],
      "text/plain": [
       "     pure  age  weight  height  lifespan\n",
       "0    True    3    7.94    49.6        15\n",
       "1    True    7    5.05    63.5        17\n",
       "2    True    6   16.15    68.2        11\n",
       "3   False    3   15.50    64.7        12\n",
       "4   False    3   12.17    59.7        14\n",
       "..    ...  ...     ...     ...       ...\n",
       "95  False    4   20.76    52.2        10\n",
       "96  False    4   17.40    47.5        11\n",
       "97  False    6   15.60    51.4        12\n",
       "98  False    3    8.37    54.1        16\n",
       "99   True    7    9.09    50.3        14\n",
       "\n",
       "[100 rows x 5 columns]"
      ]
     },
     "execution_count": 2,
     "metadata": {},
     "output_type": "execute_result"
    }
   ],
   "source": [
    "df = pd.read_csv(\"https://raw.githubusercontent.com/ianmcloughlin/datasets/master/dogs.csv\")\n",
    "df"
   ]
  },
  {
   "cell_type": "code",
   "execution_count": 3,
   "metadata": {},
   "outputs": [],
   "source": [
    "pureenc = pre.LabelBinarizer()\n",
    "pureenc.fit(df['pure'])\n",
    "df['pureenc'] = pureenc.transform(df['pure'])"
   ]
  },
  {
   "cell_type": "code",
   "execution_count": 4,
   "metadata": {},
   "outputs": [],
   "source": [
    "x = df[['pureenc', 'age', 'weight', 'height']]\n",
    "y = df['lifespan']"
   ]
  },
  {
   "cell_type": "code",
   "execution_count": 5,
   "metadata": {},
   "outputs": [
    {
     "data": {
      "text/html": [
       "<div>\n",
       "<style scoped>\n",
       "    .dataframe tbody tr th:only-of-type {\n",
       "        vertical-align: middle;\n",
       "    }\n",
       "\n",
       "    .dataframe tbody tr th {\n",
       "        vertical-align: top;\n",
       "    }\n",
       "\n",
       "    .dataframe thead th {\n",
       "        text-align: right;\n",
       "    }\n",
       "</style>\n",
       "<table border=\"1\" class=\"dataframe\">\n",
       "  <thead>\n",
       "    <tr style=\"text-align: right;\">\n",
       "      <th></th>\n",
       "      <th>pureenc</th>\n",
       "      <th>age</th>\n",
       "      <th>weight</th>\n",
       "      <th>height</th>\n",
       "    </tr>\n",
       "  </thead>\n",
       "  <tbody>\n",
       "    <tr>\n",
       "      <td>0</td>\n",
       "      <td>1</td>\n",
       "      <td>3</td>\n",
       "      <td>7.94</td>\n",
       "      <td>49.6</td>\n",
       "    </tr>\n",
       "    <tr>\n",
       "      <td>1</td>\n",
       "      <td>1</td>\n",
       "      <td>7</td>\n",
       "      <td>5.05</td>\n",
       "      <td>63.5</td>\n",
       "    </tr>\n",
       "    <tr>\n",
       "      <td>2</td>\n",
       "      <td>1</td>\n",
       "      <td>6</td>\n",
       "      <td>16.15</td>\n",
       "      <td>68.2</td>\n",
       "    </tr>\n",
       "    <tr>\n",
       "      <td>3</td>\n",
       "      <td>0</td>\n",
       "      <td>3</td>\n",
       "      <td>15.50</td>\n",
       "      <td>64.7</td>\n",
       "    </tr>\n",
       "    <tr>\n",
       "      <td>4</td>\n",
       "      <td>0</td>\n",
       "      <td>3</td>\n",
       "      <td>12.17</td>\n",
       "      <td>59.7</td>\n",
       "    </tr>\n",
       "    <tr>\n",
       "      <td>...</td>\n",
       "      <td>...</td>\n",
       "      <td>...</td>\n",
       "      <td>...</td>\n",
       "      <td>...</td>\n",
       "    </tr>\n",
       "    <tr>\n",
       "      <td>95</td>\n",
       "      <td>0</td>\n",
       "      <td>4</td>\n",
       "      <td>20.76</td>\n",
       "      <td>52.2</td>\n",
       "    </tr>\n",
       "    <tr>\n",
       "      <td>96</td>\n",
       "      <td>0</td>\n",
       "      <td>4</td>\n",
       "      <td>17.40</td>\n",
       "      <td>47.5</td>\n",
       "    </tr>\n",
       "    <tr>\n",
       "      <td>97</td>\n",
       "      <td>0</td>\n",
       "      <td>6</td>\n",
       "      <td>15.60</td>\n",
       "      <td>51.4</td>\n",
       "    </tr>\n",
       "    <tr>\n",
       "      <td>98</td>\n",
       "      <td>0</td>\n",
       "      <td>3</td>\n",
       "      <td>8.37</td>\n",
       "      <td>54.1</td>\n",
       "    </tr>\n",
       "    <tr>\n",
       "      <td>99</td>\n",
       "      <td>1</td>\n",
       "      <td>7</td>\n",
       "      <td>9.09</td>\n",
       "      <td>50.3</td>\n",
       "    </tr>\n",
       "  </tbody>\n",
       "</table>\n",
       "<p>100 rows × 4 columns</p>\n",
       "</div>"
      ],
      "text/plain": [
       "    pureenc  age  weight  height\n",
       "0         1    3    7.94    49.6\n",
       "1         1    7    5.05    63.5\n",
       "2         1    6   16.15    68.2\n",
       "3         0    3   15.50    64.7\n",
       "4         0    3   12.17    59.7\n",
       "..      ...  ...     ...     ...\n",
       "95        0    4   20.76    52.2\n",
       "96        0    4   17.40    47.5\n",
       "97        0    6   15.60    51.4\n",
       "98        0    3    8.37    54.1\n",
       "99        1    7    9.09    50.3\n",
       "\n",
       "[100 rows x 4 columns]"
      ]
     },
     "execution_count": 5,
     "metadata": {},
     "output_type": "execute_result"
    }
   ],
   "source": [
    "x"
   ]
  },
  {
   "cell_type": "code",
   "execution_count": 6,
   "metadata": {},
   "outputs": [
    {
     "data": {
      "text/plain": [
       "0     15\n",
       "1     17\n",
       "2     11\n",
       "3     12\n",
       "4     14\n",
       "      ..\n",
       "95    10\n",
       "96    11\n",
       "97    12\n",
       "98    16\n",
       "99    14\n",
       "Name: lifespan, Length: 100, dtype: int64"
      ]
     },
     "execution_count": 6,
     "metadata": {},
     "output_type": "execute_result"
    }
   ],
   "source": [
    "y"
   ]
  },
  {
   "cell_type": "code",
   "execution_count": 7,
   "metadata": {},
   "outputs": [],
   "source": [
    "x_train, x_test, y_train, y_test = mod.train_test_split(x, y, test_size=0.3)"
   ]
  },
  {
   "cell_type": "markdown",
   "metadata": {},
   "source": [
    "## Building and training"
   ]
  },
  {
   "cell_type": "code",
   "execution_count": 8,
   "metadata": {},
   "outputs": [
    {
     "name": "stdout",
     "output_type": "stream",
     "text": [
      "WARNING:tensorflow:From C:\\Users\\mclou\\Anaconda3\\lib\\site-packages\\keras\\backend\\tensorflow_backend.py:74: The name tf.get_default_graph is deprecated. Please use tf.compat.v1.get_default_graph instead.\n",
      "\n",
      "WARNING:tensorflow:From C:\\Users\\mclou\\Anaconda3\\lib\\site-packages\\keras\\backend\\tensorflow_backend.py:517: The name tf.placeholder is deprecated. Please use tf.compat.v1.placeholder instead.\n",
      "\n",
      "WARNING:tensorflow:From C:\\Users\\mclou\\Anaconda3\\lib\\site-packages\\keras\\backend\\tensorflow_backend.py:4138: The name tf.random_uniform is deprecated. Please use tf.random.uniform instead.\n",
      "\n",
      "WARNING:tensorflow:From C:\\Users\\mclou\\Anaconda3\\lib\\site-packages\\keras\\optimizers.py:790: The name tf.train.Optimizer is deprecated. Please use tf.compat.v1.train.Optimizer instead.\n",
      "\n"
     ]
    }
   ],
   "source": [
    "m = kr.models.Sequential()\n",
    "\n",
    "m.add(kr.layers.Dense(20, input_dim=4, activation=\"relu\"))\n",
    "m.add(kr.layers.Dense(1, activation=\"linear\"))\n",
    "\n",
    "m.compile(loss=\"mean_squared_error\", optimizer=\"adam\")"
   ]
  },
  {
   "cell_type": "code",
   "execution_count": 9,
   "metadata": {},
   "outputs": [
    {
     "name": "stdout",
     "output_type": "stream",
     "text": [
      "WARNING:tensorflow:From C:\\Users\\mclou\\Anaconda3\\lib\\site-packages\\keras\\backend\\tensorflow_backend.py:986: The name tf.assign_add is deprecated. Please use tf.compat.v1.assign_add instead.\n",
      "\n",
      "WARNING:tensorflow:From C:\\Users\\mclou\\Anaconda3\\lib\\site-packages\\keras\\backend\\tensorflow_backend.py:973: The name tf.assign is deprecated. Please use tf.compat.v1.assign instead.\n",
      "\n",
      "Epoch 1/100\n",
      "70/70 [==============================] - 1s 20ms/step - loss: 82.2761\n",
      "Epoch 2/100\n",
      "70/70 [==============================] - 0s 692us/step - loss: 67.1725\n",
      "Epoch 3/100\n",
      "70/70 [==============================] - 0s 422us/step - loss: 53.3654\n",
      "Epoch 4/100\n",
      "70/70 [==============================] - 0s 289us/step - loss: 41.6396\n",
      "Epoch 5/100\n",
      "70/70 [==============================] - 0s 946us/step - loss: 31.3539\n",
      "Epoch 6/100\n",
      "70/70 [==============================] - 0s 522us/step - loss: 23.0326\n",
      "Epoch 7/100\n",
      "70/70 [==============================] - 0s 357us/step - loss: 17.3949\n",
      "Epoch 8/100\n",
      "70/70 [==============================] - 0s 557us/step - loss: 13.7291\n",
      "Epoch 9/100\n",
      "70/70 [==============================] - 0s 390us/step - loss: 11.4647\n",
      "Epoch 10/100\n",
      "70/70 [==============================] - 0s 576us/step - loss: 10.7647\n",
      "Epoch 11/100\n",
      "70/70 [==============================] - ETA: 0s - loss: 10.29 - 0s 667us/step - loss: 10.5220\n",
      "Epoch 12/100\n",
      "70/70 [==============================] - 0s 435us/step - loss: 10.4761\n",
      "Epoch 13/100\n",
      "70/70 [==============================] - 0s 459us/step - loss: 10.3777\n",
      "Epoch 14/100\n",
      "70/70 [==============================] - 0s 418us/step - loss: 10.3235\n",
      "Epoch 15/100\n",
      "70/70 [==============================] - 0s 338us/step - loss: 10.2707\n",
      "Epoch 16/100\n",
      "70/70 [==============================] - 0s 411us/step - loss: 10.2266\n",
      "Epoch 17/100\n",
      "70/70 [==============================] - 0s 497us/step - loss: 10.1489\n",
      "Epoch 18/100\n",
      "70/70 [==============================] - 0s 484us/step - loss: 10.0842\n",
      "Epoch 19/100\n",
      "70/70 [==============================] - 0s 302us/step - loss: 10.0381\n",
      "Epoch 20/100\n",
      "70/70 [==============================] - 0s 266us/step - loss: 9.9915\n",
      "Epoch 21/100\n",
      "70/70 [==============================] - 0s 247us/step - loss: 9.9914\n",
      "Epoch 22/100\n",
      "70/70 [==============================] - 0s 215us/step - loss: 9.9310\n",
      "Epoch 23/100\n",
      "70/70 [==============================] - 0s 247us/step - loss: 9.8634\n",
      "Epoch 24/100\n",
      "70/70 [==============================] - 0s 317us/step - loss: 9.8128\n",
      "Epoch 25/100\n",
      "70/70 [==============================] - 0s 280us/step - loss: 9.7799\n",
      "Epoch 26/100\n",
      "70/70 [==============================] - 0s 447us/step - loss: 9.7363\n",
      "Epoch 27/100\n",
      "70/70 [==============================] - 0s 382us/step - loss: 9.7200\n",
      "Epoch 28/100\n",
      "70/70 [==============================] - 0s 317us/step - loss: 9.6617\n",
      "Epoch 29/100\n",
      "70/70 [==============================] - 0s 462us/step - loss: 9.6107\n",
      "Epoch 30/100\n",
      "70/70 [==============================] - 0s 360us/step - loss: 9.6162\n",
      "Epoch 31/100\n",
      "70/70 [==============================] - 0s 433us/step - loss: 9.5384\n",
      "Epoch 32/100\n",
      "70/70 [==============================] - 0s 283us/step - loss: 9.4969\n",
      "Epoch 33/100\n",
      "70/70 [==============================] - 0s 331us/step - loss: 9.4572\n",
      "Epoch 34/100\n",
      "70/70 [==============================] - 0s 495us/step - loss: 9.4314\n",
      "Epoch 35/100\n",
      "70/70 [==============================] - 0s 318us/step - loss: 9.3960\n",
      "Epoch 36/100\n",
      "70/70 [==============================] - 0s 357us/step - loss: 9.3735\n",
      "Epoch 37/100\n",
      "70/70 [==============================] - 0s 484us/step - loss: 9.3285\n",
      "Epoch 38/100\n",
      "70/70 [==============================] - 0s 338us/step - loss: 9.3046\n",
      "Epoch 39/100\n",
      "70/70 [==============================] - 0s 300us/step - loss: 9.2933\n",
      "Epoch 40/100\n",
      "70/70 [==============================] - 0s 237us/step - loss: 9.2556\n",
      "Epoch 41/100\n",
      "70/70 [==============================] - 0s 433us/step - loss: 9.2031\n",
      "Epoch 42/100\n",
      "70/70 [==============================] - 0s 483us/step - loss: 9.1793\n",
      "Epoch 43/100\n",
      "70/70 [==============================] - 0s 469us/step - loss: 9.1638\n",
      "Epoch 44/100\n",
      "70/70 [==============================] - 0s 298us/step - loss: 9.1685\n",
      "Epoch 45/100\n",
      "70/70 [==============================] - 0s 396us/step - loss: 9.0885\n",
      "Epoch 46/100\n",
      "70/70 [==============================] - 0s 267us/step - loss: 9.0598\n",
      "Epoch 47/100\n",
      "70/70 [==============================] - 0s 471us/step - loss: 9.0490\n",
      "Epoch 48/100\n",
      "70/70 [==============================] - 0s 460us/step - loss: 9.0071\n",
      "Epoch 49/100\n",
      "70/70 [==============================] - 0s 445us/step - loss: 9.0192\n",
      "Epoch 50/100\n",
      "70/70 [==============================] - 0s 745us/step - loss: 8.9426\n",
      "Epoch 51/100\n",
      "70/70 [==============================] - 0s 228us/step - loss: 8.9896\n",
      "Epoch 52/100\n",
      "70/70 [==============================] - 0s 373us/step - loss: 8.9232\n",
      "Epoch 53/100\n",
      "70/70 [==============================] - 0s 498us/step - loss: 8.8778\n",
      "Epoch 54/100\n",
      "70/70 [==============================] - 0s 518us/step - loss: 8.8944\n",
      "Epoch 55/100\n",
      "70/70 [==============================] - 0s 245us/step - loss: 8.8366\n",
      "Epoch 56/100\n",
      "70/70 [==============================] - 0s 487us/step - loss: 8.8115\n",
      "Epoch 57/100\n",
      "70/70 [==============================] - 0s 305us/step - loss: 8.7740\n",
      "Epoch 58/100\n",
      "70/70 [==============================] - 0s 429us/step - loss: 8.7726\n",
      "Epoch 59/100\n",
      "70/70 [==============================] - 0s 328us/step - loss: 8.7519\n",
      "Epoch 60/100\n",
      "70/70 [==============================] - 0s 215us/step - loss: 8.8279\n",
      "Epoch 61/100\n",
      "70/70 [==============================] - 0s 192us/step - loss: 8.7753\n",
      "Epoch 62/100\n",
      "70/70 [==============================] - 0s 782us/step - loss: 8.6782\n",
      "Epoch 63/100\n",
      "70/70 [==============================] - 0s 311us/step - loss: 8.6576\n",
      "Epoch 64/100\n",
      "70/70 [==============================] - 0s 731us/step - loss: 8.6372\n",
      "Epoch 65/100\n",
      "70/70 [==============================] - 0s 229us/step - loss: 8.6175\n",
      "Epoch 66/100\n",
      "70/70 [==============================] - 0s 250us/step - loss: 8.6006\n",
      "Epoch 67/100\n",
      "70/70 [==============================] - 0s 444us/step - loss: 8.5786\n",
      "Epoch 68/100\n",
      "70/70 [==============================] - 0s 503us/step - loss: 8.5650\n",
      "Epoch 69/100\n",
      "70/70 [==============================] - 0s 220us/step - loss: 8.5685\n",
      "Epoch 70/100\n",
      "70/70 [==============================] - 0s 468us/step - loss: 8.5482\n",
      "Epoch 71/100\n",
      "70/70 [==============================] - 0s 236us/step - loss: 8.5696\n",
      "Epoch 72/100\n",
      "70/70 [==============================] - 0s 760us/step - loss: 8.4903\n",
      "Epoch 73/100\n",
      "70/70 [==============================] - 0s 260us/step - loss: 8.4781\n",
      "Epoch 74/100\n",
      "70/70 [==============================] - 0s 208us/step - loss: 8.4704\n",
      "Epoch 75/100\n",
      "70/70 [==============================] - 0s 565us/step - loss: 8.4438\n",
      "Epoch 76/100\n",
      "70/70 [==============================] - 0s 344us/step - loss: 8.4287\n",
      "Epoch 77/100\n",
      "70/70 [==============================] - 0s 513us/step - loss: 8.4249\n",
      "Epoch 78/100\n",
      "70/70 [==============================] - 0s 763us/step - loss: 8.4753\n",
      "Epoch 79/100\n",
      "70/70 [==============================] - 0s 432us/step - loss: 8.4190\n",
      "Epoch 80/100\n",
      "70/70 [==============================] - 0s 357us/step - loss: 8.4153\n",
      "Epoch 81/100\n",
      "70/70 [==============================] - 0s 695us/step - loss: 8.4126\n",
      "Epoch 82/100\n",
      "70/70 [==============================] - 0s 382us/step - loss: 8.3536\n",
      "Epoch 83/100\n",
      "70/70 [==============================] - 0s 266us/step - loss: 8.3587\n",
      "Epoch 84/100\n",
      "70/70 [==============================] - 0s 350us/step - loss: 8.3529\n",
      "Epoch 85/100\n",
      "70/70 [==============================] - 0s 247us/step - loss: 8.3182\n",
      "Epoch 86/100\n",
      "70/70 [==============================] - 0s 263us/step - loss: 8.3057\n",
      "Epoch 87/100\n",
      "70/70 [==============================] - 0s 756us/step - loss: 8.3287\n",
      "Epoch 88/100\n",
      "70/70 [==============================] - 0s 236us/step - loss: 8.3327\n",
      "Epoch 89/100\n",
      "70/70 [==============================] - 0s 167us/step - loss: 8.3229\n",
      "Epoch 90/100\n",
      "70/70 [==============================] - 0s 280us/step - loss: 8.2677\n",
      "Epoch 91/100\n",
      "70/70 [==============================] - 0s 209us/step - loss: 8.2756\n",
      "Epoch 92/100\n",
      "70/70 [==============================] - 0s 242us/step - loss: 8.2387\n",
      "Epoch 93/100\n",
      "70/70 [==============================] - 0s 234us/step - loss: 8.2565\n",
      "Epoch 94/100\n"
     ]
    },
    {
     "name": "stdout",
     "output_type": "stream",
     "text": [
      "70/70 [==============================] - 0s 248us/step - loss: 8.2692\n",
      "Epoch 95/100\n",
      "70/70 [==============================] - 0s 499us/step - loss: 8.2066\n",
      "Epoch 96/100\n",
      "70/70 [==============================] - 0s 833us/step - loss: 8.2100\n",
      "Epoch 97/100\n",
      "70/70 [==============================] - 0s 208us/step - loss: 8.1870\n",
      "Epoch 98/100\n",
      "70/70 [==============================] - 0s 426us/step - loss: 8.2335\n",
      "Epoch 99/100\n",
      "70/70 [==============================] - 0s 264us/step - loss: 8.2002\n",
      "Epoch 100/100\n",
      "70/70 [==============================] - 0s 256us/step - loss: 8.2091\n"
     ]
    },
    {
     "data": {
      "text/plain": [
       "<keras.callbacks.History at 0x26df76a0248>"
      ]
     },
     "execution_count": 9,
     "metadata": {},
     "output_type": "execute_result"
    }
   ],
   "source": [
    "m.fit(x_train, y_train, epochs=100, batch_size=10)"
   ]
  },
  {
   "cell_type": "code",
   "execution_count": 10,
   "metadata": {
    "scrolled": true
   },
   "outputs": [
    {
     "data": {
      "text/plain": [
       "array([[11., 11., 12.,  8., 12., 10.,  9.,  8., 11., 16.,  9.,  8., 13.,\n",
       "        16., 13., 13., 14., 13., 13., 12., 11., 13., 14., 18., 11., 12.,\n",
       "         9., 10., 12., 12.]], dtype=float32)"
      ]
     },
     "execution_count": 10,
     "metadata": {},
     "output_type": "execute_result"
    }
   ],
   "source": [
    "m.predict(x_test).round().T"
   ]
  },
  {
   "cell_type": "code",
   "execution_count": 11,
   "metadata": {},
   "outputs": [
    {
     "name": "stderr",
     "output_type": "stream",
     "text": [
      "C:\\Users\\mclou\\Anaconda3\\lib\\site-packages\\ipykernel_launcher.py:1: FutureWarning: Method .as_matrix will be removed in a future version. Use .values instead.\n",
      "  \"\"\"Entry point for launching an IPython kernel.\n"
     ]
    },
    {
     "data": {
      "text/plain": [
       "array([11., 10., 18., 12., 10., 11., 11.,  9., 12., 13., 15., 10., 14.,\n",
       "       17., 19., 15., 10., 16., 14., 10., 14., 12., 16., 17., 12., 16.,\n",
       "       10., 16., 15., 11.], dtype=float32)"
      ]
     },
     "execution_count": 11,
     "metadata": {},
     "output_type": "execute_result"
    }
   ],
   "source": [
    "y_test.as_matrix().astype(np.float32)"
   ]
  },
  {
   "cell_type": "code",
   "execution_count": 12,
   "metadata": {},
   "outputs": [
    {
     "name": "stdout",
     "output_type": "stream",
     "text": [
      "\r",
      "30/30 [==============================] - 0s 5ms/step\n"
     ]
    },
    {
     "data": {
      "text/plain": [
       "8.581741333007812"
      ]
     },
     "execution_count": 12,
     "metadata": {},
     "output_type": "execute_result"
    }
   ],
   "source": [
    "m.evaluate(x_test, y_test)"
   ]
  },
  {
   "cell_type": "markdown",
   "metadata": {},
   "source": [
    "## Scaling"
   ]
  },
  {
   "cell_type": "code",
   "execution_count": 13,
   "metadata": {},
   "outputs": [],
   "source": [
    "scaler = pre.StandardScaler()\n",
    "scaler.fit(x_train)\n",
    "x_train_scaled = scaler.transform(x_train)"
   ]
  },
  {
   "cell_type": "code",
   "execution_count": 14,
   "metadata": {},
   "outputs": [],
   "source": [
    "m = kr.models.Sequential()\n",
    "\n",
    "m.add(kr.layers.Dense(20, input_dim=4, activation=\"relu\"))\n",
    "m.add(kr.layers.Dense(1, activation=\"linear\"))\n",
    "\n",
    "m.compile(loss=\"mean_squared_error\", optimizer=\"adam\")"
   ]
  },
  {
   "cell_type": "code",
   "execution_count": 15,
   "metadata": {},
   "outputs": [
    {
     "name": "stdout",
     "output_type": "stream",
     "text": [
      "Epoch 1/100\n",
      "70/70 [==============================] - 1s 13ms/step - loss: 163.2016\n",
      "Epoch 2/100\n",
      "70/70 [==============================] - 0s 427us/step - loss: 161.3515\n",
      "Epoch 3/100\n",
      "70/70 [==============================] - 0s 218us/step - loss: 159.5960\n",
      "Epoch 4/100\n",
      "70/70 [==============================] - 0s 318us/step - loss: 157.8161\n",
      "Epoch 5/100\n",
      "70/70 [==============================] - 0s 395us/step - loss: 156.0170\n",
      "Epoch 6/100\n",
      "70/70 [==============================] - 0s 237us/step - loss: 154.2581\n",
      "Epoch 7/100\n",
      "70/70 [==============================] - 0s 209us/step - loss: 152.4640\n",
      "Epoch 8/100\n",
      "70/70 [==============================] - 0s 229us/step - loss: 150.7070\n",
      "Epoch 9/100\n",
      "70/70 [==============================] - 0s 271us/step - loss: 149.0008\n",
      "Epoch 10/100\n",
      "70/70 [==============================] - 0s 229us/step - loss: 147.2024\n",
      "Epoch 11/100\n",
      "70/70 [==============================] - 0s 176us/step - loss: 145.4305\n",
      "Epoch 12/100\n",
      "70/70 [==============================] - 0s 319us/step - loss: 143.6739\n",
      "Epoch 13/100\n",
      "70/70 [==============================] - 0s 315us/step - loss: 141.9573\n",
      "Epoch 14/100\n",
      "70/70 [==============================] - 0s 169us/step - loss: 140.1693\n",
      "Epoch 15/100\n",
      "70/70 [==============================] - 0s 235us/step - loss: 138.4405\n",
      "Epoch 16/100\n",
      "70/70 [==============================] - 0s 197us/step - loss: 136.6349\n",
      "Epoch 17/100\n",
      "70/70 [==============================] - 0s 239us/step - loss: 134.8403\n",
      "Epoch 18/100\n",
      "70/70 [==============================] - 0s 169us/step - loss: 133.0442\n",
      "Epoch 19/100\n",
      "70/70 [==============================] - 0s 361us/step - loss: 131.2053\n",
      "Epoch 20/100\n",
      "70/70 [==============================] - 0s 270us/step - loss: 129.4241\n",
      "Epoch 21/100\n",
      "70/70 [==============================] - 0s 319us/step - loss: 127.5999\n",
      "Epoch 22/100\n",
      "70/70 [==============================] - 0s 364us/step - loss: 125.7326\n",
      "Epoch 23/100\n",
      "70/70 [==============================] - 0s 354us/step - loss: 123.8895\n",
      "Epoch 24/100\n",
      "70/70 [==============================] - 0s 346us/step - loss: 122.0276\n",
      "Epoch 25/100\n",
      "70/70 [==============================] - 0s 335us/step - loss: 120.0885\n",
      "Epoch 26/100\n",
      "70/70 [==============================] - 0s 433us/step - loss: 118.2117\n",
      "Epoch 27/100\n",
      "70/70 [==============================] - 0s 229us/step - loss: 116.2602\n",
      "Epoch 28/100\n",
      "70/70 [==============================] - 0s 309us/step - loss: 114.3297\n",
      "Epoch 29/100\n",
      "70/70 [==============================] - 0s 280us/step - loss: 112.3752\n",
      "Epoch 30/100\n",
      "70/70 [==============================] - 0s 181us/step - loss: 110.3743\n",
      "Epoch 31/100\n",
      "70/70 [==============================] - 0s 462us/step - loss: 108.3487\n",
      "Epoch 32/100\n",
      "70/70 [==============================] - 0s 240us/step - loss: 106.3910\n",
      "Epoch 33/100\n",
      "70/70 [==============================] - ETA: 0s - loss: 108.608 - 0s 321us/step - loss: 104.3074\n",
      "Epoch 34/100\n",
      "70/70 [==============================] - 0s 95us/step - loss: 102.3108\n",
      "Epoch 35/100\n",
      "70/70 [==============================] - 0s 150us/step - loss: 100.1895\n",
      "Epoch 36/100\n",
      "70/70 [==============================] - 0s 268us/step - loss: 98.2057\n",
      "Epoch 37/100\n",
      "70/70 [==============================] - 0s 231us/step - loss: 96.0959\n",
      "Epoch 38/100\n",
      "70/70 [==============================] - 0s 299us/step - loss: 94.0763\n",
      "Epoch 39/100\n",
      "70/70 [==============================] - 0s 328us/step - loss: 91.9584\n",
      "Epoch 40/100\n",
      "70/70 [==============================] - 0s 349us/step - loss: 89.8344\n",
      "Epoch 41/100\n",
      "70/70 [==============================] - 0s 217us/step - loss: 87.7292\n",
      "Epoch 42/100\n",
      "70/70 [==============================] - 0s 157us/step - loss: 85.6332\n",
      "Epoch 43/100\n",
      "70/70 [==============================] - 0s 281us/step - loss: 83.5132\n",
      "Epoch 44/100\n",
      "70/70 [==============================] - 0s 328us/step - loss: 81.4320\n",
      "Epoch 45/100\n",
      "70/70 [==============================] - 0s 353us/step - loss: 79.3205\n",
      "Epoch 46/100\n",
      "70/70 [==============================] - 0s 379us/step - loss: 77.2475\n",
      "Epoch 47/100\n",
      "70/70 [==============================] - 0s 462us/step - loss: 75.2589\n",
      "Epoch 48/100\n",
      "70/70 [==============================] - 0s 251us/step - loss: 73.1112\n",
      "Epoch 49/100\n",
      "70/70 [==============================] - 0s 298us/step - loss: 71.0867\n",
      "Epoch 50/100\n",
      "70/70 [==============================] - 0s 240us/step - loss: 69.0887\n",
      "Epoch 51/100\n",
      "70/70 [==============================] - ETA: 0s - loss: 81.96 - 0s 306us/step - loss: 67.0896\n",
      "Epoch 52/100\n",
      "70/70 [==============================] - 0s 232us/step - loss: 65.0617\n",
      "Epoch 53/100\n",
      "70/70 [==============================] - 0s 289us/step - loss: 63.0843\n",
      "Epoch 54/100\n",
      "70/70 [==============================] - 0s 137us/step - loss: 61.1856\n",
      "Epoch 55/100\n",
      "70/70 [==============================] - 0s 321us/step - loss: 59.2197\n",
      "Epoch 56/100\n",
      "70/70 [==============================] - 0s 282us/step - loss: 57.3756\n",
      "Epoch 57/100\n",
      "70/70 [==============================] - 0s 210us/step - loss: 55.5002\n",
      "Epoch 58/100\n",
      "70/70 [==============================] - 0s 110us/step - loss: 53.6478\n",
      "Epoch 59/100\n",
      "70/70 [==============================] - 0s 113us/step - loss: 51.8574\n",
      "Epoch 60/100\n",
      "70/70 [==============================] - 0s 236us/step - loss: 50.0846\n",
      "Epoch 61/100\n",
      "70/70 [==============================] - 0s 292us/step - loss: 48.3359\n",
      "Epoch 62/100\n",
      "70/70 [==============================] - 0s 355us/step - loss: 46.6628\n",
      "Epoch 63/100\n",
      "70/70 [==============================] - 0s 267us/step - loss: 44.9722\n",
      "Epoch 64/100\n",
      "70/70 [==============================] - 0s 242us/step - loss: 43.3070\n",
      "Epoch 65/100\n",
      "70/70 [==============================] - 0s 196us/step - loss: 41.7246\n",
      "Epoch 66/100\n",
      "70/70 [==============================] - 0s 339us/step - loss: 40.1180\n",
      "Epoch 67/100\n",
      "70/70 [==============================] - 0s 350us/step - loss: 38.5942\n",
      "Epoch 68/100\n",
      "70/70 [==============================] - 0s 339us/step - loss: 37.0664\n",
      "Epoch 69/100\n",
      "70/70 [==============================] - 0s 369us/step - loss: 35.6249\n",
      "Epoch 70/100\n",
      "70/70 [==============================] - 0s 219us/step - loss: 34.1969\n",
      "Epoch 71/100\n",
      "70/70 [==============================] - 0s 254us/step - loss: 32.8341\n",
      "Epoch 72/100\n",
      "70/70 [==============================] - 0s 255us/step - loss: 31.4789\n",
      "Epoch 73/100\n",
      "70/70 [==============================] - 0s 381us/step - loss: 30.1423\n",
      "Epoch 74/100\n",
      "70/70 [==============================] - 0s 346us/step - loss: 28.8645\n",
      "Epoch 75/100\n",
      "70/70 [==============================] - 0s 292us/step - loss: 27.6535\n",
      "Epoch 76/100\n",
      "70/70 [==============================] - 0s 266us/step - loss: 26.4875\n",
      "Epoch 77/100\n",
      "70/70 [==============================] - 0s 226us/step - loss: 25.3049\n",
      "Epoch 78/100\n",
      "70/70 [==============================] - 0s 467us/step - loss: 24.1778\n",
      "Epoch 79/100\n",
      "70/70 [==============================] - 0s 169us/step - loss: 23.1534\n",
      "Epoch 80/100\n",
      "70/70 [==============================] - 0s 256us/step - loss: 22.0908\n",
      "Epoch 81/100\n",
      "70/70 [==============================] - 0s 161us/step - loss: 21.0853\n",
      "Epoch 82/100\n",
      "70/70 [==============================] - 0s 296us/step - loss: 20.1253\n",
      "Epoch 83/100\n",
      "70/70 [==============================] - 0s 211us/step - loss: 19.2208\n",
      "Epoch 84/100\n",
      "70/70 [==============================] - 0s 175us/step - loss: 18.3440\n",
      "Epoch 85/100\n",
      "70/70 [==============================] - 0s 282us/step - loss: 17.4738\n",
      "Epoch 86/100\n",
      "70/70 [==============================] - 0s 343us/step - loss: 16.6541\n",
      "Epoch 87/100\n",
      "70/70 [==============================] - 0s 296us/step - loss: 15.8642\n",
      "Epoch 88/100\n",
      "70/70 [==============================] - 0s 296us/step - loss: 15.0896\n",
      "Epoch 89/100\n",
      "70/70 [==============================] - 0s 231us/step - loss: 14.3810\n",
      "Epoch 90/100\n",
      "70/70 [==============================] - 0s 58us/step - loss: 13.7196\n",
      "Epoch 91/100\n",
      "70/70 [==============================] - 0s 172us/step - loss: 13.0264\n",
      "Epoch 92/100\n",
      "70/70 [==============================] - 0s 529us/step - loss: 12.4084\n",
      "Epoch 93/100\n",
      "70/70 [==============================] - 0s 248us/step - loss: 11.8022\n",
      "Epoch 94/100\n",
      "70/70 [==============================] - 0s 315us/step - loss: 11.2260\n",
      "Epoch 95/100\n",
      "70/70 [==============================] - 0s 293us/step - loss: 10.6975\n",
      "Epoch 96/100\n",
      "70/70 [==============================] - 0s 194us/step - loss: 10.1607\n",
      "Epoch 97/100\n"
     ]
    },
    {
     "name": "stdout",
     "output_type": "stream",
     "text": [
      "70/70 [==============================] - 0s 440us/step - loss: 9.6727\n",
      "Epoch 98/100\n",
      "70/70 [==============================] - 0s 391us/step - loss: 9.2124\n",
      "Epoch 99/100\n",
      "70/70 [==============================] - 0s 471us/step - loss: 8.7634\n",
      "Epoch 100/100\n",
      "70/70 [==============================] - 0s 264us/step - loss: 8.3478\n"
     ]
    },
    {
     "data": {
      "text/plain": [
       "<keras.callbacks.History at 0x26df837da08>"
      ]
     },
     "execution_count": 15,
     "metadata": {},
     "output_type": "execute_result"
    }
   ],
   "source": [
    "m.fit(x_train_scaled, y_train, epochs=100, batch_size=10)"
   ]
  },
  {
   "cell_type": "code",
   "execution_count": 16,
   "metadata": {},
   "outputs": [
    {
     "data": {
      "text/plain": [
       "array([[ 9.,  8., 17., 12., 12.,  8., 13.,  6.,  9., 13., 15.,  9., 12.,\n",
       "        13., 17., 16., 11., 12., 11.,  9., 14., 10., 10., 13.,  7., 15.,\n",
       "         8., 16., 13.,  6.]], dtype=float32)"
      ]
     },
     "execution_count": 16,
     "metadata": {},
     "output_type": "execute_result"
    }
   ],
   "source": [
    "x_test_scaled = scaler.transform(x_test)\n",
    "m.predict(x_test_scaled).round().T"
   ]
  },
  {
   "cell_type": "code",
   "execution_count": 17,
   "metadata": {},
   "outputs": [
    {
     "name": "stderr",
     "output_type": "stream",
     "text": [
      "C:\\Users\\mclou\\Anaconda3\\lib\\site-packages\\ipykernel_launcher.py:1: FutureWarning: Method .as_matrix will be removed in a future version. Use .values instead.\n",
      "  \"\"\"Entry point for launching an IPython kernel.\n"
     ]
    },
    {
     "data": {
      "text/plain": [
       "array([11., 10., 18., 12., 10., 11., 11.,  9., 12., 13., 15., 10., 14.,\n",
       "       17., 19., 15., 10., 16., 14., 10., 14., 12., 16., 17., 12., 16.,\n",
       "       10., 16., 15., 11.], dtype=float32)"
      ]
     },
     "execution_count": 17,
     "metadata": {},
     "output_type": "execute_result"
    }
   ],
   "source": [
    "y_test.as_matrix().astype(np.float32)"
   ]
  },
  {
   "cell_type": "code",
   "execution_count": 18,
   "metadata": {},
   "outputs": [
    {
     "name": "stdout",
     "output_type": "stream",
     "text": [
      "\r",
      "30/30 [==============================] - 0s 3ms/step\n"
     ]
    },
    {
     "data": {
      "text/plain": [
       "7.1724853515625"
      ]
     },
     "execution_count": 18,
     "metadata": {},
     "output_type": "execute_result"
    }
   ],
   "source": [
    "m.evaluate(x_test_scaled, y_test)"
   ]
  },
  {
   "cell_type": "markdown",
   "metadata": {},
   "source": [
    "## Whitening"
   ]
  },
  {
   "cell_type": "code",
   "execution_count": 19,
   "metadata": {},
   "outputs": [
    {
     "data": {
      "text/html": [
       "<div>\n",
       "<style scoped>\n",
       "    .dataframe tbody tr th:only-of-type {\n",
       "        vertical-align: middle;\n",
       "    }\n",
       "\n",
       "    .dataframe tbody tr th {\n",
       "        vertical-align: top;\n",
       "    }\n",
       "\n",
       "    .dataframe thead th {\n",
       "        text-align: right;\n",
       "    }\n",
       "</style>\n",
       "<table border=\"1\" class=\"dataframe\">\n",
       "  <thead>\n",
       "    <tr style=\"text-align: right;\">\n",
       "      <th></th>\n",
       "      <th>pureenc</th>\n",
       "      <th>age</th>\n",
       "      <th>weight</th>\n",
       "      <th>height</th>\n",
       "    </tr>\n",
       "  </thead>\n",
       "  <tbody>\n",
       "    <tr>\n",
       "      <td>0</td>\n",
       "      <td>0.351231</td>\n",
       "      <td>-0.023006</td>\n",
       "      <td>-1.079929</td>\n",
       "      <td>-0.951374</td>\n",
       "    </tr>\n",
       "    <tr>\n",
       "      <td>1</td>\n",
       "      <td>-0.012764</td>\n",
       "      <td>-1.157900</td>\n",
       "      <td>-1.195173</td>\n",
       "      <td>-1.064293</td>\n",
       "    </tr>\n",
       "    <tr>\n",
       "      <td>2</td>\n",
       "      <td>0.941085</td>\n",
       "      <td>0.359779</td>\n",
       "      <td>-0.967660</td>\n",
       "      <td>-0.936212</td>\n",
       "    </tr>\n",
       "    <tr>\n",
       "      <td>3</td>\n",
       "      <td>0.743577</td>\n",
       "      <td>-1.088204</td>\n",
       "      <td>-0.515159</td>\n",
       "      <td>-1.113794</td>\n",
       "    </tr>\n",
       "    <tr>\n",
       "      <td>4</td>\n",
       "      <td>-0.611093</td>\n",
       "      <td>2.285833</td>\n",
       "      <td>-0.555464</td>\n",
       "      <td>-0.658486</td>\n",
       "    </tr>\n",
       "    <tr>\n",
       "      <td>...</td>\n",
       "      <td>...</td>\n",
       "      <td>...</td>\n",
       "      <td>...</td>\n",
       "      <td>...</td>\n",
       "    </tr>\n",
       "    <tr>\n",
       "      <td>65</td>\n",
       "      <td>0.894656</td>\n",
       "      <td>-1.621427</td>\n",
       "      <td>-0.512884</td>\n",
       "      <td>0.820352</td>\n",
       "    </tr>\n",
       "    <tr>\n",
       "      <td>66</td>\n",
       "      <td>0.197414</td>\n",
       "      <td>-0.899546</td>\n",
       "      <td>-0.027932</td>\n",
       "      <td>0.917350</td>\n",
       "    </tr>\n",
       "    <tr>\n",
       "      <td>67</td>\n",
       "      <td>-1.524036</td>\n",
       "      <td>-0.242519</td>\n",
       "      <td>-0.828242</td>\n",
       "      <td>-0.905044</td>\n",
       "    </tr>\n",
       "    <tr>\n",
       "      <td>68</td>\n",
       "      <td>-1.895772</td>\n",
       "      <td>-0.433372</td>\n",
       "      <td>0.782178</td>\n",
       "      <td>1.032982</td>\n",
       "    </tr>\n",
       "    <tr>\n",
       "      <td>69</td>\n",
       "      <td>-0.156841</td>\n",
       "      <td>-0.437033</td>\n",
       "      <td>1.055249</td>\n",
       "      <td>0.947214</td>\n",
       "    </tr>\n",
       "  </tbody>\n",
       "</table>\n",
       "<p>70 rows × 4 columns</p>\n",
       "</div>"
      ],
      "text/plain": [
       "     pureenc       age    weight    height\n",
       "0   0.351231 -0.023006 -1.079929 -0.951374\n",
       "1  -0.012764 -1.157900 -1.195173 -1.064293\n",
       "2   0.941085  0.359779 -0.967660 -0.936212\n",
       "3   0.743577 -1.088204 -0.515159 -1.113794\n",
       "4  -0.611093  2.285833 -0.555464 -0.658486\n",
       "..       ...       ...       ...       ...\n",
       "65  0.894656 -1.621427 -0.512884  0.820352\n",
       "66  0.197414 -0.899546 -0.027932  0.917350\n",
       "67 -1.524036 -0.242519 -0.828242 -0.905044\n",
       "68 -1.895772 -0.433372  0.782178  1.032982\n",
       "69 -0.156841 -0.437033  1.055249  0.947214\n",
       "\n",
       "[70 rows x 4 columns]"
      ]
     },
     "execution_count": 19,
     "metadata": {},
     "output_type": "execute_result"
    }
   ],
   "source": [
    "pca = dec.PCA(n_components=4, whiten=True)\n",
    "pca.fit(x_train)\n",
    "x_train_white = pd.DataFrame(pca.transform(x_train), columns=x.columns)\n",
    "x_train_white"
   ]
  },
  {
   "cell_type": "code",
   "execution_count": 20,
   "metadata": {},
   "outputs": [],
   "source": [
    "m = kr.models.Sequential()\n",
    "\n",
    "m.add(kr.layers.Dense(100, input_dim=4, activation=\"tanh\"))\n",
    "m.add(kr.layers.Dense(1, activation=\"linear\"))\n",
    "\n",
    "m.compile(loss=\"mean_squared_error\", optimizer=\"adam\")"
   ]
  },
  {
   "cell_type": "code",
   "execution_count": 21,
   "metadata": {},
   "outputs": [
    {
     "name": "stdout",
     "output_type": "stream",
     "text": [
      "Epoch 1/100\n",
      "70/70 [==============================] - 1s 11ms/step - loss: 153.6590\n",
      "Epoch 2/100\n",
      "70/70 [==============================] - 0s 267us/step - loss: 151.0955\n",
      "Epoch 3/100\n",
      "70/70 [==============================] - 0s 292us/step - loss: 148.5965\n",
      "Epoch 4/100\n",
      "70/70 [==============================] - 0s 266us/step - loss: 146.1226\n",
      "Epoch 5/100\n",
      "70/70 [==============================] - 0s 179us/step - loss: 143.5247\n",
      "Epoch 6/100\n",
      "70/70 [==============================] - 0s 341us/step - loss: 141.0165\n",
      "Epoch 7/100\n",
      "70/70 [==============================] - 0s 271us/step - loss: 138.2976\n",
      "Epoch 8/100\n",
      "70/70 [==============================] - 0s 253us/step - loss: 135.4856\n",
      "Epoch 9/100\n",
      "70/70 [==============================] - 0s 147us/step - loss: 132.6652\n",
      "Epoch 10/100\n",
      "70/70 [==============================] - 0s 286us/step - loss: 129.5296\n",
      "Epoch 11/100\n",
      "70/70 [==============================] - 0s 334us/step - loss: 126.3123\n",
      "Epoch 12/100\n",
      "70/70 [==============================] - 0s 201us/step - loss: 122.7954\n",
      "Epoch 13/100\n",
      "70/70 [==============================] - 0s 91us/step - loss: 119.1640\n",
      "Epoch 14/100\n",
      "70/70 [==============================] - 0s 292us/step - loss: 115.3656\n",
      "Epoch 15/100\n",
      "70/70 [==============================] - 0s 304us/step - loss: 111.4007\n",
      "Epoch 16/100\n",
      "70/70 [==============================] - 0s 468us/step - loss: 107.0749\n",
      "Epoch 17/100\n",
      "70/70 [==============================] - 0s 366us/step - loss: 102.7457\n",
      "Epoch 18/100\n",
      "70/70 [==============================] - 0s 208us/step - loss: 98.2631\n",
      "Epoch 19/100\n",
      "70/70 [==============================] - 0s 250us/step - loss: 93.3432\n",
      "Epoch 20/100\n",
      "70/70 [==============================] - 0s 210us/step - loss: 88.4370\n",
      "Epoch 21/100\n",
      "70/70 [==============================] - 0s 334us/step - loss: 83.4655\n",
      "Epoch 22/100\n",
      "70/70 [==============================] - 0s 423us/step - loss: 78.4366\n",
      "Epoch 23/100\n",
      "70/70 [==============================] - 0s 480us/step - loss: 73.2393\n",
      "Epoch 24/100\n",
      "70/70 [==============================] - 0s 287us/step - loss: 68.2374\n",
      "Epoch 25/100\n",
      "70/70 [==============================] - 0s 266us/step - loss: 63.0511\n",
      "Epoch 26/100\n",
      "70/70 [==============================] - 0s 320us/step - loss: 58.0331\n",
      "Epoch 27/100\n",
      "70/70 [==============================] - 0s 214us/step - loss: 53.0649\n",
      "Epoch 28/100\n",
      "70/70 [==============================] - 0s 256us/step - loss: 48.2517\n",
      "Epoch 29/100\n",
      "70/70 [==============================] - 0s 473us/step - loss: 43.6102\n",
      "Epoch 30/100\n",
      "70/70 [==============================] - 0s 177us/step - loss: 39.1670\n",
      "Epoch 31/100\n",
      "70/70 [==============================] - 0s 443us/step - loss: 34.9231\n",
      "Epoch 32/100\n",
      "70/70 [==============================] - 0s 289us/step - loss: 31.0093\n",
      "Epoch 33/100\n",
      "70/70 [==============================] - 0s 412us/step - loss: 27.2159\n",
      "Epoch 34/100\n",
      "70/70 [==============================] - 0s 219us/step - loss: 23.6932\n",
      "Epoch 35/100\n",
      "70/70 [==============================] - 0s 516us/step - loss: 20.5628\n",
      "Epoch 36/100\n",
      "70/70 [==============================] - 0s 278us/step - loss: 17.6994\n",
      "Epoch 37/100\n",
      "70/70 [==============================] - 0s 308us/step - loss: 15.0863\n",
      "Epoch 38/100\n",
      "70/70 [==============================] - 0s 272us/step - loss: 12.7628\n",
      "Epoch 39/100\n",
      "70/70 [==============================] - 0s 467us/step - loss: 10.7408\n",
      "Epoch 40/100\n",
      "70/70 [==============================] - 0s 218us/step - loss: 8.9322\n",
      "Epoch 41/100\n",
      "70/70 [==============================] - 0s 469us/step - loss: 7.3697\n",
      "Epoch 42/100\n",
      "70/70 [==============================] - 0s 240us/step - loss: 6.0537\n",
      "Epoch 43/100\n",
      "70/70 [==============================] - 0s 335us/step - loss: 4.9524\n",
      "Epoch 44/100\n",
      "70/70 [==============================] - 0s 132us/step - loss: 3.9987\n",
      "Epoch 45/100\n",
      "70/70 [==============================] - 0s 320us/step - loss: 3.2156\n",
      "Epoch 46/100\n",
      "70/70 [==============================] - 0s 237us/step - loss: 2.5836\n",
      "Epoch 47/100\n",
      "70/70 [==============================] - 0s 251us/step - loss: 2.0591\n",
      "Epoch 48/100\n",
      "70/70 [==============================] - 0s 307us/step - loss: 1.6398\n",
      "Epoch 49/100\n",
      "70/70 [==============================] - 0s 151us/step - loss: 1.3177\n",
      "Epoch 50/100\n",
      "70/70 [==============================] - 0s 266us/step - loss: 1.0534\n",
      "Epoch 51/100\n",
      "70/70 [==============================] - 0s 524us/step - loss: 0.8552\n",
      "Epoch 52/100\n",
      "70/70 [==============================] - 0s 213us/step - loss: 0.6993\n",
      "Epoch 53/100\n",
      "70/70 [==============================] - 0s 162us/step - loss: 0.5739\n",
      "Epoch 54/100\n",
      "70/70 [==============================] - 0s 447us/step - loss: 0.4856\n",
      "Epoch 55/100\n",
      "70/70 [==============================] - 0s 222us/step - loss: 0.4174\n",
      "Epoch 56/100\n",
      "70/70 [==============================] - 0s 272us/step - loss: 0.3645\n",
      "Epoch 57/100\n",
      "70/70 [==============================] - 0s 444us/step - loss: 0.3275\n",
      "Epoch 58/100\n",
      "70/70 [==============================] - 0s 225us/step - loss: 0.3012\n",
      "Epoch 59/100\n",
      "70/70 [==============================] - 0s 259us/step - loss: 0.2790\n",
      "Epoch 60/100\n",
      "70/70 [==============================] - 0s 284us/step - loss: 0.2675\n",
      "Epoch 61/100\n",
      "70/70 [==============================] - 0s 250us/step - loss: 0.2567\n",
      "Epoch 62/100\n",
      "70/70 [==============================] - 0s 432us/step - loss: 0.2487\n",
      "Epoch 63/100\n",
      "70/70 [==============================] - 0s 263us/step - loss: 0.2424\n",
      "Epoch 64/100\n",
      "70/70 [==============================] - 0s 312us/step - loss: 0.2401\n",
      "Epoch 65/100\n",
      "70/70 [==============================] - 0s 238us/step - loss: 0.2366\n",
      "Epoch 66/100\n",
      "70/70 [==============================] - 0s 253us/step - loss: 0.2347\n",
      "Epoch 67/100\n",
      "70/70 [==============================] - 0s 155us/step - loss: 0.2338\n",
      "Epoch 68/100\n",
      "70/70 [==============================] - 0s 286us/step - loss: 0.2332\n",
      "Epoch 69/100\n",
      "70/70 [==============================] - 0s 286us/step - loss: 0.2313\n",
      "Epoch 70/100\n",
      "70/70 [==============================] - 0s 311us/step - loss: 0.2301\n",
      "Epoch 71/100\n",
      "70/70 [==============================] - 0s 292us/step - loss: 0.2296\n",
      "Epoch 72/100\n",
      "70/70 [==============================] - 0s 242us/step - loss: 0.2294\n",
      "Epoch 73/100\n",
      "70/70 [==============================] - 0s 660us/step - loss: 0.2289\n",
      "Epoch 74/100\n",
      "70/70 [==============================] - 0s 236us/step - loss: 0.2293\n",
      "Epoch 75/100\n",
      "70/70 [==============================] - 0s 200us/step - loss: 0.2282\n",
      "Epoch 76/100\n",
      "70/70 [==============================] - 0s 421us/step - loss: 0.2287\n",
      "Epoch 77/100\n",
      "70/70 [==============================] - 0s 483us/step - loss: 0.2280\n",
      "Epoch 78/100\n",
      "70/70 [==============================] - 0s 228us/step - loss: 0.2277\n",
      "Epoch 79/100\n",
      "70/70 [==============================] - 0s 354us/step - loss: 0.2274\n",
      "Epoch 80/100\n",
      "70/70 [==============================] - 0s 289us/step - loss: 0.2262\n",
      "Epoch 81/100\n",
      "70/70 [==============================] - 0s 247us/step - loss: 0.2268\n",
      "Epoch 82/100\n",
      "70/70 [==============================] - 0s 181us/step - loss: 0.2268\n",
      "Epoch 83/100\n",
      "70/70 [==============================] - 0s 293us/step - loss: 0.2261\n",
      "Epoch 84/100\n",
      "70/70 [==============================] - 0s 467us/step - loss: 0.2253\n",
      "Epoch 85/100\n",
      "70/70 [==============================] - 0s 243us/step - loss: 0.2247\n",
      "Epoch 86/100\n",
      "70/70 [==============================] - 0s 557us/step - loss: 0.2246\n",
      "Epoch 87/100\n",
      "70/70 [==============================] - 0s 279us/step - loss: 0.2250\n",
      "Epoch 88/100\n",
      "70/70 [==============================] - 0s 277us/step - loss: 0.2248\n",
      "Epoch 89/100\n",
      "70/70 [==============================] - 0s 460us/step - loss: 0.2236\n",
      "Epoch 90/100\n",
      "70/70 [==============================] - 0s 961us/step - loss: 0.2232\n",
      "Epoch 91/100\n",
      "70/70 [==============================] - 0s 422us/step - loss: 0.2233\n",
      "Epoch 92/100\n",
      "70/70 [==============================] - 0s 727us/step - loss: 0.2234\n",
      "Epoch 93/100\n",
      "70/70 [==============================] - 0s 366us/step - loss: 0.2226\n",
      "Epoch 94/100\n",
      "70/70 [==============================] - 0s 419us/step - loss: 0.2219\n",
      "Epoch 95/100\n",
      "70/70 [==============================] - 0s 499us/step - loss: 0.2215\n",
      "Epoch 96/100\n",
      "70/70 [==============================] - 0s 586us/step - loss: 0.2214\n",
      "Epoch 97/100\n",
      "70/70 [==============================] - 0s 294us/step - loss: 0.2210\n",
      "Epoch 98/100\n",
      "70/70 [==============================] - 0s 387us/step - loss: 0.2208\n",
      "Epoch 99/100\n"
     ]
    },
    {
     "name": "stdout",
     "output_type": "stream",
     "text": [
      "70/70 [==============================] - 0s 402us/step - loss: 0.2212\n",
      "Epoch 100/100\n",
      "70/70 [==============================] - 0s 416us/step - loss: 0.2211\n"
     ]
    },
    {
     "data": {
      "text/plain": [
       "<keras.callbacks.History at 0x26df96f1e08>"
      ]
     },
     "execution_count": 21,
     "metadata": {},
     "output_type": "execute_result"
    }
   ],
   "source": [
    "m.fit(x_train_white, y_train, epochs=100, batch_size=10)"
   ]
  },
  {
   "cell_type": "code",
   "execution_count": 22,
   "metadata": {},
   "outputs": [
    {
     "data": {
      "text/plain": [
       "array([[14., 12.,  7., 10., 17., 13., 18., 12., 11., 14., 14., 17.,  7.,\n",
       "        14., 13., 17., 14., 13., 16., 10., 16.,  6.,  9., 14., 12., 10.,\n",
       "        10., 11., 15.,  9.]], dtype=float32)"
      ]
     },
     "execution_count": 22,
     "metadata": {},
     "output_type": "execute_result"
    }
   ],
   "source": [
    "x_test_white = scaler.transform(x_test)\n",
    "m.predict(x_test_white).round().T"
   ]
  },
  {
   "cell_type": "code",
   "execution_count": 23,
   "metadata": {},
   "outputs": [
    {
     "name": "stderr",
     "output_type": "stream",
     "text": [
      "C:\\Users\\mclou\\Anaconda3\\lib\\site-packages\\ipykernel_launcher.py:1: FutureWarning: Method .as_matrix will be removed in a future version. Use .values instead.\n",
      "  \"\"\"Entry point for launching an IPython kernel.\n"
     ]
    },
    {
     "data": {
      "text/plain": [
       "array([11., 10., 18., 12., 10., 11., 11.,  9., 12., 13., 15., 10., 14.,\n",
       "       17., 19., 15., 10., 16., 14., 10., 14., 12., 16., 17., 12., 16.,\n",
       "       10., 16., 15., 11.], dtype=float32)"
      ]
     },
     "execution_count": 23,
     "metadata": {},
     "output_type": "execute_result"
    }
   ],
   "source": [
    "y_test.as_matrix().astype(np.float32)"
   ]
  },
  {
   "cell_type": "code",
   "execution_count": 24,
   "metadata": {},
   "outputs": [
    {
     "name": "stdout",
     "output_type": "stream",
     "text": [
      "\r",
      "30/30 [==============================] - 1s 32ms/step\n"
     ]
    },
    {
     "data": {
      "text/plain": [
       "19.537107467651367"
      ]
     },
     "execution_count": 24,
     "metadata": {},
     "output_type": "execute_result"
    }
   ],
   "source": [
    "m.evaluate(x_test_white, y_test)"
   ]
  },
  {
   "cell_type": "markdown",
   "metadata": {},
   "source": [
    "## End"
   ]
  }
 ],
 "metadata": {
  "kernelspec": {
   "display_name": "Python 3",
   "language": "python",
   "name": "python3"
  },
  "language_info": {
   "codemirror_mode": {
    "name": "ipython",
    "version": 3
   },
   "file_extension": ".py",
   "mimetype": "text/x-python",
   "name": "python",
   "nbconvert_exporter": "python",
   "pygments_lexer": "ipython3",
   "version": "3.7.4"
  }
 },
 "nbformat": 4,
 "nbformat_minor": 2
}
