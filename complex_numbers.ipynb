{
 "cells": [
  {
   "cell_type": "markdown",
   "id": "25d1c555-c77d-4e82-9d88-6484bbe1b189",
   "metadata": {},
   "source": [
    "# Complex numbers\n",
    "\n",
    "***"
   ]
  },
  {
   "cell_type": "markdown",
   "id": "49bee14d-7c5d-4004-925f-49e3274b53ab",
   "metadata": {},
   "source": [
    "<br>\n",
    "$\\large a + b i \\qquad \\qquad a, b \\in \\mathbb{R} \\qquad \\qquad i^2 = 1 \\qquad \\qquad \\mathrm{e.g.} -2.0 + 5.0 i$"
   ]
  },
  {
   "cell_type": "markdown",
   "id": "a77ab45a-dbab-4b54-9550-b94dd7fcf477",
   "metadata": {},
   "source": [
    "<br>\n",
    "\n",
    "## Setup\n",
    "\n",
    "***"
   ]
  },
  {
   "cell_type": "code",
   "execution_count": 1,
   "id": "2518f4a3-5545-4567-8ce8-b728c09e8e54",
   "metadata": {},
   "outputs": [],
   "source": [
    "# Plotting.\n",
    "import matplotlib.pyplot as plt\n",
    "# Numerical arrays.\n",
    "import numpy as np"
   ]
  },
  {
   "cell_type": "code",
   "execution_count": 2,
   "id": "dcf8633e-8cde-4fea-9307-9acfc6f75882",
   "metadata": {},
   "outputs": [],
   "source": [
    "# Plots size.\n",
    "plt.rcParams['figure.figsize'] = (20, 10)\n",
    "# Plot style.\n",
    "plt.style.use('seaborn-whitegrid')"
   ]
  },
  {
   "cell_type": "markdown",
   "id": "a18a1fa8-abff-4a5b-8a7b-29acc7cbef20",
   "metadata": {},
   "source": [
    "<br>\n",
    "\n",
    "## Built-in in Python\n",
    "\n",
    "***"
   ]
  },
  {
   "cell_type": "code",
   "execution_count": 3,
   "id": "9becddee-c9f9-4ec7-902b-240e9f262bc2",
   "metadata": {},
   "outputs": [
    {
     "data": {
      "text/plain": [
       "(-1+0j)"
      ]
     },
     "execution_count": 3,
     "metadata": {},
     "output_type": "execute_result"
    }
   ],
   "source": [
    "1.0j * 1.0j"
   ]
  },
  {
   "cell_type": "code",
   "execution_count": 4,
   "id": "fa5e0f53-db2e-4c3d-bfa0-2f02c69de313",
   "metadata": {},
   "outputs": [
    {
     "data": {
      "text/plain": [
       "(-2+5j)"
      ]
     },
     "execution_count": 4,
     "metadata": {},
     "output_type": "execute_result"
    }
   ],
   "source": [
    "x = -2.0 + 5.0j\n",
    "x"
   ]
  },
  {
   "cell_type": "code",
   "execution_count": 5,
   "id": "aa1ea975-74ca-49d9-85bf-8917581bd70f",
   "metadata": {},
   "outputs": [
    {
     "data": {
      "text/plain": [
       "(-21-20j)"
      ]
     },
     "execution_count": 5,
     "metadata": {},
     "output_type": "execute_result"
    }
   ],
   "source": [
    "x**2"
   ]
  },
  {
   "cell_type": "code",
   "execution_count": 6,
   "id": "39da22bf-3d5e-4008-847d-9e7d7586f222",
   "metadata": {},
   "outputs": [],
   "source": [
    "y = 3.0 + 1.5j"
   ]
  },
  {
   "cell_type": "code",
   "execution_count": 7,
   "id": "c14949c5-12fb-49bb-bf44-0f555e048267",
   "metadata": {},
   "outputs": [
    {
     "data": {
      "text/plain": [
       "(1+6.5j)"
      ]
     },
     "execution_count": 7,
     "metadata": {},
     "output_type": "execute_result"
    }
   ],
   "source": [
    "x + y"
   ]
  },
  {
   "cell_type": "code",
   "execution_count": 8,
   "id": "fa69aef5-34d8-4633-bbd5-2b83554fbcde",
   "metadata": {},
   "outputs": [
    {
     "data": {
      "text/plain": [
       "(-13.5+12j)"
      ]
     },
     "execution_count": 8,
     "metadata": {},
     "output_type": "execute_result"
    }
   ],
   "source": [
    "x * y"
   ]
  },
  {
   "cell_type": "markdown",
   "id": "be473d15-acee-4ec0-81b2-406025cf583f",
   "metadata": {},
   "source": [
    "<br>\n",
    "\n",
    "## As pairs\n",
    "\n",
    "***"
   ]
  },
  {
   "cell_type": "code",
   "execution_count": 9,
   "id": "6d3ea4db-b78e-4c48-9a88-621c6ffaf591",
   "metadata": {},
   "outputs": [
    {
     "data": {
      "text/plain": [
       "[-2.0, 5.0]"
      ]
     },
     "execution_count": 9,
     "metadata": {},
     "output_type": "execute_result"
    }
   ],
   "source": [
    "x = [-2.0, 5.0]\n",
    "x"
   ]
  },
  {
   "cell_type": "code",
   "execution_count": 10,
   "id": "7227fe71-30b9-4623-92c3-7ab63d2f1f07",
   "metadata": {},
   "outputs": [
    {
     "data": {
      "text/plain": [
       "[3.0, 1.5]"
      ]
     },
     "execution_count": 10,
     "metadata": {},
     "output_type": "execute_result"
    }
   ],
   "source": [
    "y = [3.0, 1.5]\n",
    "y"
   ]
  },
  {
   "cell_type": "code",
   "execution_count": 11,
   "id": "4713acfa-ab1d-4c87-8df4-ca210ed2bd02",
   "metadata": {},
   "outputs": [],
   "source": [
    "def add(u, v):\n",
    "    return [u[0] + v[0], u[1] + v[1]]"
   ]
  },
  {
   "cell_type": "code",
   "execution_count": 12,
   "id": "53cf8f8f-6b25-4f35-ad0c-e806cc871287",
   "metadata": {},
   "outputs": [
    {
     "data": {
      "text/plain": [
       "[1.0, 6.5]"
      ]
     },
     "execution_count": 12,
     "metadata": {},
     "output_type": "execute_result"
    }
   ],
   "source": [
    "add(x, y)"
   ]
  },
  {
   "cell_type": "code",
   "execution_count": 13,
   "id": "85f51bda-ad45-4154-8878-fb7fd0a2f77c",
   "metadata": {},
   "outputs": [],
   "source": [
    "def mult(u, v):\n",
    "    a, b = u\n",
    "    c, d = v\n",
    "    return [(a * c) - (b * d), (b * c) + a * d]"
   ]
  },
  {
   "cell_type": "code",
   "execution_count": 14,
   "id": "6d89b68c-1a1d-44a0-be50-35d5a12ab6c4",
   "metadata": {},
   "outputs": [
    {
     "data": {
      "text/plain": [
       "[-13.5, 12.0]"
      ]
     },
     "execution_count": 14,
     "metadata": {},
     "output_type": "execute_result"
    }
   ],
   "source": [
    "mult(x, y)"
   ]
  },
  {
   "cell_type": "markdown",
   "id": "db6f5d96-2aad-49f9-abf0-d9f40a6eddda",
   "metadata": {},
   "source": [
    "<br>\n",
    "\n",
    "## Origins\n",
    "\n",
    "***"
   ]
  },
  {
   "cell_type": "markdown",
   "id": "bda91056-04b3-465c-aa2e-ad844b0c4d80",
   "metadata": {},
   "source": [
    "$ \\large a x^2 + b^x + c \\qquad \\qquad \\textrm{e.g.} \\  x^2 - 5x + 6 \\qquad \\qquad \\textrm{e.g.} \\  2x^2 + 5x + 10 \\qquad \\qquad x = \\frac{-b \\pm \\sqrt{b^2 - 4ac}}{2a}$\n",
    "\n",
    "<br>"
   ]
  },
  {
   "cell_type": "code",
   "execution_count": 15,
   "id": "a1264d61-7fcd-473b-8788-172a0cafa410",
   "metadata": {},
   "outputs": [],
   "source": [
    "# A function that returns a function.\n",
    "class quadratic:\n",
    "    def __init__(self, a, b, c):\n",
    "        self.a = a\n",
    "        self.b = b\n",
    "        self.c = c\n",
    "\n",
    "    def __call__(self, x):\n",
    "        return self.a * x**2 + self.b * x + self.c"
   ]
  },
  {
   "cell_type": "code",
   "execution_count": 16,
   "id": "d00a1ca5-a113-42c3-ad20-ca809c0f37ea",
   "metadata": {},
   "outputs": [],
   "source": [
    "p = quadratic(a=1.0, b=-5.0, c=6.0)"
   ]
  },
  {
   "cell_type": "code",
   "execution_count": 17,
   "id": "a88f94a6-a512-4add-aaed-190ad0e2e6d8",
   "metadata": {},
   "outputs": [
    {
     "data": {
      "text/plain": [
       "2.0"
      ]
     },
     "execution_count": 17,
     "metadata": {},
     "output_type": "execute_result"
    }
   ],
   "source": [
    "p(1.0)"
   ]
  },
  {
   "cell_type": "code",
   "execution_count": 18,
   "id": "eebb8445-bfe4-4942-97fe-00d2241aa56e",
   "metadata": {},
   "outputs": [],
   "source": [
    "x = np.linspace(0.0, 5.0, 1000)"
   ]
  },
  {
   "cell_type": "code",
   "execution_count": 19,
   "id": "9860ccb3-2537-480e-9f8b-4d3adad3035b",
   "metadata": {},
   "outputs": [
    {
     "data": {
      "text/plain": [
       "<matplotlib.lines.Line2D at 0x2440c8c46d0>"
      ]
     },
     "execution_count": 19,
     "metadata": {},
     "output_type": "execute_result"
    },
    {
     "data": {
      "image/png": "[encoded data removed]",
      "text/plain": [
       "<Figure size 1440x720 with 1 Axes>"
      ]
     },
     "metadata": {},
     "output_type": "display_data"
    }
   ],
   "source": [
    "fig, ax = plt.subplots()\n",
    "ax.plot(x, p(x))\n",
    "ax.axhline(y=0, color='k')\n",
    "ax.axvline(x=0, color='k')"
   ]
  },
  {
   "cell_type": "code",
   "execution_count": 20,
   "id": "5ff16f96-fb05-491e-a71b-4d7a5be249b4",
   "metadata": {},
   "outputs": [],
   "source": [
    "# Solve with the formula.\n",
    "def solve(p):\n",
    "    a, b, c = p.a, p.b, p.c\n",
    "    x1 = (-b - (b**2 - 4 * a * c)**0.5) / (2 * a)\n",
    "    x2 = (-b + (b**2 - 4 * a * c)**0.5) / (2 * a)\n",
    "    return [x1, x2]"
   ]
  },
  {
   "cell_type": "code",
   "execution_count": 21,
   "id": "caa17f57-5ed7-4c7c-bb86-70de1fd05fff",
   "metadata": {},
   "outputs": [
    {
     "data": {
      "text/plain": [
       "[2.0, 3.0]"
      ]
     },
     "execution_count": 21,
     "metadata": {},
     "output_type": "execute_result"
    }
   ],
   "source": [
    "solve(p)"
   ]
  },
  {
   "cell_type": "markdown",
   "id": "0e48f481-c32a-42c2-9121-96733f4ba1be",
   "metadata": {},
   "source": [
    "<br>\n",
    "\n",
    "## Not hitting x\n",
    "\n",
    "***"
   ]
  },
  {
   "cell_type": "code",
   "execution_count": 22,
   "id": "687dd2ff-c04e-4538-b7c7-5396d40a1b99",
   "metadata": {},
   "outputs": [],
   "source": [
    "p = quadratic(a=1.0, b=0.0, c=1.0)"
   ]
  },
  {
   "cell_type": "code",
   "execution_count": 23,
   "id": "00ee6820-d786-4145-8037-4087f412d9d4",
   "metadata": {},
   "outputs": [],
   "source": [
    "x = np.linspace(-2.0, 2.0, 1000)"
   ]
  },
  {
   "cell_type": "code",
   "execution_count": 24,
   "id": "89349888-0c2a-4e71-9e36-84449dfd19f6",
   "metadata": {},
   "outputs": [
    {
     "data": {
      "text/plain": [
       "<matplotlib.lines.Line2D at 0x2440d9880d0>"
      ]
     },
     "execution_count": 24,
     "metadata": {},
     "output_type": "execute_result"
    },
    {
     "data": {
      "image/png": "[encoded data removed]",
      "text/plain": [
       "<Figure size 1440x720 with 1 Axes>"
      ]
     },
     "metadata": {},
     "output_type": "display_data"
    }
   ],
   "source": [
    "fig, ax = plt.subplots()\n",
    "ax.plot(x, p(x))\n",
    "ax.axhline(y=0, color='k')\n",
    "ax.axvline(x=0, color='k')"
   ]
  },
  {
   "cell_type": "code",
   "execution_count": 25,
   "id": "b4ae07d6-481d-4eaa-a5bb-1a2ba87ca1d3",
   "metadata": {},
   "outputs": [
    {
     "data": {
      "text/plain": [
       "((-6.123233995736766e-17-1j), (6.123233995736766e-17+1j))"
      ]
     },
     "execution_count": 25,
     "metadata": {},
     "output_type": "execute_result"
    }
   ],
   "source": [
    "x1, x2 = solve(p)\n",
    "x1, x2"
   ]
  },
  {
   "cell_type": "code",
   "execution_count": 26,
   "id": "99793dd4-ec07-4e63-9fdf-251095ecfcd7",
   "metadata": {},
   "outputs": [
    {
     "data": {
      "text/plain": [
       "'x1 = -0.0-1.0j, x2 = 0.0+1.0j'"
      ]
     },
     "execution_count": 26,
     "metadata": {},
     "output_type": "execute_result"
    }
   ],
   "source": [
    "f\"x1 = {x1:.1f}, x2 = {x2:.1f}\""
   ]
  },
  {
   "cell_type": "code",
   "execution_count": 27,
   "id": "9cb290ac-b210-4bb5-9a7c-c59a85ad218c",
   "metadata": {},
   "outputs": [],
   "source": [
    "p = quadratic(a=2.0, b=5.0, c=10.0)"
   ]
  },
  {
   "cell_type": "code",
   "execution_count": 28,
   "id": "4464395a-03ce-42ef-be6c-58b72202ea68",
   "metadata": {},
   "outputs": [],
   "source": [
    "x = np.linspace(-4.5, 2.0, 1000)"
   ]
  },
  {
   "cell_type": "code",
   "execution_count": 29,
   "id": "529ea8d0-625f-48b2-aea8-abcb45e481ef",
   "metadata": {},
   "outputs": [
    {
     "data": {
      "text/plain": [
       "<matplotlib.lines.Line2D at 0x2440d02f760>"
      ]
     },
     "execution_count": 29,
     "metadata": {},
     "output_type": "execute_result"
    },
    {
     "data": {
      "image/png": "[encoded data removed]",
      "text/plain": [
       "<Figure size 1440x720 with 1 Axes>"
      ]
     },
     "metadata": {},
     "output_type": "display_data"
    }
   ],
   "source": [
    "fig, ax = plt.subplots()\n",
    "ax.plot(x, p(x))\n",
    "ax.axhline(y=0, color='k')\n",
    "ax.axvline(x=0, color='k')"
   ]
  },
  {
   "cell_type": "code",
   "execution_count": 30,
   "id": "46d00c8d-848e-4630-bdbe-aa923d62aada",
   "metadata": {},
   "outputs": [
    {
     "data": {
      "text/plain": [
       "((-1.2500000000000002-1.8540496217739157j),\n",
       " (-1.2499999999999998+1.8540496217739157j))"
      ]
     },
     "execution_count": 30,
     "metadata": {},
     "output_type": "execute_result"
    }
   ],
   "source": [
    "x1, x2 = solve(p)\n",
    "x1, x2"
   ]
  },
  {
   "cell_type": "code",
   "execution_count": 31,
   "id": "86dc5db2-8338-4507-9bf7-7b2f36d0c9b8",
   "metadata": {},
   "outputs": [
    {
     "data": {
      "text/plain": [
       "'x1 = -1.3-1.9j, x2 = -1.2+1.9j'"
      ]
     },
     "execution_count": 31,
     "metadata": {},
     "output_type": "execute_result"
    }
   ],
   "source": [
    "f\"x1 = {x1:.1f}, x2 = {x2:.1f}\""
   ]
  },
  {
   "cell_type": "markdown",
   "id": "103c43f1-e87d-4fe3-b5d4-86d36ee98fa2",
   "metadata": {},
   "source": [
    "<br>\n",
    "\n",
    "***\n",
    "\n",
    "## End"
   ]
  }
 ],
 "metadata": {
  "kernelspec": {
   "display_name": "Python 3",
   "language": "python",
   "name": "python3"
  },
  "language_info": {
   "codemirror_mode": {
    "name": "ipython",
    "version": 3
   },
   "file_extension": ".py",
   "mimetype": "text/x-python",
   "name": "python",
   "nbconvert_exporter": "python",
   "pygments_lexer": "ipython3",
   "version": "3.8.10"
  }
 },
 "nbformat": 4,
 "nbformat_minor": 5
}
