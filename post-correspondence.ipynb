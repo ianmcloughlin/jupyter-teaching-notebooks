{
 "cells": [
  {
   "cell_type": "markdown",
   "id": "470befb8-c339-46a4-b883-497408e9ddc7",
   "metadata": {},
   "source": [
    "# Post Correspondence Problem\n",
    "\n",
    "***"
   ]
  },
  {
   "cell_type": "markdown",
   "id": "b3dcf1b1-ba40-436a-8053-19ff63237dfe",
   "metadata": {},
   "source": [
    "## Example 1\n",
    "\n",
    "https://en.wikipedia.org/wiki/Post_correspondence_problem#Example_1\n"
   ]
  },
  {
   "cell_type": "code",
   "execution_count": 1,
   "id": "ba2112e8-3aa5-4166-b77c-1900e7aa3041",
   "metadata": {},
   "outputs": [],
   "source": [
    "# Input list 1 cotaning strings over A.\n",
    "l1 = ['a', 'ab', 'bba']\n",
    "\n",
    "# Input list 2 cotaning strings over A.\n",
    "l2 = ['baa', 'aa', 'bb']"
   ]
  },
  {
   "cell_type": "code",
   "execution_count": 2,
   "id": "88800a52-dd65-405e-bc95-0e43e124bfcd",
   "metadata": {},
   "outputs": [],
   "source": [
    "# Solution.\n",
    "solution = [2, 1, 2, 0]"
   ]
  },
  {
   "cell_type": "code",
   "execution_count": 3,
   "id": "12248615-ca96-44f4-8342-7a87708641eb",
   "metadata": {},
   "outputs": [
    {
     "name": "stdout",
     "output_type": "stream",
     "text": [
      "bbaabbbaa =? bbaabbbaa -> True\n"
     ]
    }
   ],
   "source": [
    "# Proof.\n",
    "str1 = \"\".join([l1[i] for i in solution])\n",
    "str2 = \"\".join([l2[i] for i in solution])\n",
    "\n",
    "print(f'{str1} =? {str2} -> {str1 == str2}')"
   ]
  },
  {
   "cell_type": "code",
   "execution_count": 4,
   "id": "62499add-c097-4e20-ad30-e7da1c365132",
   "metadata": {},
   "outputs": [
    {
     "name": "stdout",
     "output_type": "stream",
     "text": [
      "(['a', 'ab', 'bba'], ['baa', 'aa', 'bb']) -> True\n"
     ]
    }
   ],
   "source": [
    "# Decision problem.\n",
    "print(f'({l1}, {l2}) -> {True}')"
   ]
  },
  {
   "cell_type": "markdown",
   "id": "ee428893-32b5-49c8-b001-9dd4f17d3547",
   "metadata": {},
   "source": [
    "## Example 2\n",
    "\n",
    "https://en.wikipedia.org/wiki/Post_correspondence_problem#Example_2"
   ]
  },
  {
   "cell_type": "code",
   "execution_count": 5,
   "id": "bb361364-a9ab-4f8a-bc83-d3cb90ae5cf0",
   "metadata": {},
   "outputs": [],
   "source": [
    "# Input list 1 cotaning strings over A.\n",
    "l1 = ['bb', 'ab', 'c']\n",
    "\n",
    "# Input list 2 cotaning strings over A.\n",
    "l2 = ['b', 'ba', 'bc']"
   ]
  },
  {
   "cell_type": "code",
   "execution_count": 6,
   "id": "05e5d45a-6e45-4379-a30c-8f14d4d36015",
   "metadata": {},
   "outputs": [],
   "source": [
    "# Solution.\n",
    "solution = [0, 1, 2]"
   ]
  },
  {
   "cell_type": "code",
   "execution_count": 7,
   "id": "7404ecc8-3e15-4b90-a27a-cc496746ca7d",
   "metadata": {},
   "outputs": [
    {
     "name": "stdout",
     "output_type": "stream",
     "text": [
      "bbabc =? bbabc -> True\n"
     ]
    }
   ],
   "source": [
    "# Proof.\n",
    "str1 = \"\".join([l1[i] for i in solution])\n",
    "str2 = \"\".join([l2[i] for i in solution])\n",
    "\n",
    "print(f'{str1} =? {str2} -> {str1 == str2}')"
   ]
  },
  {
   "cell_type": "code",
   "execution_count": 8,
   "id": "62090407-6bae-46f5-84a5-23f232490d83",
   "metadata": {},
   "outputs": [],
   "source": [
    "# Another solution.\n",
    "solution = [0, 1, 1, 1, 1, 2]"
   ]
  },
  {
   "cell_type": "code",
   "execution_count": 9,
   "id": "3163b39f-66dc-4807-bc20-4be93015268d",
   "metadata": {},
   "outputs": [
    {
     "name": "stdout",
     "output_type": "stream",
     "text": [
      "bbababababc =? bbababababc -> True\n"
     ]
    }
   ],
   "source": [
    "# Proof.\n",
    "str1 = \"\".join([l1[i] for i in solution])\n",
    "str2 = \"\".join([l2[i] for i in solution])\n",
    "\n",
    "print(f'{str1} =? {str2} -> {str1 == str2}')"
   ]
  },
  {
   "cell_type": "code",
   "execution_count": 10,
   "id": "204579a3-9aa6-4c97-9b02-54f51dcd9b2d",
   "metadata": {},
   "outputs": [
    {
     "name": "stdout",
     "output_type": "stream",
     "text": [
      "(['bb', 'ab', 'c'], ['b', 'ba', 'bc']) -> True\n"
     ]
    }
   ],
   "source": [
    "# Decision problem.\n",
    "print(f'({l1}, {l2}) -> {True}')"
   ]
  },
  {
   "cell_type": "markdown",
   "id": "dc1bb41f-4628-4495-833b-a8af7ca94b83",
   "metadata": {},
   "source": [
    "## Example 3"
   ]
  },
  {
   "cell_type": "code",
   "execution_count": 11,
   "id": "b5f8f3be-f27f-4200-b61c-9e3d4a1a3ec7",
   "metadata": {},
   "outputs": [],
   "source": [
    "# Input list 1 cotaning strings over A.\n",
    "l1 = ['a', 'aa', 'aaa']\n",
    "\n",
    "# Input list 2 cotaning strings over A.\n",
    "l2 = ['b', 'bb', 'bbb']"
   ]
  },
  {
   "cell_type": "markdown",
   "id": "985a108d-dc35-42cd-8e89-f9afb6239c6c",
   "metadata": {},
   "source": [
    "No solution since `l1` only contains `'a'` and `l2` only contains `'b'`."
   ]
  },
  {
   "cell_type": "code",
   "execution_count": 12,
   "id": "37718c46-154f-49ef-88cb-2bee5646d1f5",
   "metadata": {},
   "outputs": [
    {
     "name": "stdout",
     "output_type": "stream",
     "text": [
      "(['a', 'aa', 'aaa'], ['b', 'bb', 'bbb']) -> False\n"
     ]
    }
   ],
   "source": [
    "# Decision problem.\n",
    "print(f'({l1}, {l2}) -> {False}')"
   ]
  },
  {
   "cell_type": "markdown",
   "id": "8a6afaf4-60d6-4086-8e91-aa15f6d11761",
   "metadata": {},
   "source": [
    "## Problem\n",
    "\n",
    "Design an algorithm that takes two lists (of equal length) of strings as input and outputs True if there is a correspondence between the two lists and False otherwise.\n",
    "\n",
    "**Definition of correspondence:**\n",
    "\n",
    "Two lists `L1` and `L2` of equal length containing strings correspond if and only if there is at least one finite list of indices `[i1, i2, ..., iN]` such that `L1[i1] + L1[i2] + ... L1[iN]` is equal to `L2[i1] + L2[i2] + ... L2[iN]`."
   ]
  },
  {
   "cell_type": "markdown",
   "id": "ec5bde19-ec7e-4c48-b06d-8776377efdf5",
   "metadata": {},
   "source": [
    "## Difficulty\n",
    "\n",
    "At face value, the problem seems straightforward because any possible solution is in the form of a list and that list must be of finite length.\n",
    "\n",
    "However, any possible length is still allowed - giving an infinite number of possible solutions to brute force a False result.\n",
    "\n",
    "That doesn't prove there is no algorithm - just because a problem is difficult doesn't mean it can't be solved.\n",
    "\n",
    "For this particular problem, however, Emil Post showed that there is no algorithm that can solve it."
   ]
  },
  {
   "cell_type": "markdown",
   "id": "53ee93e3-5797-48be-9640-86a95d30b4ba",
   "metadata": {},
   "source": [
    "## Relevance\n",
    "\n",
    "The problem seems to be a bit niche, involving strings and lists - does it really say anything about the world?\n",
    "\n",
    "Note that strings are stored in memory as bits, so a solution in strings is a solution in bits, assuming a standard encoding such as unicode.\n",
    "\n",
    "Post proved the problem is undecidable in general based on the work of Turing who originally showed that some problems are undecidable.\n",
    "\n",
    "This is an incredible result - the problem looks like it is a straight-forward computational problem, apt for solving."
   ]
  },
  {
   "cell_type": "code",
   "execution_count": 13,
   "id": "7869a898-2708-4e8b-b7ca-d7cd46b1a233",
   "metadata": {},
   "outputs": [
    {
     "name": "stdout",
     "output_type": "stream",
     "text": [
      "['1100001', '110000101100001', '11000010110000101100001']\n"
     ]
    }
   ],
   "source": [
    "L = ['a', 'aa', 'aaa']\n",
    "Lb = [bin(int(bytes(s, 'utf8').hex(), 16))[2:] for s in L]\n",
    "print(Lb)"
   ]
  }
 ],
 "metadata": {
  "kernelspec": {
   "display_name": "Python 3 (ipykernel)",
   "language": "python",
   "name": "python3"
  },
  "language_info": {
   "codemirror_mode": {
    "name": "ipython",
    "version": 3
   },
   "file_extension": ".py",
   "mimetype": "text/x-python",
   "name": "python",
   "nbconvert_exporter": "python",
   "pygments_lexer": "ipython3",
   "version": "3.9.9"
  }
 },
 "nbformat": 4,
 "nbformat_minor": 5
}
