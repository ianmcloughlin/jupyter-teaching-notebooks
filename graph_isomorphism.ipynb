{
  "cells": [
    {
      "cell_type": "markdown",
      "metadata": {
        "id": "view-in-github",
        "colab_type": "text"
      },
      "source": [
        "<a href=\"https://colab.research.google.com/github/ianmcloughlin/jupyter-teaching-notebooks/blob/main/graph_isomorphism.ipynb\" target=\"_parent\"><img src=\"https://colab.research.google.com/assets/colab-badge.svg\" alt=\"Open In Colab\"/></a>"
      ]
    },
    {
      "cell_type": "markdown",
      "id": "0c3400ed",
      "metadata": {
        "id": "0c3400ed"
      },
      "source": [
        "# Graph Isomorphism\n",
        "\n",
        "***"
      ]
    },
    {
      "cell_type": "code",
      "source": [
        "# Plots.\n",
        "import matplotlib.pyplot as plt"
      ],
      "metadata": {
        "id": "2cGg8hzuQXfv"
      },
      "id": "2cGg8hzuQXfv",
      "execution_count": 1,
      "outputs": []
    },
    {
      "cell_type": "code",
      "source": [
        "# Resize plots.\n",
        "plt.rcParams['figure.figsize'] = (6, 6)"
      ],
      "metadata": {
        "id": "QuBfUjccQkJS"
      },
      "id": "QuBfUjccQkJS",
      "execution_count": 2,
      "outputs": []
    },
    {
      "cell_type": "code",
      "execution_count": 3,
      "id": "3b0a9401",
      "metadata": {
        "id": "3b0a9401"
      },
      "outputs": [],
      "source": [
        "# Matrices.\n",
        "import numpy as np"
      ]
    },
    {
      "cell_type": "code",
      "execution_count": 4,
      "id": "b56e1bb9",
      "metadata": {
        "id": "b56e1bb9"
      },
      "outputs": [],
      "source": [
        "# Permutations\n",
        "import itertools as it"
      ]
    },
    {
      "cell_type": "code",
      "execution_count": 5,
      "id": "4aaac8c5",
      "metadata": {
        "id": "4aaac8c5"
      },
      "outputs": [],
      "source": [
        "# Graphs.\n",
        "import networkx as nx"
      ]
    },
    {
      "cell_type": "code",
      "execution_count": 6,
      "id": "b3846229",
      "metadata": {
        "id": "b3846229"
      },
      "outputs": [],
      "source": [
        "# Math.\n",
        "import math"
      ]
    },
    {
      "cell_type": "code",
      "source": [
        "# Networkx drawing parameters.\n",
        "params = {'node_color': 'lightskyblue', 'node_size': 800, 'font_size': 18, 'with_labels': True}"
      ],
      "metadata": {
        "id": "YuzRs5vn5A7R"
      },
      "id": "YuzRs5vn5A7R",
      "execution_count": 7,
      "outputs": []
    },
    {
      "cell_type": "markdown",
      "id": "7606122c",
      "metadata": {
        "id": "7606122c"
      },
      "source": [
        "<br>\n",
        "\n",
        "## Graphs\n",
        "\n",
        "***"
      ]
    },
    {
      "cell_type": "code",
      "execution_count": 8,
      "id": "e3ef8f1a",
      "metadata": {
        "id": "e3ef8f1a"
      },
      "outputs": [],
      "source": [
        "# Create an empty graph.\n",
        "G = nx.Graph()"
      ]
    },
    {
      "cell_type": "code",
      "source": [
        "# Create a set of edges.\n",
        "# Note that ideally this would be written as {{0, 1}, {1, 2}, {0, 2}}.\n",
        "# E should be a set of two-subsets of a finite set V (which is defined implicitly from E).\n",
        "E = ((0, 1), (1, 2), (0, 2))"
      ],
      "metadata": {
        "id": "TwGxYqRn3605"
      },
      "id": "TwGxYqRn3605",
      "execution_count": 9,
      "outputs": []
    },
    {
      "cell_type": "code",
      "source": [
        "# Incorporate the edges in G.\n",
        "# The nodes are just created as needed, based on E.\n",
        "G.add_edges_from(E)"
      ],
      "metadata": {
        "id": "eTff419n386P"
      },
      "id": "eTff419n386P",
      "execution_count": 10,
      "outputs": []
    },
    {
      "cell_type": "code",
      "source": [
        "# Draw G.\n",
        "nx.draw_circular(G, **params)"
      ],
      "metadata": {
        "colab": {
          "base_uri": "https://localhost:8080/",
          "height": 463
        },
        "id": "eCibqWmL4B00",
        "outputId": "0396bb25-5066-4e8f-bcc9-eec42e823cb7"
      },
      "id": "eCibqWmL4B00",
      "execution_count": 11,
      "outputs": [
        {
          "output_type": "display_data",
          "data": {
            "text/plain": [
              "<Figure size 432x432 with 1 Axes>"
            ],
            "image/png": "[encoded data removed]"
          },
          "metadata": {}
        }
      ]
    },
    {
      "cell_type": "markdown",
      "source": [
        "<br>\n",
        "\n",
        "## Adjacency Matrices\n",
        "\n",
        "***"
      ],
      "metadata": {
        "id": "9dmnPV0h5IXH"
      },
      "id": "9dmnPV0h5IXH"
    },
    {
      "cell_type": "code",
      "source": [
        "# The adjacency matrix of G.\n",
        "print(nx.to_numpy_array(G))"
      ],
      "metadata": {
        "colab": {
          "base_uri": "https://localhost:8080/"
        },
        "id": "4vUgunAf5TlX",
        "outputId": "68968c58-a5f4-4850-8bde-cd56256a8be5"
      },
      "id": "4vUgunAf5TlX",
      "execution_count": 12,
      "outputs": [
        {
          "output_type": "stream",
          "name": "stdout",
          "text": [
            "[[0. 1. 1.]\n",
            " [1. 0. 1.]\n",
            " [1. 1. 0.]]\n"
          ]
        }
      ]
    },
    {
      "cell_type": "code",
      "execution_count": 13,
      "id": "87ae2543",
      "metadata": {
        "colab": {
          "base_uri": "https://localhost:8080/"
        },
        "id": "87ae2543",
        "outputId": "13faf786-c14c-4c4e-ea48-dd88621d4356"
      },
      "outputs": [
        {
          "output_type": "stream",
          "name": "stdout",
          "text": [
            "[[0 1 1]\n",
            " [1 0 1]\n",
            " [1 1 0]]\n"
          ]
        }
      ],
      "source": [
        "# Convert it to unsigned 8 bit integers (for no good reason).\n",
        "A = nx.to_numpy_array(G).astype(np.uint8)\n",
        "print(A)"
      ]
    },
    {
      "cell_type": "code",
      "execution_count": 14,
      "id": "4971c73b",
      "metadata": {
        "colab": {
          "base_uri": "https://localhost:8080/"
        },
        "id": "4971c73b",
        "outputId": "6aa7f496-2b23-4ce2-dfe5-97ab41cf12b9"
      },
      "outputs": [
        {
          "output_type": "stream",
          "name": "stdout",
          "text": [
            "[[0 1 1]\n",
            " [1 0 1]\n",
            " [1 1 0]]\n"
          ]
        }
      ],
      "source": [
        "# The transpose of A.\n",
        "print(A.T)"
      ]
    },
    {
      "cell_type": "code",
      "execution_count": 15,
      "id": "0ae50589",
      "metadata": {
        "colab": {
          "base_uri": "https://localhost:8080/"
        },
        "id": "0ae50589",
        "outputId": "3c305cf7-1364-4e57-86e5-d3f2eba47dd3"
      },
      "outputs": [
        {
          "output_type": "stream",
          "name": "stdout",
          "text": [
            "[[ True  True  True]\n",
            " [ True  True  True]\n",
            " [ True  True  True]]\n"
          ]
        }
      ],
      "source": [
        "# All entries of A and its transpose are the same.\n",
        "print(A.T == A)"
      ]
    },
    {
      "cell_type": "code",
      "execution_count": 16,
      "id": "7eb7e471",
      "metadata": {
        "colab": {
          "base_uri": "https://localhost:8080/"
        },
        "id": "7eb7e471",
        "outputId": "7e12f634-a2f4-4829-c613-6afc7c2982a9"
      },
      "outputs": [
        {
          "output_type": "execute_result",
          "data": {
            "text/plain": [
              "True"
            ]
          },
          "metadata": {},
          "execution_count": 16
        }
      ],
      "source": [
        "# all() checks they're all True.\n",
        "(A.T == A).all()"
      ]
    },
    {
      "cell_type": "code",
      "source": [
        "# A slightly cleaner way to print (binary) matrices.\n",
        "def matrix_print(A):\n",
        "  # Loop through rows of A.\n",
        "  for r in A:\n",
        "    # Print the current row, removing the brackets numpy puts in.\n",
        "    print(str(r)[1:-1])\n",
        "  # Print a blank line.\n",
        "  print()"
      ],
      "metadata": {
        "id": "YwEqmGqQ6FHk"
      },
      "id": "YwEqmGqQ6FHk",
      "execution_count": 17,
      "outputs": []
    },
    {
      "cell_type": "code",
      "source": [
        "# Example.\n",
        "matrix_print(A)"
      ],
      "metadata": {
        "colab": {
          "base_uri": "https://localhost:8080/"
        },
        "id": "2-d5Mz3V6kCy",
        "outputId": "d883543a-5427-4b0b-d5d5-4545432e3280"
      },
      "id": "2-d5Mz3V6kCy",
      "execution_count": 18,
      "outputs": [
        {
          "output_type": "stream",
          "name": "stdout",
          "text": [
            "0 1 1\n",
            "1 0 1\n",
            "1 1 0\n",
            "\n"
          ]
        }
      ]
    },
    {
      "cell_type": "markdown",
      "id": "7794fab0",
      "metadata": {
        "id": "7794fab0"
      },
      "source": [
        "<br>\n",
        "\n",
        "## Permutations\n",
        "\n",
        "***"
      ]
    },
    {
      "cell_type": "code",
      "source": [
        "# A list of numbers.\n",
        "L = list(range(1, 4))\n",
        "L"
      ],
      "metadata": {
        "colab": {
          "base_uri": "https://localhost:8080/"
        },
        "id": "5QVy1u7H6zT9",
        "outputId": "63abc3b7-1a80-4cfc-887e-39ee280130e1"
      },
      "id": "5QVy1u7H6zT9",
      "execution_count": 19,
      "outputs": [
        {
          "output_type": "execute_result",
          "data": {
            "text/plain": [
              "[1, 2, 3]"
            ]
          },
          "metadata": {},
          "execution_count": 19
        }
      ]
    },
    {
      "cell_type": "code",
      "execution_count": 20,
      "id": "113524ca",
      "metadata": {
        "colab": {
          "base_uri": "https://localhost:8080/"
        },
        "id": "113524ca",
        "outputId": "f21a6594-0aa9-4537-d679-feb28acf7dba"
      },
      "outputs": [
        {
          "output_type": "stream",
          "name": "stdout",
          "text": [
            "(1, 2, 3)\n",
            "(1, 3, 2)\n",
            "(2, 1, 3)\n",
            "(2, 3, 1)\n",
            "(3, 1, 2)\n",
            "(3, 2, 1)\n"
          ]
        }
      ],
      "source": [
        "# All permutations of that list.\n",
        "# Note that it.permutations returns a generator.\n",
        "# The number of permutations grows very fast compared to the length of the list.\n",
        "perms = it.permutations(L)\n",
        "# Print the permutations.\n",
        "for perm in perms:\n",
        "  print(perm)"
      ]
    },
    {
      "cell_type": "markdown",
      "source": [
        "<br>\n",
        "\n",
        "## Permutation Matrices\n",
        "\n",
        "***"
      ],
      "metadata": {
        "id": "50sX9_Qx754k"
      },
      "id": "50sX9_Qx754k"
    },
    {
      "cell_type": "code",
      "source": [
        "# Number of objects to permute.\n",
        "N = 3"
      ],
      "metadata": {
        "id": "ily7TuA_Gr36"
      },
      "id": "ily7TuA_Gr36",
      "execution_count": 21,
      "outputs": []
    },
    {
      "cell_type": "code",
      "source": [
        "# List of items in numpy matrix.\n",
        "L = np.array(range(1, N+1), dtype=np.uint8)\n",
        "L"
      ],
      "metadata": {
        "colab": {
          "base_uri": "https://localhost:8080/"
        },
        "id": "h15Y7nfKF0tz",
        "outputId": "5f84a965-5429-480e-a457-6c7821a1bb52"
      },
      "id": "h15Y7nfKF0tz",
      "execution_count": 22,
      "outputs": [
        {
          "output_type": "execute_result",
          "data": {
            "text/plain": [
              "array([1, 2, 3], dtype=uint8)"
            ]
          },
          "metadata": {},
          "execution_count": 22
        }
      ]
    },
    {
      "cell_type": "code",
      "source": [
        "# Identity matrix.\n",
        "I = np.identity(N, dtype=np.uint8)\n",
        "matrix_print(I)"
      ],
      "metadata": {
        "colab": {
          "base_uri": "https://localhost:8080/"
        },
        "id": "IpszGe4YFs1O",
        "outputId": "e1f3d0da-3bf1-488f-bfd4-b677a20dc25d"
      },
      "id": "IpszGe4YFs1O",
      "execution_count": 23,
      "outputs": [
        {
          "output_type": "stream",
          "name": "stdout",
          "text": [
            "1 0 0\n",
            "0 1 0\n",
            "0 0 1\n",
            "\n"
          ]
        }
      ]
    },
    {
      "cell_type": "code",
      "execution_count": 24,
      "id": "2ea1ecbe",
      "metadata": {
        "colab": {
          "base_uri": "https://localhost:8080/"
        },
        "id": "2ea1ecbe",
        "outputId": "9131765f-7ef5-44dd-f2f7-6d06a67fe476"
      },
      "outputs": [
        {
          "output_type": "stream",
          "name": "stdout",
          "text": [
            "1 0 0\n",
            "0 1 0\n",
            "0 0 1\n",
            "\n",
            "1 0 0\n",
            "0 0 1\n",
            "0 1 0\n",
            "\n",
            "0 1 0\n",
            "1 0 0\n",
            "0 0 1\n",
            "\n",
            "0 1 0\n",
            "0 0 1\n",
            "1 0 0\n",
            "\n",
            "0 0 1\n",
            "1 0 0\n",
            "0 1 0\n",
            "\n",
            "0 0 1\n",
            "0 1 0\n",
            "1 0 0\n",
            "\n"
          ]
        }
      ],
      "source": [
        "# Permutations of rows of I.\n",
        "perms = it.permutations(range(N))\n",
        "# Print I with rows permuted by p.\n",
        "for p in perms:\n",
        "  # Permutation matrix - using numpy indexing.\n",
        "  Pmat = I[list(p)]\n",
        "  matrix_print(Pmat)"
      ]
    },
    {
      "cell_type": "code",
      "source": [
        "# Permutations of rows of I.\n",
        "perms = it.permutations(range(N))\n",
        "# Print L permuted by permutation matrices.\n",
        "for p in perms:\n",
        "  # Permutation matrix - using numpy indexing.\n",
        "  Pmat = I[list(p)]\n",
        "  # L permuted by Pmat.\n",
        "  Lp = L @ Pmat\n",
        "  # Print.\n",
        "  print(Lp)"
      ],
      "metadata": {
        "colab": {
          "base_uri": "https://localhost:8080/"
        },
        "id": "ggwK4V7VHLkh",
        "outputId": "d10c8d37-9fb3-450f-fa8d-4900926d393a"
      },
      "id": "ggwK4V7VHLkh",
      "execution_count": 25,
      "outputs": [
        {
          "output_type": "stream",
          "name": "stdout",
          "text": [
            "[1 2 3]\n",
            "[1 3 2]\n",
            "[2 1 3]\n",
            "[3 1 2]\n",
            "[2 3 1]\n",
            "[3 2 1]\n"
          ]
        }
      ]
    },
    {
      "cell_type": "code",
      "source": [
        "# Permutations of rows of I.\n",
        "perms = it.permutations(range(N))\n",
        "# Print A permuted by permutation matrices.\n",
        "for p in perms:\n",
        "  # Permutation matrix - using numpy indexing.\n",
        "  Pmat = I[list(p)]\n",
        "  # L permuted by Pmat.\n",
        "  Ap = Pmat @ A @ Pmat.T\n",
        "  # Print.\n",
        "  matrix_print(Ap)"
      ],
      "metadata": {
        "colab": {
          "base_uri": "https://localhost:8080/"
        },
        "id": "_F1AWrDxPpPB",
        "outputId": "e671a2d3-7c3a-4d28-d94b-a48a878ae0e7"
      },
      "id": "_F1AWrDxPpPB",
      "execution_count": 26,
      "outputs": [
        {
          "output_type": "stream",
          "name": "stdout",
          "text": [
            "0 1 1\n",
            "1 0 1\n",
            "1 1 0\n",
            "\n",
            "0 1 1\n",
            "1 0 1\n",
            "1 1 0\n",
            "\n",
            "0 1 1\n",
            "1 0 1\n",
            "1 1 0\n",
            "\n",
            "0 1 1\n",
            "1 0 1\n",
            "1 1 0\n",
            "\n",
            "0 1 1\n",
            "1 0 1\n",
            "1 1 0\n",
            "\n",
            "0 1 1\n",
            "1 0 1\n",
            "1 1 0\n",
            "\n"
          ]
        }
      ]
    },
    {
      "cell_type": "code",
      "source": [
        "# Let's try a graph that's not so symmetrical.\n",
        "G = nx.Graph()\n",
        "E = ((0, 1), (1, 2))\n",
        "G.add_edges_from(E)\n",
        "nx.draw_circular(G, **params)"
      ],
      "metadata": {
        "colab": {
          "base_uri": "https://localhost:8080/",
          "height": 463
        },
        "id": "n3Dfjg-QlGeY",
        "outputId": "9df94b4e-f4de-4046-f583-7394354c8caa"
      },
      "id": "n3Dfjg-QlGeY",
      "execution_count": 27,
      "outputs": [
        {
          "output_type": "display_data",
          "data": {
            "text/plain": [
              "<Figure size 432x432 with 1 Axes>"
            ],
            "image/png": "[encoded data removed]"
          },
          "metadata": {}
        }
      ]
    },
    {
      "cell_type": "code",
      "source": [
        "# Adjacency matrix.\n",
        "A = nx.to_numpy_array(G).astype(np.uint8)\n",
        "matrix_print(A)"
      ],
      "metadata": {
        "colab": {
          "base_uri": "https://localhost:8080/"
        },
        "id": "Ls3Xzm5eljSH",
        "outputId": "337ce7c1-7f9d-4090-d0b3-b57915b58be7"
      },
      "id": "Ls3Xzm5eljSH",
      "execution_count": 28,
      "outputs": [
        {
          "output_type": "stream",
          "name": "stdout",
          "text": [
            "0 1 0\n",
            "1 0 1\n",
            "0 1 0\n",
            "\n"
          ]
        }
      ]
    },
    {
      "cell_type": "code",
      "source": [
        "# Permutations of rows of I.\n",
        "perms = it.permutations(range(N))\n",
        "# Print A permuted by permutation matrices.\n",
        "for p in perms:\n",
        "  # Permutation matrix - using numpy indexing.\n",
        "  Pmat = I[list(p)]\n",
        "  # L permuted by Pmat.\n",
        "  Ap = Pmat @ A @ Pmat.T\n",
        "  # Print.\n",
        "  matrix_print(Ap)"
      ],
      "metadata": {
        "colab": {
          "base_uri": "https://localhost:8080/"
        },
        "id": "VUbmfiG1lFJA",
        "outputId": "3c38be09-e1c7-430d-cf28-72c1be8cb89c"
      },
      "id": "VUbmfiG1lFJA",
      "execution_count": 29,
      "outputs": [
        {
          "output_type": "stream",
          "name": "stdout",
          "text": [
            "0 1 0\n",
            "1 0 1\n",
            "0 1 0\n",
            "\n",
            "0 0 1\n",
            "0 0 1\n",
            "1 1 0\n",
            "\n",
            "0 1 1\n",
            "1 0 0\n",
            "1 0 0\n",
            "\n",
            "0 1 1\n",
            "1 0 0\n",
            "1 0 0\n",
            "\n",
            "0 0 1\n",
            "0 0 1\n",
            "1 1 0\n",
            "\n",
            "0 1 0\n",
            "1 0 1\n",
            "0 1 0\n",
            "\n"
          ]
        }
      ]
    },
    {
      "cell_type": "markdown",
      "id": "33baa288",
      "metadata": {
        "id": "33baa288"
      },
      "source": [
        "<br>\n",
        "\n",
        "## Permuting Vertices\n",
        "\n",
        "***"
      ]
    },
    {
      "cell_type": "code",
      "source": [
        "# Create an empty graph.\n",
        "G = nx.Graph()"
      ],
      "metadata": {
        "id": "S_WT_6uXhkj2"
      },
      "id": "S_WT_6uXhkj2",
      "execution_count": 30,
      "outputs": []
    },
    {
      "cell_type": "code",
      "source": [
        "# Create a set of edges.\n",
        "E = ((0, 1), (1, 2), (1, 3), (2, 3))"
      ],
      "metadata": {
        "id": "y9UNWT2YhXLh"
      },
      "id": "y9UNWT2YhXLh",
      "execution_count": 31,
      "outputs": []
    },
    {
      "cell_type": "code",
      "source": [
        "# Incorporate the edges in G.\n",
        "G.add_edges_from(E)"
      ],
      "metadata": {
        "id": "LFYCPk-fqBpj"
      },
      "id": "LFYCPk-fqBpj",
      "execution_count": 32,
      "outputs": []
    },
    {
      "cell_type": "code",
      "source": [
        "# Draw the graph.\n",
        "nx.draw_circular(G, **params)"
      ],
      "metadata": {
        "colab": {
          "base_uri": "https://localhost:8080/",
          "height": 463
        },
        "id": "sevHCBhgqJhi",
        "outputId": "226b2a27-4177-4c4f-d187-dbdb315391da"
      },
      "id": "sevHCBhgqJhi",
      "execution_count": 33,
      "outputs": [
        {
          "output_type": "display_data",
          "data": {
            "text/plain": [
              "<Figure size 432x432 with 1 Axes>"
            ],
            "image/png": "[encoded data removed]"
          },
          "metadata": {}
        }
      ]
    },
    {
      "cell_type": "code",
      "source": [
        "# Adjacency matrix.\n",
        "A = nx.to_numpy_array(G).astype(np.uint8)\n",
        "matrix_print(A)"
      ],
      "metadata": {
        "colab": {
          "base_uri": "https://localhost:8080/"
        },
        "id": "BtwxAna5qhAB",
        "outputId": "c526db3c-bc3f-4e64-8f5d-404080bb71b9"
      },
      "id": "BtwxAna5qhAB",
      "execution_count": 34,
      "outputs": [
        {
          "output_type": "stream",
          "name": "stdout",
          "text": [
            "0 1 0 0\n",
            "1 0 1 1\n",
            "0 1 0 1\n",
            "0 1 1 0\n",
            "\n"
          ]
        }
      ]
    },
    {
      "cell_type": "code",
      "source": [
        "# Permutation: 0->0, 1->3, 2->2, 3->1.\n",
        "p = [0, 3, 2, 1]\n",
        "# Identity matrix.\n",
        "I = np.identity(4, np.uint8)\n",
        "# Permutation matrix.\n",
        "P = I[p]\n",
        "# Print.\n",
        "matrix_print(P)"
      ],
      "metadata": {
        "colab": {
          "base_uri": "https://localhost:8080/"
        },
        "id": "CUvqMsqZqsOq",
        "outputId": "f229245b-b535-4963-e9c5-20ad4dae33b2"
      },
      "id": "CUvqMsqZqsOq",
      "execution_count": 35,
      "outputs": [
        {
          "output_type": "stream",
          "name": "stdout",
          "text": [
            "1 0 0 0\n",
            "0 0 0 1\n",
            "0 0 1 0\n",
            "0 1 0 0\n",
            "\n"
          ]
        }
      ]
    },
    {
      "cell_type": "code",
      "execution_count": 36,
      "id": "971e148f",
      "metadata": {
        "colab": {
          "base_uri": "https://localhost:8080/"
        },
        "id": "971e148f",
        "outputId": "206495bc-7cce-464e-9ada-054fb7a128f9"
      },
      "outputs": [
        {
          "output_type": "stream",
          "name": "stdout",
          "text": [
            "0 0 0 1\n",
            "0 0 1 1\n",
            "0 1 0 1\n",
            "1 1 1 0\n",
            "\n"
          ]
        }
      ],
      "source": [
        "# Permute A.\n",
        "A_P = P @ A @ P\n",
        "matrix_print(A_P)"
      ]
    },
    {
      "cell_type": "code",
      "source": [
        "# Create new graph from new adjacency matrix.\n",
        "G_P = nx.from_numpy_matrix(A_P)"
      ],
      "metadata": {
        "id": "36YD-NYzrQGu"
      },
      "id": "36YD-NYzrQGu",
      "execution_count": 37,
      "outputs": []
    },
    {
      "cell_type": "code",
      "execution_count": 38,
      "id": "389adaad",
      "metadata": {
        "colab": {
          "base_uri": "https://localhost:8080/",
          "height": 463
        },
        "id": "389adaad",
        "outputId": "add1485b-75dc-4151-9454-d0a2e2e18144"
      },
      "outputs": [
        {
          "output_type": "display_data",
          "data": {
            "text/plain": [
              "<Figure size 432x432 with 1 Axes>"
            ],
            "image/png": "[encoded data removed]"
          },
          "metadata": {}
        }
      ],
      "source": [
        "# Draw it.\n",
        "nx.draw_circular(G_P, **params)"
      ]
    },
    {
      "cell_type": "code",
      "source": [
        "# Another permutation: 0->1, 1->0, 2->2, 3->3.\n",
        "p = [1, 0, 2, 3]\n",
        "# Identity matrix.\n",
        "I = np.identity(4, np.uint8)\n",
        "# Permutation matrix.\n",
        "P = I[p]\n",
        "# Print.\n",
        "matrix_print(P)"
      ],
      "metadata": {
        "colab": {
          "base_uri": "https://localhost:8080/"
        },
        "id": "zns7HTOuQXbb",
        "outputId": "eaa2de40-ee90-45d2-fc61-b0c13897dd6b"
      },
      "id": "zns7HTOuQXbb",
      "execution_count": 39,
      "outputs": [
        {
          "output_type": "stream",
          "name": "stdout",
          "text": [
            "0 1 0 0\n",
            "1 0 0 0\n",
            "0 0 1 0\n",
            "0 0 0 1\n",
            "\n"
          ]
        }
      ]
    },
    {
      "cell_type": "code",
      "source": [
        "# Permute A.\n",
        "A_P = P @ A @ P\n",
        "matrix_print(A_P)"
      ],
      "metadata": {
        "colab": {
          "base_uri": "https://localhost:8080/"
        },
        "id": "o6X4KQ8YsEqq",
        "outputId": "2c74e6c6-f461-469f-8c7c-e5a079a62dee"
      },
      "id": "o6X4KQ8YsEqq",
      "execution_count": 40,
      "outputs": [
        {
          "output_type": "stream",
          "name": "stdout",
          "text": [
            "0 1 1 1\n",
            "1 0 0 0\n",
            "1 0 0 1\n",
            "1 0 1 0\n",
            "\n"
          ]
        }
      ]
    },
    {
      "cell_type": "code",
      "source": [
        "# Create new graph from new adjacency matrix.\n",
        "G_P = nx.from_numpy_matrix(A_P)"
      ],
      "metadata": {
        "id": "DinL59EhsFZO"
      },
      "id": "DinL59EhsFZO",
      "execution_count": 41,
      "outputs": []
    },
    {
      "cell_type": "code",
      "source": [
        "# Draw it.\n",
        "nx.draw_circular(G_P, **params)"
      ],
      "metadata": {
        "colab": {
          "base_uri": "https://localhost:8080/",
          "height": 463
        },
        "id": "AD0uJ4yYsHZp",
        "outputId": "171a10d0-a964-42fc-81a0-cf6ea083c497"
      },
      "id": "AD0uJ4yYsHZp",
      "execution_count": 42,
      "outputs": [
        {
          "output_type": "display_data",
          "data": {
            "text/plain": [
              "<Figure size 432x432 with 1 Axes>"
            ],
            "image/png": "[encoded data removed]"
          },
          "metadata": {}
        }
      ]
    },
    {
      "cell_type": "code",
      "source": [
        "# Original graph.\n",
        "nx.draw_circular(G, **params)"
      ],
      "metadata": {
        "colab": {
          "base_uri": "https://localhost:8080/",
          "height": 463
        },
        "id": "S2tLi_A8uMrV",
        "outputId": "79b39a34-b74a-487a-8a55-23d6f3deda30"
      },
      "id": "S2tLi_A8uMrV",
      "execution_count": 43,
      "outputs": [
        {
          "output_type": "display_data",
          "data": {
            "text/plain": [
              "<Figure size 432x432 with 1 Axes>"
            ],
            "image/png": "[encoded data removed]"
          },
          "metadata": {}
        }
      ]
    },
    {
      "cell_type": "markdown",
      "source": [
        "## A Trickier Graph\n",
        "\n",
        "***"
      ],
      "metadata": {
        "id": "64DO1xAwgtdL"
      },
      "id": "64DO1xAwgtdL"
    },
    {
      "cell_type": "code",
      "source": [
        "# The Peterson graph.\n",
        "G = nx.petersen_graph()"
      ],
      "metadata": {
        "id": "ijOBBSunhARp"
      },
      "id": "ijOBBSunhARp",
      "execution_count": 44,
      "outputs": []
    },
    {
      "cell_type": "code",
      "source": [
        "# As it is usually drawn (or close enough).\n",
        "pos = nx.shell_layout(G, nlist=[[5,6,7,8,9], [0,1,2,3,4]], rotate=0, center=(2,2))\n",
        "nx.draw(G, pos=pos, **params)"
      ],
      "metadata": {
        "colab": {
          "base_uri": "https://localhost:8080/",
          "height": 463
        },
        "id": "l74qtoW2g_Qw",
        "outputId": "22f10d2b-3d0a-40a5-caea-ce0ddf3d7c10"
      },
      "id": "l74qtoW2g_Qw",
      "execution_count": 45,
      "outputs": [
        {
          "output_type": "display_data",
          "data": {
            "text/plain": [
              "<Figure size 432x432 with 1 Axes>"
            ],
            "image/png": "[encoded data removed]"
          },
          "metadata": {}
        }
      ]
    },
    {
      "cell_type": "code",
      "source": [
        "# Does this look like the same graph?\n",
        "nx.draw_shell(G, nlist=[range(5, 10), range(0, 5)], **params)\n"
      ],
      "metadata": {
        "colab": {
          "base_uri": "https://localhost:8080/",
          "height": 463
        },
        "id": "p_BdaY9Lgv8b",
        "outputId": "4aee6356-0e2e-4d54-86de-cb385cc3cb14"
      },
      "id": "p_BdaY9Lgv8b",
      "execution_count": 46,
      "outputs": [
        {
          "output_type": "display_data",
          "data": {
            "text/plain": [
              "<Figure size 432x432 with 1 Axes>"
            ],
            "image/png": "[encoded data removed]"
          },
          "metadata": {}
        }
      ]
    },
    {
      "cell_type": "code",
      "source": [
        "# Does this look like the same graph?\n",
        "nx.draw_shell(G, **params)"
      ],
      "metadata": {
        "colab": {
          "base_uri": "https://localhost:8080/",
          "height": 463
        },
        "id": "078gcjMugvaB",
        "outputId": "6c71b0d4-3780-4f49-a618-61acedf0eceb"
      },
      "id": "078gcjMugvaB",
      "execution_count": 47,
      "outputs": [
        {
          "output_type": "display_data",
          "data": {
            "text/plain": [
              "<Figure size 432x432 with 1 Axes>"
            ],
            "image/png": "[encoded data removed]"
          },
          "metadata": {}
        }
      ]
    },
    {
      "cell_type": "code",
      "source": [
        "# Does this look like the same graph?\n",
        "nx.draw_kamada_kawai(G,  **params)"
      ],
      "metadata": {
        "colab": {
          "base_uri": "https://localhost:8080/",
          "height": 463
        },
        "id": "hYBAtackg33I",
        "outputId": "ec8fa314-35e2-4bba-b04e-7754170717bf"
      },
      "id": "hYBAtackg33I",
      "execution_count": 48,
      "outputs": [
        {
          "output_type": "display_data",
          "data": {
            "text/plain": [
              "<Figure size 432x432 with 1 Axes>"
            ],
            "image/png": "[encoded data removed]"
          },
          "metadata": {}
        }
      ]
    },
    {
      "cell_type": "markdown",
      "source": [
        "## End"
      ],
      "metadata": {
        "id": "Eb3VbQRcg8vA"
      },
      "id": "Eb3VbQRcg8vA"
    }
  ],
  "metadata": {
    "kernelspec": {
      "display_name": "Python 3 (ipykernel)",
      "language": "python",
      "name": "python3"
    },
    "language_info": {
      "codemirror_mode": {
        "name": "ipython",
        "version": 3
      },
      "file_extension": ".py",
      "mimetype": "text/x-python",
      "name": "python",
      "nbconvert_exporter": "python",
      "pygments_lexer": "ipython3",
      "version": "3.9.10"
    },
    "colab": {
      "name": "graph-isomorphism.ipynb",
      "provenance": [],
      "collapsed_sections": [],
      "toc_visible": true,
      "include_colab_link": true
    }
  },
  "nbformat": 4,
  "nbformat_minor": 5
}