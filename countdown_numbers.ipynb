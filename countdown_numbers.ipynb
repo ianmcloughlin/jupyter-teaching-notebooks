{
  "nbformat": 4,
  "nbformat_minor": 0,
  "metadata": {
    "colab": {
      "name": "countdown-numbers.ipynb",
      "provenance": [],
      "collapsed_sections": [],
      "authorship_tag": "ABX9TyP3AtZg7TNawu7K+GMHW/Oc",
      "include_colab_link": true
    },
    "kernelspec": {
      "name": "python3",
      "display_name": "Python 3"
    },
    "language_info": {
      "name": "python"
    }
  },
  "cells": [
    {
      "cell_type": "markdown",
      "metadata": {
        "id": "view-in-github",
        "colab_type": "text"
      },
      "source": [
        "<a href=\"https://colab.research.google.com/github/ianmcloughlin/jupyter-teaching-notebooks/blob/main/countdown_numbers.ipynb\" target=\"_parent\"><img src=\"https://colab.research.google.com/assets/colab-badge.svg\" alt=\"Open In Colab\"/></a>"
      ]
    },
    {
      "cell_type": "markdown",
      "source": [
        "# Countdown Numbers\n",
        "\n",
        "***"
      ],
      "metadata": {
        "id": "8pbBoNnjyYUq"
      }
    },
    {
      "cell_type": "code",
      "source": [
        "# Permutations and combinations.\n",
        "import itertools as it"
      ],
      "metadata": {
        "id": "JqO7pBmv34Xh"
      },
      "execution_count": 1,
      "outputs": []
    },
    {
      "cell_type": "code",
      "source": [
        "# Random number generation.\n",
        "import random"
      ],
      "metadata": {
        "id": "ChjJipGO4sO0"
      },
      "execution_count": 2,
      "outputs": []
    },
    {
      "cell_type": "code",
      "source": [
        "# Operators as functions.\n",
        "import operator"
      ],
      "metadata": {
        "id": "6Tc4aYEP4w1r"
      },
      "execution_count": 3,
      "outputs": []
    },
    {
      "cell_type": "markdown",
      "source": [
        "## Simulate a game\n",
        "\n",
        "***"
      ],
      "metadata": {
        "id": "MYmBnBw140gJ"
      }
    },
    {
      "cell_type": "code",
      "source": [
        "# The large numbers.\n",
        "large = [25, 50, 75, 100]\n",
        "large"
      ],
      "metadata": {
        "colab": {
          "base_uri": "https://localhost:8080/"
        },
        "id": "Yx5IF5Zp5Cux",
        "outputId": "068fb3c3-c878-4454-921c-66142ee30675"
      },
      "execution_count": 4,
      "outputs": [
        {
          "output_type": "execute_result",
          "data": {
            "text/plain": [
              "[25, 50, 75, 100]"
            ]
          },
          "metadata": {},
          "execution_count": 4
        }
      ]
    },
    {
      "cell_type": "code",
      "source": [
        "# The small numbers.\n",
        "small = list(range(1, 11)) * 2\n",
        "small"
      ],
      "metadata": {
        "colab": {
          "base_uri": "https://localhost:8080/"
        },
        "id": "KxS3zv0d5HSL",
        "outputId": "2b7f8904-8935-42ed-e350-7c10d7cd19b4"
      },
      "execution_count": 5,
      "outputs": [
        {
          "output_type": "execute_result",
          "data": {
            "text/plain": [
              "[1, 2, 3, 4, 5, 6, 7, 8, 9, 10, 1, 2, 3, 4, 5, 6, 7, 8, 9, 10]"
            ]
          },
          "metadata": {},
          "execution_count": 5
        }
      ]
    },
    {
      "cell_type": "code",
      "source": [
        "# The number of large numbers to pick - between 0 and 4 inclusive.\n",
        "no_large = random.randrange(0, 5)\n",
        "no_large"
      ],
      "metadata": {
        "colab": {
          "base_uri": "https://localhost:8080/"
        },
        "id": "JS9nIWtG5Mlg",
        "outputId": "e106c2b7-c6ff-42c1-fa29-ea3c176cf754"
      },
      "execution_count": 6,
      "outputs": [
        {
          "output_type": "execute_result",
          "data": {
            "text/plain": [
              "2"
            ]
          },
          "metadata": {},
          "execution_count": 6
        }
      ]
    },
    {
      "cell_type": "code",
      "source": [
        "# Select no_large large numbers at random.\n",
        "large_rand = random.sample(large, no_large)\n",
        "large_rand"
      ],
      "metadata": {
        "colab": {
          "base_uri": "https://localhost:8080/"
        },
        "id": "0rCAkElK53YS",
        "outputId": "e8cad148-11f1-4c14-fdb7-f26eef2c1bd4"
      },
      "execution_count": 7,
      "outputs": [
        {
          "output_type": "execute_result",
          "data": {
            "text/plain": [
              "[50, 75]"
            ]
          },
          "metadata": {},
          "execution_count": 7
        }
      ]
    },
    {
      "cell_type": "code",
      "source": [
        "# Select (6 - no_large) small numbers at random.\n",
        "small_rand = random.sample(small, 6 - no_large)\n",
        "small_rand"
      ],
      "metadata": {
        "colab": {
          "base_uri": "https://localhost:8080/"
        },
        "id": "tM-eE80L6t9J",
        "outputId": "2d151822-7c5a-4ab5-a732-1aa29dda14fb"
      },
      "execution_count": 8,
      "outputs": [
        {
          "output_type": "execute_result",
          "data": {
            "text/plain": [
              "[5, 10, 5, 2]"
            ]
          },
          "metadata": {},
          "execution_count": 8
        }
      ]
    },
    {
      "cell_type": "code",
      "source": [
        "# The six random numbers in a list.\n",
        "play_nos = large_rand + small_rand\n",
        "play_nos"
      ],
      "metadata": {
        "colab": {
          "base_uri": "https://localhost:8080/"
        },
        "id": "xt9lTBVA60Z3",
        "outputId": "6cd4c175-d74d-43d8-a7a6-568172681d62"
      },
      "execution_count": 9,
      "outputs": [
        {
          "output_type": "execute_result",
          "data": {
            "text/plain": [
              "[50, 75, 5, 10, 5, 2]"
            ]
          },
          "metadata": {},
          "execution_count": 9
        }
      ]
    },
    {
      "cell_type": "code",
      "source": [
        "# Pick a random target number.\n",
        "target = random.randrange(101, 1000)\n",
        "target"
      ],
      "metadata": {
        "colab": {
          "base_uri": "https://localhost:8080/"
        },
        "id": "aaLW9vVS6-oK",
        "outputId": "3fe5166d-36d1-4e6f-95b3-1fc555ca8332"
      },
      "execution_count": 10,
      "outputs": [
        {
          "output_type": "execute_result",
          "data": {
            "text/plain": [
              "898"
            ]
          },
          "metadata": {},
          "execution_count": 10
        }
      ]
    },
    {
      "cell_type": "code",
      "source": [
        "# For random nubmers and samples.\n",
        "import random\n",
        "\n",
        "\n",
        "def new_numbers_game(no_large=None):\n",
        "  \"\"\" Returns six numbers and a target number representing a Countdown numbers game.\n",
        "  \"\"\"\n",
        "  # If no_large in None, randomly pick value between 0 and 4 inclusive.\n",
        "  if no_large is None:\n",
        "    # Randomly set the value.\n",
        "    no_large = random.randrange(0, 5)\n",
        "  \n",
        "  # Select random large numbers.\n",
        "  large_rand = random.sample([25, 50, 75, 100], no_large)\n",
        "  # Select random small numbers.\n",
        "  small_rand = random.sample(list(range(1, 11)) * 2, 6 - no_large)\n",
        "  # The playing numbers.\n",
        "  play_nos = large_rand + small_rand\n",
        "\n",
        "  # Select a target number.\n",
        "  target = random.randrange(101, 1000)\n",
        "\n",
        "  # Return the game.\n",
        "  return play_nos, target"
      ],
      "metadata": {
        "id": "_fZsrHYC7GcX"
      },
      "execution_count": 11,
      "outputs": []
    },
    {
      "cell_type": "code",
      "source": [
        "# Random nubmers game.\n",
        "new_numbers_game()"
      ],
      "metadata": {
        "colab": {
          "base_uri": "https://localhost:8080/"
        },
        "id": "NRg6d62_-5AX",
        "outputId": "c7732167-7c67-42cb-b787-5025d9756173"
      },
      "execution_count": 12,
      "outputs": [
        {
          "output_type": "execute_result",
          "data": {
            "text/plain": [
              "([100, 50, 75, 2, 3, 9], 501)"
            ]
          },
          "metadata": {},
          "execution_count": 12
        }
      ]
    },
    {
      "cell_type": "markdown",
      "source": [
        "## Working Towards a Solution\n",
        "\n",
        "***"
      ],
      "metadata": {
        "id": "C50PBKIM-8TJ"
      }
    },
    {
      "cell_type": "code",
      "source": [
        "# A new example game.\n",
        "play_nos, target = new_numbers_game()\n",
        "play_nos, target"
      ],
      "metadata": {
        "colab": {
          "base_uri": "https://localhost:8080/"
        },
        "id": "Grl8mQmu_hXH",
        "outputId": "913dae6c-53b4-4352-f72e-25222713ce22"
      },
      "execution_count": 13,
      "outputs": [
        {
          "output_type": "execute_result",
          "data": {
            "text/plain": [
              "([50, 100, 8, 9, 5, 7], 221)"
            ]
          },
          "metadata": {},
          "execution_count": 13
        }
      ]
    },
    {
      "cell_type": "code",
      "source": [
        "# Looping through all permutations of two playing numbers.\n",
        "for p in it.permutations(play_nos, 2):\n",
        "  # Print the two numbers.\n",
        "  print(p)\n",
        "  # Print their sum.\n",
        "  print(f'{p[0]} + {p[1]} = {p[0]+p[1]}')\n",
        "  # Print their product.\n",
        "  print(f'{p[0]} * {p[1]} = {p[0]*p[1]}')\n",
        "  # Print their difference if it is positive.\n",
        "  if p[0] - p[1] > 0:\n",
        "    print(f'{p[0]} - {p[1]} = {p[0]-p[1]}')\n",
        "  # Print their quotient if it is an integer.\n",
        "  if p[0] % p[1] == 0:\n",
        "    print(f'{p[0]} / {p[1]} = {p[0]//p[1]}')\n",
        "  # Print a blank line.\n",
        "  print()"
      ],
      "metadata": {
        "colab": {
          "base_uri": "https://localhost:8080/"
        },
        "id": "Vt0aVjTp_RDX",
        "outputId": "e6c17aa0-b1de-42e6-ad9d-68edee7e7586"
      },
      "execution_count": 14,
      "outputs": [
        {
          "output_type": "stream",
          "name": "stdout",
          "text": [
            "(50, 100)\n",
            "50 + 100 = 150\n",
            "50 * 100 = 5000\n",
            "\n",
            "(50, 8)\n",
            "50 + 8 = 58\n",
            "50 * 8 = 400\n",
            "50 - 8 = 42\n",
            "\n",
            "(50, 9)\n",
            "50 + 9 = 59\n",
            "50 * 9 = 450\n",
            "50 - 9 = 41\n",
            "\n",
            "(50, 5)\n",
            "50 + 5 = 55\n",
            "50 * 5 = 250\n",
            "50 - 5 = 45\n",
            "50 / 5 = 10\n",
            "\n",
            "(50, 7)\n",
            "50 + 7 = 57\n",
            "50 * 7 = 350\n",
            "50 - 7 = 43\n",
            "\n",
            "(100, 50)\n",
            "100 + 50 = 150\n",
            "100 * 50 = 5000\n",
            "100 - 50 = 50\n",
            "100 / 50 = 2\n",
            "\n",
            "(100, 8)\n",
            "100 + 8 = 108\n",
            "100 * 8 = 800\n",
            "100 - 8 = 92\n",
            "\n",
            "(100, 9)\n",
            "100 + 9 = 109\n",
            "100 * 9 = 900\n",
            "100 - 9 = 91\n",
            "\n",
            "(100, 5)\n",
            "100 + 5 = 105\n",
            "100 * 5 = 500\n",
            "100 - 5 = 95\n",
            "100 / 5 = 20\n",
            "\n",
            "(100, 7)\n",
            "100 + 7 = 107\n",
            "100 * 7 = 700\n",
            "100 - 7 = 93\n",
            "\n",
            "(8, 50)\n",
            "8 + 50 = 58\n",
            "8 * 50 = 400\n",
            "\n",
            "(8, 100)\n",
            "8 + 100 = 108\n",
            "8 * 100 = 800\n",
            "\n",
            "(8, 9)\n",
            "8 + 9 = 17\n",
            "8 * 9 = 72\n",
            "\n",
            "(8, 5)\n",
            "8 + 5 = 13\n",
            "8 * 5 = 40\n",
            "8 - 5 = 3\n",
            "\n",
            "(8, 7)\n",
            "8 + 7 = 15\n",
            "8 * 7 = 56\n",
            "8 - 7 = 1\n",
            "\n",
            "(9, 50)\n",
            "9 + 50 = 59\n",
            "9 * 50 = 450\n",
            "\n",
            "(9, 100)\n",
            "9 + 100 = 109\n",
            "9 * 100 = 900\n",
            "\n",
            "(9, 8)\n",
            "9 + 8 = 17\n",
            "9 * 8 = 72\n",
            "9 - 8 = 1\n",
            "\n",
            "(9, 5)\n",
            "9 + 5 = 14\n",
            "9 * 5 = 45\n",
            "9 - 5 = 4\n",
            "\n",
            "(9, 7)\n",
            "9 + 7 = 16\n",
            "9 * 7 = 63\n",
            "9 - 7 = 2\n",
            "\n",
            "(5, 50)\n",
            "5 + 50 = 55\n",
            "5 * 50 = 250\n",
            "\n",
            "(5, 100)\n",
            "5 + 100 = 105\n",
            "5 * 100 = 500\n",
            "\n",
            "(5, 8)\n",
            "5 + 8 = 13\n",
            "5 * 8 = 40\n",
            "\n",
            "(5, 9)\n",
            "5 + 9 = 14\n",
            "5 * 9 = 45\n",
            "\n",
            "(5, 7)\n",
            "5 + 7 = 12\n",
            "5 * 7 = 35\n",
            "\n",
            "(7, 50)\n",
            "7 + 50 = 57\n",
            "7 * 50 = 350\n",
            "\n",
            "(7, 100)\n",
            "7 + 100 = 107\n",
            "7 * 100 = 700\n",
            "\n",
            "(7, 8)\n",
            "7 + 8 = 15\n",
            "7 * 8 = 56\n",
            "\n",
            "(7, 9)\n",
            "7 + 9 = 16\n",
            "7 * 9 = 63\n",
            "\n",
            "(7, 5)\n",
            "7 + 5 = 12\n",
            "7 * 5 = 35\n",
            "7 - 5 = 2\n",
            "\n"
          ]
        }
      ]
    },
    {
      "cell_type": "markdown",
      "source": [
        "## Operators and Functions\n",
        "\n",
        "***"
      ],
      "metadata": {
        "id": "k31NgnigFNo4"
      }
    },
    {
      "cell_type": "code",
      "source": [
        "# The + operator as a function.\n",
        "operator.add(4, 5)"
      ],
      "metadata": {
        "colab": {
          "base_uri": "https://localhost:8080/"
        },
        "id": "GYRC-wchHM00",
        "outputId": "0af74a6c-f2b9-4e3a-cce0-d354d318b646"
      },
      "execution_count": 15,
      "outputs": [
        {
          "output_type": "execute_result",
          "data": {
            "text/plain": [
              "9"
            ]
          },
          "metadata": {},
          "execution_count": 15
        }
      ]
    },
    {
      "cell_type": "code",
      "source": [
        "# The * operator as a function.\n",
        "operator.mul(4, 5)"
      ],
      "metadata": {
        "colab": {
          "base_uri": "https://localhost:8080/"
        },
        "id": "8MwlepeYHTxT",
        "outputId": "5410ce09-d5aa-4b5c-d726-1dc665960976"
      },
      "execution_count": 16,
      "outputs": [
        {
          "output_type": "execute_result",
          "data": {
            "text/plain": [
              "20"
            ]
          },
          "metadata": {},
          "execution_count": 16
        }
      ]
    },
    {
      "cell_type": "code",
      "source": [
        "# The - operator as a function.\n",
        "operator.sub(4, 5)"
      ],
      "metadata": {
        "colab": {
          "base_uri": "https://localhost:8080/"
        },
        "id": "0Okp8PUnHffz",
        "outputId": "93f7c5b0-91a1-4ded-e115-b6e39eafe2bc"
      },
      "execution_count": 17,
      "outputs": [
        {
          "output_type": "execute_result",
          "data": {
            "text/plain": [
              "-1"
            ]
          },
          "metadata": {},
          "execution_count": 17
        }
      ]
    },
    {
      "cell_type": "code",
      "source": [
        "# The / operator as a function.\n",
        "operator.truediv(4, 5)"
      ],
      "metadata": {
        "colab": {
          "base_uri": "https://localhost:8080/"
        },
        "id": "XJXXSJSjHlnu",
        "outputId": "4a4325e5-b31a-4be0-adcf-ab03ade15ede"
      },
      "execution_count": 18,
      "outputs": [
        {
          "output_type": "execute_result",
          "data": {
            "text/plain": [
              "0.8"
            ]
          },
          "metadata": {},
          "execution_count": 18
        }
      ]
    },
    {
      "cell_type": "code",
      "source": [
        "# The benefit of these is that they are first class objects.\n",
        "# Note the +, -, *, / operators can't be put in lists.\n",
        "ops = [operator.add, operator.mul, operator.sub, operator.truediv]\n",
        "ops"
      ],
      "metadata": {
        "colab": {
          "base_uri": "https://localhost:8080/"
        },
        "id": "BW2__Pn7HtN0",
        "outputId": "892f5ebc-f916-4bdf-8153-6d080e05c3a6"
      },
      "execution_count": 19,
      "outputs": [
        {
          "output_type": "execute_result",
          "data": {
            "text/plain": [
              "[<function _operator.add>,\n",
              " <function _operator.mul>,\n",
              " <function _operator.sub>,\n",
              " <function _operator.truediv>]"
            ]
          },
          "metadata": {},
          "execution_count": 19
        }
      ]
    },
    {
      "cell_type": "code",
      "source": [
        "# Using permutations we can get all permutations with replacement of five operations.\n",
        "# We use a limit because their are a large number.\n",
        "limit = 10\n",
        "for q in it.permutations(ops * 5, 5):\n",
        "  if limit == 0:\n",
        "    break\n",
        "  print(q)\n",
        "  limit = limit - 1"
      ],
      "metadata": {
        "colab": {
          "base_uri": "https://localhost:8080/"
        },
        "id": "bb1OPvEGIBVN",
        "outputId": "fd590636-c5e8-4573-a6d1-8cbf56c65f20"
      },
      "execution_count": 20,
      "outputs": [
        {
          "output_type": "stream",
          "name": "stdout",
          "text": [
            "(<built-in function add>, <built-in function mul>, <built-in function sub>, <built-in function truediv>, <built-in function add>)\n",
            "(<built-in function add>, <built-in function mul>, <built-in function sub>, <built-in function truediv>, <built-in function mul>)\n",
            "(<built-in function add>, <built-in function mul>, <built-in function sub>, <built-in function truediv>, <built-in function sub>)\n",
            "(<built-in function add>, <built-in function mul>, <built-in function sub>, <built-in function truediv>, <built-in function truediv>)\n",
            "(<built-in function add>, <built-in function mul>, <built-in function sub>, <built-in function truediv>, <built-in function add>)\n",
            "(<built-in function add>, <built-in function mul>, <built-in function sub>, <built-in function truediv>, <built-in function mul>)\n",
            "(<built-in function add>, <built-in function mul>, <built-in function sub>, <built-in function truediv>, <built-in function sub>)\n",
            "(<built-in function add>, <built-in function mul>, <built-in function sub>, <built-in function truediv>, <built-in function truediv>)\n",
            "(<built-in function add>, <built-in function mul>, <built-in function sub>, <built-in function truediv>, <built-in function add>)\n",
            "(<built-in function add>, <built-in function mul>, <built-in function sub>, <built-in function truediv>, <built-in function mul>)\n"
          ]
        }
      ]
    },
    {
      "cell_type": "markdown",
      "source": [
        "## Permutations and Combinations\n",
        "\n",
        "***"
      ],
      "metadata": {
        "id": "zD_6dt2nPhSY"
      }
    },
    {
      "cell_type": "code",
      "source": [
        "# Example of combinations.\n",
        "# Order matters: no. Replacement: no.\n",
        "L = [1, 2, 3, 4]\n",
        "for c in it.combinations(L, 2):\n",
        "  print(c)"
      ],
      "metadata": {
        "colab": {
          "base_uri": "https://localhost:8080/"
        },
        "id": "kiOcah20JiuX",
        "outputId": "c8fd12c8-606d-4edd-ab7b-e1d6f39e5d9b"
      },
      "execution_count": 21,
      "outputs": [
        {
          "output_type": "stream",
          "name": "stdout",
          "text": [
            "(1, 2)\n",
            "(1, 3)\n",
            "(1, 4)\n",
            "(2, 3)\n",
            "(2, 4)\n",
            "(3, 4)\n"
          ]
        }
      ]
    },
    {
      "cell_type": "code",
      "source": [
        "# Example of combinations with replacement.\n",
        "# Order matters: no. Replacement: yes.\n",
        "L = [1, 2, 3, 4]\n",
        "for c in it.combinations_with_replacement(L, 2):\n",
        "  print(c)"
      ],
      "metadata": {
        "colab": {
          "base_uri": "https://localhost:8080/"
        },
        "id": "jORpHqGaKBdB",
        "outputId": "18e20d87-0458-4b47-a094-39c823547e40"
      },
      "execution_count": 22,
      "outputs": [
        {
          "output_type": "stream",
          "name": "stdout",
          "text": [
            "(1, 1)\n",
            "(1, 2)\n",
            "(1, 3)\n",
            "(1, 4)\n",
            "(2, 2)\n",
            "(2, 3)\n",
            "(2, 4)\n",
            "(3, 3)\n",
            "(3, 4)\n",
            "(4, 4)\n"
          ]
        }
      ]
    },
    {
      "cell_type": "code",
      "source": [
        "# Example of permutations of size 2.\n",
        "# Order matters: yes. Replacement: no.\n",
        "L = [1, 2, 3, 4]\n",
        "for c in it.permutations(L, 2):\n",
        "  print(c)"
      ],
      "metadata": {
        "colab": {
          "base_uri": "https://localhost:8080/"
        },
        "id": "qsiw3ufGKKlJ",
        "outputId": "af649799-0a64-4870-ebbd-58d5eca8e71b"
      },
      "execution_count": 23,
      "outputs": [
        {
          "output_type": "stream",
          "name": "stdout",
          "text": [
            "(1, 2)\n",
            "(1, 3)\n",
            "(1, 4)\n",
            "(2, 1)\n",
            "(2, 3)\n",
            "(2, 4)\n",
            "(3, 1)\n",
            "(3, 2)\n",
            "(3, 4)\n",
            "(4, 1)\n",
            "(4, 2)\n",
            "(4, 3)\n"
          ]
        }
      ]
    },
    {
      "cell_type": "code",
      "source": [
        "# Example of products of length 2.\n",
        "# Order matters: yes. Replacement: yes.\n",
        "L = [1, 2, 3, 4]\n",
        "for c in it.product(L, repeat=2):\n",
        "  print(c)"
      ],
      "metadata": {
        "colab": {
          "base_uri": "https://localhost:8080/"
        },
        "id": "HujYqrtcKSWr",
        "outputId": "16e0ea38-bb27-4654-8d0c-51f291543019"
      },
      "execution_count": 24,
      "outputs": [
        {
          "output_type": "stream",
          "name": "stdout",
          "text": [
            "(1, 1)\n",
            "(1, 2)\n",
            "(1, 3)\n",
            "(1, 4)\n",
            "(2, 1)\n",
            "(2, 2)\n",
            "(2, 3)\n",
            "(2, 4)\n",
            "(3, 1)\n",
            "(3, 2)\n",
            "(3, 3)\n",
            "(3, 4)\n",
            "(4, 1)\n",
            "(4, 2)\n",
            "(4, 3)\n",
            "(4, 4)\n"
          ]
        }
      ]
    },
    {
      "cell_type": "code",
      "source": [
        "# Using product to generate all lists of five operations.\n",
        "ops = [operator.add, operator.mul, operator.sub, operator.truediv]\n",
        "limit = 100\n",
        "for q in it.product(ops, repeat=5):\n",
        "  if limit == 0:\n",
        "    break\n",
        "  print(q)\n",
        "  limit = limit - 1"
      ],
      "metadata": {
        "colab": {
          "base_uri": "https://localhost:8080/"
        },
        "id": "Bz-hF4nlKkNy",
        "outputId": "9ae819c0-6a18-48f2-8a35-c88ecce0e5db"
      },
      "execution_count": 25,
      "outputs": [
        {
          "output_type": "stream",
          "name": "stdout",
          "text": [
            "(<built-in function add>, <built-in function add>, <built-in function add>, <built-in function add>, <built-in function add>)\n",
            "(<built-in function add>, <built-in function add>, <built-in function add>, <built-in function add>, <built-in function mul>)\n",
            "(<built-in function add>, <built-in function add>, <built-in function add>, <built-in function add>, <built-in function sub>)\n",
            "(<built-in function add>, <built-in function add>, <built-in function add>, <built-in function add>, <built-in function truediv>)\n",
            "(<built-in function add>, <built-in function add>, <built-in function add>, <built-in function mul>, <built-in function add>)\n",
            "(<built-in function add>, <built-in function add>, <built-in function add>, <built-in function mul>, <built-in function mul>)\n",
            "(<built-in function add>, <built-in function add>, <built-in function add>, <built-in function mul>, <built-in function sub>)\n",
            "(<built-in function add>, <built-in function add>, <built-in function add>, <built-in function mul>, <built-in function truediv>)\n",
            "(<built-in function add>, <built-in function add>, <built-in function add>, <built-in function sub>, <built-in function add>)\n",
            "(<built-in function add>, <built-in function add>, <built-in function add>, <built-in function sub>, <built-in function mul>)\n",
            "(<built-in function add>, <built-in function add>, <built-in function add>, <built-in function sub>, <built-in function sub>)\n",
            "(<built-in function add>, <built-in function add>, <built-in function add>, <built-in function sub>, <built-in function truediv>)\n",
            "(<built-in function add>, <built-in function add>, <built-in function add>, <built-in function truediv>, <built-in function add>)\n",
            "(<built-in function add>, <built-in function add>, <built-in function add>, <built-in function truediv>, <built-in function mul>)\n",
            "(<built-in function add>, <built-in function add>, <built-in function add>, <built-in function truediv>, <built-in function sub>)\n",
            "(<built-in function add>, <built-in function add>, <built-in function add>, <built-in function truediv>, <built-in function truediv>)\n",
            "(<built-in function add>, <built-in function add>, <built-in function mul>, <built-in function add>, <built-in function add>)\n",
            "(<built-in function add>, <built-in function add>, <built-in function mul>, <built-in function add>, <built-in function mul>)\n",
            "(<built-in function add>, <built-in function add>, <built-in function mul>, <built-in function add>, <built-in function sub>)\n",
            "(<built-in function add>, <built-in function add>, <built-in function mul>, <built-in function add>, <built-in function truediv>)\n",
            "(<built-in function add>, <built-in function add>, <built-in function mul>, <built-in function mul>, <built-in function add>)\n",
            "(<built-in function add>, <built-in function add>, <built-in function mul>, <built-in function mul>, <built-in function mul>)\n",
            "(<built-in function add>, <built-in function add>, <built-in function mul>, <built-in function mul>, <built-in function sub>)\n",
            "(<built-in function add>, <built-in function add>, <built-in function mul>, <built-in function mul>, <built-in function truediv>)\n",
            "(<built-in function add>, <built-in function add>, <built-in function mul>, <built-in function sub>, <built-in function add>)\n",
            "(<built-in function add>, <built-in function add>, <built-in function mul>, <built-in function sub>, <built-in function mul>)\n",
            "(<built-in function add>, <built-in function add>, <built-in function mul>, <built-in function sub>, <built-in function sub>)\n",
            "(<built-in function add>, <built-in function add>, <built-in function mul>, <built-in function sub>, <built-in function truediv>)\n",
            "(<built-in function add>, <built-in function add>, <built-in function mul>, <built-in function truediv>, <built-in function add>)\n",
            "(<built-in function add>, <built-in function add>, <built-in function mul>, <built-in function truediv>, <built-in function mul>)\n",
            "(<built-in function add>, <built-in function add>, <built-in function mul>, <built-in function truediv>, <built-in function sub>)\n",
            "(<built-in function add>, <built-in function add>, <built-in function mul>, <built-in function truediv>, <built-in function truediv>)\n",
            "(<built-in function add>, <built-in function add>, <built-in function sub>, <built-in function add>, <built-in function add>)\n",
            "(<built-in function add>, <built-in function add>, <built-in function sub>, <built-in function add>, <built-in function mul>)\n",
            "(<built-in function add>, <built-in function add>, <built-in function sub>, <built-in function add>, <built-in function sub>)\n",
            "(<built-in function add>, <built-in function add>, <built-in function sub>, <built-in function add>, <built-in function truediv>)\n",
            "(<built-in function add>, <built-in function add>, <built-in function sub>, <built-in function mul>, <built-in function add>)\n",
            "(<built-in function add>, <built-in function add>, <built-in function sub>, <built-in function mul>, <built-in function mul>)\n",
            "(<built-in function add>, <built-in function add>, <built-in function sub>, <built-in function mul>, <built-in function sub>)\n",
            "(<built-in function add>, <built-in function add>, <built-in function sub>, <built-in function mul>, <built-in function truediv>)\n",
            "(<built-in function add>, <built-in function add>, <built-in function sub>, <built-in function sub>, <built-in function add>)\n",
            "(<built-in function add>, <built-in function add>, <built-in function sub>, <built-in function sub>, <built-in function mul>)\n",
            "(<built-in function add>, <built-in function add>, <built-in function sub>, <built-in function sub>, <built-in function sub>)\n",
            "(<built-in function add>, <built-in function add>, <built-in function sub>, <built-in function sub>, <built-in function truediv>)\n",
            "(<built-in function add>, <built-in function add>, <built-in function sub>, <built-in function truediv>, <built-in function add>)\n",
            "(<built-in function add>, <built-in function add>, <built-in function sub>, <built-in function truediv>, <built-in function mul>)\n",
            "(<built-in function add>, <built-in function add>, <built-in function sub>, <built-in function truediv>, <built-in function sub>)\n",
            "(<built-in function add>, <built-in function add>, <built-in function sub>, <built-in function truediv>, <built-in function truediv>)\n",
            "(<built-in function add>, <built-in function add>, <built-in function truediv>, <built-in function add>, <built-in function add>)\n",
            "(<built-in function add>, <built-in function add>, <built-in function truediv>, <built-in function add>, <built-in function mul>)\n",
            "(<built-in function add>, <built-in function add>, <built-in function truediv>, <built-in function add>, <built-in function sub>)\n",
            "(<built-in function add>, <built-in function add>, <built-in function truediv>, <built-in function add>, <built-in function truediv>)\n",
            "(<built-in function add>, <built-in function add>, <built-in function truediv>, <built-in function mul>, <built-in function add>)\n",
            "(<built-in function add>, <built-in function add>, <built-in function truediv>, <built-in function mul>, <built-in function mul>)\n",
            "(<built-in function add>, <built-in function add>, <built-in function truediv>, <built-in function mul>, <built-in function sub>)\n",
            "(<built-in function add>, <built-in function add>, <built-in function truediv>, <built-in function mul>, <built-in function truediv>)\n",
            "(<built-in function add>, <built-in function add>, <built-in function truediv>, <built-in function sub>, <built-in function add>)\n",
            "(<built-in function add>, <built-in function add>, <built-in function truediv>, <built-in function sub>, <built-in function mul>)\n",
            "(<built-in function add>, <built-in function add>, <built-in function truediv>, <built-in function sub>, <built-in function sub>)\n",
            "(<built-in function add>, <built-in function add>, <built-in function truediv>, <built-in function sub>, <built-in function truediv>)\n",
            "(<built-in function add>, <built-in function add>, <built-in function truediv>, <built-in function truediv>, <built-in function add>)\n",
            "(<built-in function add>, <built-in function add>, <built-in function truediv>, <built-in function truediv>, <built-in function mul>)\n",
            "(<built-in function add>, <built-in function add>, <built-in function truediv>, <built-in function truediv>, <built-in function sub>)\n",
            "(<built-in function add>, <built-in function add>, <built-in function truediv>, <built-in function truediv>, <built-in function truediv>)\n",
            "(<built-in function add>, <built-in function mul>, <built-in function add>, <built-in function add>, <built-in function add>)\n",
            "(<built-in function add>, <built-in function mul>, <built-in function add>, <built-in function add>, <built-in function mul>)\n",
            "(<built-in function add>, <built-in function mul>, <built-in function add>, <built-in function add>, <built-in function sub>)\n",
            "(<built-in function add>, <built-in function mul>, <built-in function add>, <built-in function add>, <built-in function truediv>)\n",
            "(<built-in function add>, <built-in function mul>, <built-in function add>, <built-in function mul>, <built-in function add>)\n",
            "(<built-in function add>, <built-in function mul>, <built-in function add>, <built-in function mul>, <built-in function mul>)\n",
            "(<built-in function add>, <built-in function mul>, <built-in function add>, <built-in function mul>, <built-in function sub>)\n",
            "(<built-in function add>, <built-in function mul>, <built-in function add>, <built-in function mul>, <built-in function truediv>)\n",
            "(<built-in function add>, <built-in function mul>, <built-in function add>, <built-in function sub>, <built-in function add>)\n",
            "(<built-in function add>, <built-in function mul>, <built-in function add>, <built-in function sub>, <built-in function mul>)\n",
            "(<built-in function add>, <built-in function mul>, <built-in function add>, <built-in function sub>, <built-in function sub>)\n",
            "(<built-in function add>, <built-in function mul>, <built-in function add>, <built-in function sub>, <built-in function truediv>)\n",
            "(<built-in function add>, <built-in function mul>, <built-in function add>, <built-in function truediv>, <built-in function add>)\n",
            "(<built-in function add>, <built-in function mul>, <built-in function add>, <built-in function truediv>, <built-in function mul>)\n",
            "(<built-in function add>, <built-in function mul>, <built-in function add>, <built-in function truediv>, <built-in function sub>)\n",
            "(<built-in function add>, <built-in function mul>, <built-in function add>, <built-in function truediv>, <built-in function truediv>)\n",
            "(<built-in function add>, <built-in function mul>, <built-in function mul>, <built-in function add>, <built-in function add>)\n",
            "(<built-in function add>, <built-in function mul>, <built-in function mul>, <built-in function add>, <built-in function mul>)\n",
            "(<built-in function add>, <built-in function mul>, <built-in function mul>, <built-in function add>, <built-in function sub>)\n",
            "(<built-in function add>, <built-in function mul>, <built-in function mul>, <built-in function add>, <built-in function truediv>)\n",
            "(<built-in function add>, <built-in function mul>, <built-in function mul>, <built-in function mul>, <built-in function add>)\n",
            "(<built-in function add>, <built-in function mul>, <built-in function mul>, <built-in function mul>, <built-in function mul>)\n",
            "(<built-in function add>, <built-in function mul>, <built-in function mul>, <built-in function mul>, <built-in function sub>)\n",
            "(<built-in function add>, <built-in function mul>, <built-in function mul>, <built-in function mul>, <built-in function truediv>)\n",
            "(<built-in function add>, <built-in function mul>, <built-in function mul>, <built-in function sub>, <built-in function add>)\n",
            "(<built-in function add>, <built-in function mul>, <built-in function mul>, <built-in function sub>, <built-in function mul>)\n",
            "(<built-in function add>, <built-in function mul>, <built-in function mul>, <built-in function sub>, <built-in function sub>)\n",
            "(<built-in function add>, <built-in function mul>, <built-in function mul>, <built-in function sub>, <built-in function truediv>)\n",
            "(<built-in function add>, <built-in function mul>, <built-in function mul>, <built-in function truediv>, <built-in function add>)\n",
            "(<built-in function add>, <built-in function mul>, <built-in function mul>, <built-in function truediv>, <built-in function mul>)\n",
            "(<built-in function add>, <built-in function mul>, <built-in function mul>, <built-in function truediv>, <built-in function sub>)\n",
            "(<built-in function add>, <built-in function mul>, <built-in function mul>, <built-in function truediv>, <built-in function truediv>)\n",
            "(<built-in function add>, <built-in function mul>, <built-in function sub>, <built-in function add>, <built-in function add>)\n",
            "(<built-in function add>, <built-in function mul>, <built-in function sub>, <built-in function add>, <built-in function mul>)\n",
            "(<built-in function add>, <built-in function mul>, <built-in function sub>, <built-in function add>, <built-in function sub>)\n",
            "(<built-in function add>, <built-in function mul>, <built-in function sub>, <built-in function add>, <built-in function truediv>)\n"
          ]
        }
      ]
    },
    {
      "cell_type": "markdown",
      "source": [
        "## Reverse Polish Notation\n",
        "\n",
        "***"
      ],
      "metadata": {
        "id": "MPJugRaZP7Ap"
      }
    },
    {
      "cell_type": "code",
      "source": [
        "# 3 4 5 * +\n",
        "3 + 4 * 5"
      ],
      "metadata": {
        "colab": {
          "base_uri": "https://localhost:8080/"
        },
        "id": "537cA-mDNCHS",
        "outputId": "12c9f556-e62b-4fb0-a426-a1e9e4452a8a"
      },
      "execution_count": 26,
      "outputs": [
        {
          "output_type": "execute_result",
          "data": {
            "text/plain": [
              "23"
            ]
          },
          "metadata": {},
          "execution_count": 26
        }
      ]
    },
    {
      "cell_type": "code",
      "source": [
        "# 3 4 + 5 *\n",
        "(3 + 4) * 5"
      ],
      "metadata": {
        "colab": {
          "base_uri": "https://localhost:8080/"
        },
        "id": "m_RjCx96MDtP",
        "outputId": "351c7390-a446-458f-c34b-e5f01358485e"
      },
      "execution_count": 27,
      "outputs": [
        {
          "output_type": "execute_result",
          "data": {
            "text/plain": [
              "35"
            ]
          },
          "metadata": {},
          "execution_count": 27
        }
      ]
    },
    {
      "cell_type": "markdown",
      "source": [
        "***\n",
        "\n",
        "## End"
      ],
      "metadata": {
        "id": "E8FzFpTJM1wu"
      }
    }
  ]
}