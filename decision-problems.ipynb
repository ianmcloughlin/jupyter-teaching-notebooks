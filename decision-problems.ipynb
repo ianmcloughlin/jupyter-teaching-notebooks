{
 "cells": [
  {
   "cell_type": "markdown",
   "metadata": {},
   "source": [
    "# Decision problems"
   ]
  },
  {
   "cell_type": "markdown",
   "metadata": {},
   "source": [
    "***\n",
    "\n",
    "A decision problem is a problem with a binary answer - yes/no or True/False.\n",
    "That's a bit of a fuzzy definition and decision problems are important in complexity theory.\n",
    "Hence, we'll formalise the definition below.\n",
    "We want to understand the following definition of a decision problem $f$:\n",
    "\n",
    "$$ f(n) \\in \\{ \\mathrm{T}, \\mathrm{F} \\} \\quad \\forall n \\in S $$\n",
    "\n",
    "***"
   ]
  },
  {
   "cell_type": "markdown",
   "metadata": {},
   "source": [
    "## Sets\n",
    "\n",
    "A set is a collection of objects.\n",
    "\n",
    "##### Examples\n",
    "\n",
    "- The set of chairs in this room.\n",
    "- The set of boolean values: $\\{ \\mathrm{T}, \\mathrm{F} \\}$.\n",
    "- The set of integers $\\mathbb{Z}$.\n",
    "- The set of prime numbers: $\\mathrm{PRIMES} = \\{ i | j \\nmid i \\forall j < i ; i, j \\in \\mathbb{N}; i, j > 1 \\}$.\n",
    "\n",
    "##### About sets\n",
    "\n",
    "- There's not a lot to the definition of *set*, it's a really basic definition.\n",
    "- Sets don't have a built-in ordering: $\\{ 1, 2, 3 \\} = \\{ 1, 3, 2\\} = \\{ 2, 1, 3\\} = \\ldots$\n",
    "- Membership cannot be ambiguous.\n",
    "\n",
    "***"
   ]
  },
  {
   "cell_type": "markdown",
   "metadata": {},
   "source": [
    "## Maps"
   ]
  },
  {
   "cell_type": "markdown",
   "metadata": {},
   "source": [
    "A map pairs the elements of sets in a specific way.\n",
    "\n",
    "##### Tuples\n",
    "\n"
   ]
  },
  {
   "cell_type": "code",
   "execution_count": null,
   "metadata": {},
   "outputs": [],
   "source": []
  }
 ],
 "metadata": {
  "kernelspec": {
   "display_name": "Python 3",
   "language": "python",
   "name": "python3"
  },
  "language_info": {
   "codemirror_mode": {
    "name": "ipython",
    "version": 3
   },
   "file_extension": ".py",
   "mimetype": "text/x-python",
   "name": "python",
   "nbconvert_exporter": "python",
   "pygments_lexer": "ipython3",
   "version": "3.6.7"
  }
 },
 "nbformat": 4,
 "nbformat_minor": 2
}
