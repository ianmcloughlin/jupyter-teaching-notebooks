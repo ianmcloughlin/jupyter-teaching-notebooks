{
  "nbformat": 4,
  "nbformat_minor": 0,
  "metadata": {
    "colab": {
      "name": "permutations.ipynb",
      "provenance": [],
      "collapsed_sections": [],
      "authorship_tag": "ABX9TyPi4lN4ECBqaAsWbwfAMGd+",
      "include_colab_link": true
    },
    "kernelspec": {
      "name": "python3",
      "display_name": "Python 3"
    },
    "language_info": {
      "name": "python"
    }
  },
  "cells": [
    {
      "cell_type": "markdown",
      "metadata": {
        "id": "view-in-github",
        "colab_type": "text"
      },
      "source": [
        "<a href=\"https://colab.research.google.com/github/ianmcloughlin/jupyter-teaching-notebooks/blob/main/permutations.ipynb\" target=\"_parent\"><img src=\"https://colab.research.google.com/assets/colab-badge.svg\" alt=\"Open In Colab\"/></a>"
      ]
    },
    {
      "cell_type": "markdown",
      "source": [
        "# Permutations"
      ],
      "metadata": {
        "id": "28wCoEERmt-F"
      }
    },
    {
      "cell_type": "code",
      "source": [
        "# A list of five (distinct) elements.\n",
        "L = [1, 2, 3, 4, 5]"
      ],
      "metadata": {
        "id": "uUj5l-O8qt3-"
      },
      "execution_count": 1,
      "outputs": []
    },
    {
      "cell_type": "code",
      "source": [
        "# A permutation of the list L.\n",
        "M = [2, 1, 3, 4, 5]"
      ],
      "metadata": {
        "id": "vRgf7bpsrdIJ"
      },
      "execution_count": 2,
      "outputs": []
    },
    {
      "cell_type": "code",
      "source": [
        "# Another permutation.\n",
        "N = [5, 2, 1, 3, 4]"
      ],
      "metadata": {
        "id": "PTIEqtkvrp7P"
      },
      "execution_count": 3,
      "outputs": []
    },
    {
      "cell_type": "markdown",
      "source": [
        "## How many permutations are there?\n",
        "\n",
        "***"
      ],
      "metadata": {
        "id": "onGSIeVKr8uy"
      }
    },
    {
      "cell_type": "code",
      "source": [
        "# Suppose we have five blank spaces in which to put the elements of L.\n",
        "#      _ _ _ _ _ \n",
        "# In the first position, we can put any of the five elements.\n",
        "# e.g. 3 _ _ _ _ \n",
        "# If we put 3 in the first position, then we have four elements remaining\n",
        "# to choose from for the second position.\n",
        "# e.g. 3 5 _ _ _\n",
        "# Then we have three elements left, and so on.\n",
        "# So, there are five choices for the first position.\n",
        "# For each of those choices there are four different choices for the second position.\n",
        "# Then for the third position there are three choices for each of those.\n",
        "# And so on.\n",
        "\n",
        "# Number of permutations of 5 elements is:\n",
        "5*4*3*2*1"
      ],
      "metadata": {
        "colab": {
          "base_uri": "https://localhost:8080/"
        },
        "id": "UuU3XTVrsHbQ",
        "outputId": "3b64315d-c640-442c-f3ff-73f0b73f5ab5"
      },
      "execution_count": 4,
      "outputs": [
        {
          "output_type": "execute_result",
          "data": {
            "text/plain": [
              "120"
            ]
          },
          "metadata": {},
          "execution_count": 4
        }
      ]
    },
    {
      "cell_type": "code",
      "source": [
        "# Number of permutations of 6 elements:\n",
        "6*5*4*3*2*1"
      ],
      "metadata": {
        "colab": {
          "base_uri": "https://localhost:8080/"
        },
        "id": "sgCZ7B2rtDZK",
        "outputId": "2ea8568d-1d78-45c8-fc0e-5f7c8b1890fb"
      },
      "execution_count": 5,
      "outputs": [
        {
          "output_type": "execute_result",
          "data": {
            "text/plain": [
              "720"
            ]
          },
          "metadata": {},
          "execution_count": 5
        }
      ]
    },
    {
      "cell_type": "code",
      "source": [
        "# The number of permutations grows as n factorial as the length of a list of length n grows.\n",
        "import math\n",
        "\n",
        "# For ten elements.\n",
        "math.factorial(10)"
      ],
      "metadata": {
        "colab": {
          "base_uri": "https://localhost:8080/"
        },
        "id": "-hIxo2e6tOJv",
        "outputId": "73c05c54-a387-4c1c-e44f-2bf2114d80e5"
      },
      "execution_count": 6,
      "outputs": [
        {
          "output_type": "execute_result",
          "data": {
            "text/plain": [
              "3628800"
            ]
          },
          "metadata": {},
          "execution_count": 6
        }
      ]
    },
    {
      "cell_type": "code",
      "source": [
        "# For one hundred elements.\n",
        "math.factorial(100)"
      ],
      "metadata": {
        "colab": {
          "base_uri": "https://localhost:8080/"
        },
        "id": "NR2_YfZNzqxZ",
        "outputId": "f1b37fea-ca3d-488e-a0ec-63cf1c97bb49"
      },
      "execution_count": 7,
      "outputs": [
        {
          "output_type": "execute_result",
          "data": {
            "text/plain": [
              "93326215443944152681699238856266700490715968264381621468592963895217599993229915608941463976156518286253697920827223758251185210916864000000000000000000000000"
            ]
          },
          "metadata": {},
          "execution_count": 7
        }
      ]
    },
    {
      "cell_type": "code",
      "source": [
        "# A picture of the factorial function for perspective.\n",
        "import matplotlib.pyplot as plt\n",
        "import numpy as np\n",
        "import scipy.special as sm\n",
        "\n",
        "plt.rcParams['figure.figsize'] = (14, 6)\n",
        "\n",
        "x = np.linspace(1.0, 10.0, 1000)\n",
        "y0 = 3*x\n",
        "y1 = x**3\n",
        "y2 = 3**x\n",
        "y3 = sm.factorial(x)\n",
        "\n",
        "plt.plot(x, y0, label='$3x$')\n",
        "plt.plot(x, y1, label='$x^3$')\n",
        "plt.plot(x, y2, label='$3^x$')\n",
        "plt.plot(x, y3, label='$x!$')\n",
        "\n",
        "plt.legend()\n",
        "plt.show()"
      ],
      "metadata": {
        "colab": {
          "base_uri": "https://localhost:8080/",
          "height": 385
        },
        "id": "6U4Lew--t4-C",
        "outputId": "5ecd62cb-aee1-4b37-ea91-fb54121467c4"
      },
      "execution_count": 8,
      "outputs": [
        {
          "output_type": "display_data",
          "data": {
            "image/png": "[encoded data removed]",
            "text/plain": [
              "<Figure size 1008x432 with 1 Axes>"
            ]
          },
          "metadata": {
            "needs_background": "light"
          }
        }
      ]
    },
    {
      "cell_type": "markdown",
      "source": [
        "## What algorithms are there to generate permutations?\n",
        "\n",
        "***"
      ],
      "metadata": {
        "id": "MBnYHEyYuY34"
      }
    },
    {
      "cell_type": "code",
      "source": [
        "# All permutations of zero elements list.\n",
        "[]"
      ],
      "metadata": {
        "colab": {
          "base_uri": "https://localhost:8080/"
        },
        "id": "f8eLDfPM2BLx",
        "outputId": "49348d7a-c89d-4164-bf26-25048059f388"
      },
      "execution_count": 9,
      "outputs": [
        {
          "output_type": "execute_result",
          "data": {
            "text/plain": [
              "[]"
            ]
          },
          "metadata": {},
          "execution_count": 9
        }
      ]
    },
    {
      "cell_type": "code",
      "source": [
        "# All permutations of one elements list.\n",
        "[1]"
      ],
      "metadata": {
        "colab": {
          "base_uri": "https://localhost:8080/"
        },
        "id": "4xXshLeZ19b5",
        "outputId": "4cb7b203-29c5-463e-85b8-bc4ffd5907f0"
      },
      "execution_count": 10,
      "outputs": [
        {
          "output_type": "execute_result",
          "data": {
            "text/plain": [
              "[1]"
            ]
          },
          "metadata": {},
          "execution_count": 10
        }
      ]
    },
    {
      "cell_type": "code",
      "source": [
        "# All the possible permutations of two elements.\n",
        "[2, 1]\n",
        "[1, 2]"
      ],
      "metadata": {
        "colab": {
          "base_uri": "https://localhost:8080/"
        },
        "id": "aI8gJoEV1k5o",
        "outputId": "9a8e20af-6370-44d0-cce5-8e50ba256672"
      },
      "execution_count": 11,
      "outputs": [
        {
          "output_type": "execute_result",
          "data": {
            "text/plain": [
              "[1, 2]"
            ]
          },
          "metadata": {},
          "execution_count": 11
        }
      ]
    },
    {
      "cell_type": "code",
      "source": [
        "# All the possible permutations of three elements.\n",
        "[3, 2, 1]\n",
        "[2, 3, 1]\n",
        "[2, 1, 3]\n",
        "[3, 1, 2]\n",
        "[1, 3, 2]\n",
        "[1, 2, 3]\n"
      ],
      "metadata": {
        "colab": {
          "base_uri": "https://localhost:8080/"
        },
        "id": "r2AYEAjK1GnZ",
        "outputId": "38813492-3a61-49ce-b453-94a8d474ffa0"
      },
      "execution_count": 12,
      "outputs": [
        {
          "output_type": "execute_result",
          "data": {
            "text/plain": [
              "[1, 2, 3]"
            ]
          },
          "metadata": {},
          "execution_count": 12
        }
      ]
    },
    {
      "cell_type": "markdown",
      "source": [
        "## `itertools`"
      ],
      "metadata": {
        "id": "lx0LnVkc1eLY"
      }
    },
    {
      "cell_type": "code",
      "source": [
        "# From the Python Standard Library.\n",
        "import itertools as it"
      ],
      "metadata": {
        "id": "29yTwVbT3oO0"
      },
      "execution_count": 13,
      "outputs": []
    },
    {
      "cell_type": "code",
      "source": [
        "# All permutations of the list [1,2,3].\n",
        "for p in it.permutations([1, 2, 3]):\n",
        "  print(p)"
      ],
      "metadata": {
        "colab": {
          "base_uri": "https://localhost:8080/"
        },
        "id": "N492pZpB4DPE",
        "outputId": "48d4c20f-2872-4b0f-b41e-fadf1ef26d06"
      },
      "execution_count": 14,
      "outputs": [
        {
          "output_type": "stream",
          "name": "stdout",
          "text": [
            "(1, 2, 3)\n",
            "(1, 3, 2)\n",
            "(2, 1, 3)\n",
            "(2, 3, 1)\n",
            "(3, 1, 2)\n",
            "(3, 2, 1)\n"
          ]
        }
      ]
    },
    {
      "cell_type": "code",
      "source": [
        "# A terrible sorting algorithm - O(n!).\n",
        "# Search for the sorted permutation of 7 element list.\n",
        "for p in it.permutations([7, 2, 1, 6, 4, 5, 3]):\n",
        "  # Check if permutation is sorted.\n",
        "  if p[0] <= p[1] and p[1] <= p[2] and p[2] <= p[3] and p[3] <= p[4] and p[4] <= p[5] and p[5] <= p[6]:\n",
        "    # Print the permutation.\n",
        "    print(p)"
      ],
      "metadata": {
        "colab": {
          "base_uri": "https://localhost:8080/"
        },
        "id": "3GOG9Y904JhI",
        "outputId": "8ba59518-f3b6-48df-a939-d95aa0d5320e"
      },
      "execution_count": 15,
      "outputs": [
        {
          "output_type": "stream",
          "name": "stdout",
          "text": [
            "(1, 2, 3, 4, 5, 6, 7)\n"
          ]
        }
      ]
    },
    {
      "cell_type": "markdown",
      "source": [
        "## Further Reading\n",
        "\n",
        "- https://docs.python.org/3/library/itertools.html\n",
        "- https://realpython.com/introduction-to-python-generators/\n",
        "- https://realpython.com/python-itertools/"
      ],
      "metadata": {
        "id": "gyp559VY42gJ"
      }
    }
  ]
}