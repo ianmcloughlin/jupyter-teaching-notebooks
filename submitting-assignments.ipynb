{
 "cells": [
  {
   "cell_type": "markdown",
   "metadata": {},
   "source": [
    "# Assignments"
   ]
  },
  {
   "cell_type": "markdown",
   "metadata": {},
   "source": [
    "- Two repositories.\n",
    "- One containing a jupyter notebook for tasks given in class.\n",
    "- One for the a project."
   ]
  },
  {
   "cell_type": "markdown",
   "metadata": {},
   "source": [
    "## Collaboration\n",
    "\n",
    "Plagiarism is considered a significant concern in education.\n",
    "Copying work from elsewhere, even from your own previous work, and presenting it as new work for an assignment is a serious disciplinary issue.\n",
    "At the same time, students are expected to look at, investigate, and build on the work of others.\n",
    "How can these two ideas be reconciled?\n",
    "Through honest referencing.\n",
    "\n",
    "You are free to look at the work of others. Collaboration is the norm in computing. Git is designed for collaboration."
   ]
  },
  {
   "cell_type": "code",
   "execution_count": null,
   "metadata": {},
   "outputs": [],
   "source": []
  }
 ],
 "metadata": {
  "kernelspec": {
   "display_name": "Python 3",
   "language": "python",
   "name": "python3"
  },
  "language_info": {
   "codemirror_mode": {
    "name": "ipython",
    "version": 3
   },
   "file_extension": ".py",
   "mimetype": "text/x-python",
   "name": "python",
   "nbconvert_exporter": "python",
   "pygments_lexer": "ipython3",
   "version": "3.8.5"
  }
 },
 "nbformat": 4,
 "nbformat_minor": 4
}
