{
 "cells": [
  {
   "cell_type": "markdown",
   "metadata": {},
   "source": [
    "![Just a banner](https://github.com/ianmcloughlin/images/raw/master/banner-flowers.jpg)\n",
    "\n",
    "# Stochasticism"
   ]
  },
  {
   "cell_type": "markdown",
   "metadata": {},
   "source": [
    "### Determinism\n",
    "\n",
    "<hr style=\"border: 2px solid #2196f3;\">"
   ]
  },
  {
   "cell_type": "code",
   "execution_count": 2,
   "metadata": {},
   "outputs": [],
   "source": [
    "def f(x):\n",
    "    return x*x\n",
    "\n",
    "for i in range(1000):\n",
    "    if f(2) != 4:\n",
    "        print(\"Error\")"
   ]
  },
  {
   "cell_type": "markdown",
   "metadata": {},
   "source": [
    "### Are computers deterministic?\n",
    "\n",
    "<hr style=\"border: 2px solid #2196f3;\">\n",
    "\n",
    "\n",
    "[A mathematical theory of communication](http://math.harvard.edu/~ctm/home/text/others/shannon/entropy/entropy.pdf)\n",
    "\n",
    "Claude Elwood Shannon;  The Bell System Technical Journal; Volume 27, Issue 3, July 1948\n",
    "\n",
    "[http://math.harvard.edu/~ctm/home/text/others/shannon/entropy/entropy.pdf](http://math.harvard.edu/~ctm/home/text/others/shannon/entropy/entropy.pdf)\n",
    "\n",
    "---\n",
    "\n",
    "[Error detecting and error correcting codes](https://signallake.com/innovation/hamming.pdf)\n",
    "\n",
    "Richard W. Hamming; The Bell System Technical Journal; Volume 29, Issue 2, April 1950\n",
    "\n",
    "[https://signallake.com/innovation/hamming.pdf](https://signallake.com/innovation/hamming.pdf)"
   ]
  },
  {
   "cell_type": "markdown",
   "metadata": {},
   "source": [
    "### Is reality deterministic?\n",
    "\n",
    "<hr style=\"border: 2px solid #2196f3;\">\n",
    "\n",
    "[What Does the New Double-Slit Experiment Actually Show?](https://blogs.scientificamerican.com/guest-blog/what-does-the-new-double-slit-experiment-actually-show/)\n",
    "\n",
    "Scientific American; Matthew Francis; June 7 2011\n",
    "\n",
    "[https://blogs.scientificamerican.com/guest-blog/what-does-the-new-double-slit-experiment-actually-show/](https://blogs.scientificamerican.com/guest-blog/what-does-the-new-double-slit-experiment-actually-show/)\n",
    "\n",
    "\n",
    "---\n",
    "\n",
    "[Simulating Physics with Computers](https://github.com/ianmcloughlin/papers/raw/master/feynman-simulating-physics-with-computers.pdf)\n",
    "\n",
    "International Journal of Theoretical Physics; Volume 21; June 1982\n",
    "\n",
    "\n",
    "[https://github.com/ianmcloughlin/papers/raw/master/feynman-simulating-physics-with-computers.pdf](https://github.com/ianmcloughlin/papers/raw/master/feynman-simulating-physics-with-computers.pdf)\n",
    "\n",
    "\n",
    "---\n"
   ]
  },
  {
   "cell_type": "code",
   "execution_count": null,
   "metadata": {},
   "outputs": [],
   "source": []
  }
 ],
 "metadata": {
  "kernelspec": {
   "display_name": "Python 3",
   "language": "python",
   "name": "python3"
  },
  "language_info": {
   "codemirror_mode": {
    "name": "ipython",
    "version": 3
   },
   "file_extension": ".py",
   "mimetype": "text/x-python",
   "name": "python",
   "nbconvert_exporter": "python",
   "pygments_lexer": "ipython3",
   "version": "3.8.5"
  }
 },
 "nbformat": 4,
 "nbformat_minor": 4
}
