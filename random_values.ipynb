{
 "cells": [
  {
   "cell_type": "markdown",
   "id": "a3d27eb9-0e60-46ea-9410-c73d1c1dbc1a",
   "metadata": {},
   "source": [
    "# Random Values\n",
    "\n",
    "https://numpy.org/doc/stable/reference/random/index.html\n",
    "\n",
    "***"
   ]
  },
  {
   "cell_type": "markdown",
   "id": "842a7066-fdcd-45dd-bfa7-ad88ea29bed1",
   "metadata": {},
   "source": [
    "#### Setup\n",
    "\n",
    "***"
   ]
  },
  {
   "cell_type": "code",
   "execution_count": 1,
   "id": "42191c65-da14-4941-a3d3-3e851e99a85d",
   "metadata": {},
   "outputs": [],
   "source": [
    "# Random number generation.\n",
    "import numpy as np\n",
    "\n",
    "# Plotting\n",
    "import matplotlib.pyplot as plt"
   ]
  },
  {
   "cell_type": "code",
   "execution_count": 2,
   "id": "d96126b3-7d5a-4a2a-ac20-f9f734ca0739",
   "metadata": {},
   "outputs": [],
   "source": [
    "# Plot size.\n",
    "plt.rcParams[\"figure.figsize\"] = (10, 6)\n",
    "\n",
    "# Pyplot style.\n",
    "plt.style.use('seaborn')"
   ]
  },
  {
   "cell_type": "code",
   "execution_count": 3,
   "id": "36053eba-c581-4343-ae5c-9a2c672ebf3c",
   "metadata": {},
   "outputs": [],
   "source": [
    "# Set this to None to generate random numbers.\n",
    "seed = 1"
   ]
  },
  {
   "cell_type": "code",
   "execution_count": 4,
   "id": "2af05ae1-46db-45c2-93ee-85516cd51c0f",
   "metadata": {},
   "outputs": [],
   "source": [
    "# Create an instance of the random number generator.\n",
    "rng = np.random.default_rng(seed=seed)"
   ]
  },
  {
   "cell_type": "markdown",
   "id": "d86deb48-1358-414f-b30e-03426e0771f5",
   "metadata": {},
   "source": [
    "<br>\n",
    "\n",
    "## Uniform\n",
    "\n",
    "https://numpy.org/doc/stable/reference/random/generated/numpy.random.Generator.uniform.html#numpy.random.Generator.uniform\n",
    "\n",
    "***"
   ]
  },
  {
   "cell_type": "code",
   "execution_count": 5,
   "id": "be260225-868c-4af1-913c-7211e553d99b",
   "metadata": {},
   "outputs": [
    {
     "data": {
      "text/plain": [
       "0.5118216247002567"
      ]
     },
     "execution_count": 5,
     "metadata": {},
     "output_type": "execute_result"
    }
   ],
   "source": [
    "# Generate a single uniform value.\n",
    "rng.uniform()"
   ]
  },
  {
   "cell_type": "code",
   "execution_count": 6,
   "id": "070898be-661a-4671-a295-1a05a505d18c",
   "metadata": {},
   "outputs": [
    {
     "data": {
      "text/plain": [
       "95.54173266933418"
      ]
     },
     "execution_count": 6,
     "metadata": {},
     "output_type": "execute_result"
    }
   ],
   "source": [
    "# Generate a single value between 10 and 100.\n",
    "rng.uniform(low=10.0, high=100.0)"
   ]
  },
  {
   "cell_type": "code",
   "execution_count": 7,
   "id": "43740b4c-09e1-470a-9fd6-d6fb70792d33",
   "metadata": {},
   "outputs": [
    {
     "data": {
      "text/plain": [
       "array([0.14415961, 0.94864945, 0.31183145, ..., 0.4814537 , 0.57212589,\n",
       "       0.03130154])"
      ]
     },
     "execution_count": 7,
     "metadata": {},
     "output_type": "execute_result"
    }
   ],
   "source": [
    "# Generate several nubmers.\n",
    "nos = rng.uniform(size=10000)\n",
    "nos"
   ]
  },
  {
   "cell_type": "code",
   "execution_count": 8,
   "id": "18c1c36d-776d-4bf2-bb98-7ca695a0d087",
   "metadata": {},
   "outputs": [
    {
     "data": {
      "text/plain": [
       "10000"
      ]
     },
     "execution_count": 8,
     "metadata": {},
     "output_type": "execute_result"
    }
   ],
   "source": [
    "# How many did we get?\n",
    "nos.size"
   ]
  },
  {
   "cell_type": "code",
   "execution_count": 9,
   "id": "d317c1d0-2067-4fb9-9c93-9d262f11c27c",
   "metadata": {},
   "outputs": [
    {
     "data": {
      "text/plain": [
       "(array([1013.,  987.,  991.,  958., 1004., 1020.,  987., 1016.,  984.,\n",
       "        1040.]),\n",
       " array([9.60405600e-05, 1.00072017e-01, 2.00047993e-01, 3.00023969e-01,\n",
       "        3.99999945e-01, 4.99975922e-01, 5.99951898e-01, 6.99927874e-01,\n",
       "        7.99903850e-01, 8.99879826e-01, 9.99855803e-01]),\n",
       " <BarContainer object of 10 artists>)"
      ]
     },
     "execution_count": 9,
     "metadata": {},
     "output_type": "execute_result"
    },
    {
     "data": {
      "image/png": "[encoded data removed]",
      "text/plain": [
       "<Figure size 576x396 with 1 Axes>"
      ]
     },
     "metadata": {},
     "output_type": "display_data"
    }
   ],
   "source": [
    "# Histogram of nos.\n",
    "plt.hist(nos)"
   ]
  },
  {
   "cell_type": "markdown",
   "id": "4a9c49b2-9e37-48c5-86aa-29d01160f608",
   "metadata": {},
   "source": [
    "<br>\n",
    "\n",
    "## Normal\n",
    "\n",
    "https://numpy.org/doc/stable/reference/random/generated/numpy.random.Generator.normal.html#numpy.random.Generator.normal\n",
    "\n",
    "***"
   ]
  },
  {
   "cell_type": "code",
   "execution_count": 10,
   "id": "527f9a97-033d-47d3-a1a8-bc8d749143fc",
   "metadata": {},
   "outputs": [
    {
     "data": {
      "text/plain": [
       "0.3629355159220716"
      ]
     },
     "execution_count": 10,
     "metadata": {},
     "output_type": "execute_result"
    }
   ],
   "source": [
    "# Generate single normal value.\n",
    "rng.normal()"
   ]
  },
  {
   "cell_type": "code",
   "execution_count": 11,
   "id": "ff2aee3f-3e10-47c0-9642-422961b1f0e8",
   "metadata": {},
   "outputs": [
    {
     "data": {
      "text/plain": [
       "array([0.983281  , 0.4846102 , 0.98850656, ..., 0.99649886, 0.71680686,\n",
       "       1.237041  ])"
      ]
     },
     "execution_count": 11,
     "metadata": {},
     "output_type": "execute_result"
    }
   ],
   "source": [
    "# Generate 10,000 values.\n",
    "nos = rng.normal(size=10000)\n",
    "nos"
   ]
  },
  {
   "cell_type": "code",
   "execution_count": 12,
   "id": "8b3dcfed-8435-4025-a801-e24c34707b0b",
   "metadata": {},
   "outputs": [
    {
     "data": {
      "text/plain": [
       "(array([  1.,   1.,   0.,   0.,   0.,   2.,   1.,   2.,   4.,   0.,   4.,\n",
       "          5.,   6.,  12.,  13.,  22.,  21.,  24.,  27.,  35.,  30.,  46.,\n",
       "         63.,  56.,  57.,  80.,  89., 102., 110., 109., 135., 139., 165.,\n",
       "        173., 201., 197., 228., 209., 239., 274., 263., 277., 291., 261.,\n",
       "        298., 286., 283., 301., 294., 307., 287., 294., 299., 265., 266.,\n",
       "        260., 252., 217., 213., 204., 205., 167., 150., 139., 123., 115.,\n",
       "         98.,  94.,  73.,  74.,  67.,  57.,  51.,  40.,  43.,  36.,  29.,\n",
       "         33.,  18.,  14.,  19.,  11.,  17.,   7.,   1.,   2.,   1.,   2.,\n",
       "          5.,   2.,   2.,   0.,   1.,   1.,   1.,   1.,   0.,   0.,   0.,\n",
       "          1.]),\n",
       " array([-3.58104758, -3.50590156, -3.43075553, -3.35560951, -3.28046348,\n",
       "        -3.20531746, -3.13017143, -3.05502541, -2.97987938, -2.90473336,\n",
       "        -2.82958733, -2.75444131, -2.67929529, -2.60414926, -2.52900324,\n",
       "        -2.45385721, -2.37871119, -2.30356516, -2.22841914, -2.15327311,\n",
       "        -2.07812709, -2.00298106, -1.92783504, -1.85268901, -1.77754299,\n",
       "        -1.70239697, -1.62725094, -1.55210492, -1.47695889, -1.40181287,\n",
       "        -1.32666684, -1.25152082, -1.17637479, -1.10122877, -1.02608274,\n",
       "        -0.95093672, -0.8757907 , -0.80064467, -0.72549865, -0.65035262,\n",
       "        -0.5752066 , -0.50006057, -0.42491455, -0.34976852, -0.2746225 ,\n",
       "        -0.19947647, -0.12433045, -0.04918443,  0.0259616 ,  0.10110762,\n",
       "         0.17625365,  0.25139967,  0.3265457 ,  0.40169172,  0.47683775,\n",
       "         0.55198377,  0.6271298 ,  0.70227582,  0.77742185,  0.85256787,\n",
       "         0.92771389,  1.00285992,  1.07800594,  1.15315197,  1.22829799,\n",
       "         1.30344402,  1.37859004,  1.45373607,  1.52888209,  1.60402812,\n",
       "         1.67917414,  1.75432016,  1.82946619,  1.90461221,  1.97975824,\n",
       "         2.05490426,  2.13005029,  2.20519631,  2.28034234,  2.35548836,\n",
       "         2.43063439,  2.50578041,  2.58092644,  2.65607246,  2.73121848,\n",
       "         2.80636451,  2.88151053,  2.95665656,  3.03180258,  3.10694861,\n",
       "         3.18209463,  3.25724066,  3.33238668,  3.40753271,  3.48267873,\n",
       "         3.55782475,  3.63297078,  3.7081168 ,  3.78326283,  3.85840885,\n",
       "         3.93355488]),\n",
       " <BarContainer object of 100 artists>)"
      ]
     },
     "execution_count": 12,
     "metadata": {},
     "output_type": "execute_result"
    },
    {
     "data": {
      "image/png": "[encoded data removed]",
      "text/plain": [
       "<Figure size 576x396 with 1 Axes>"
      ]
     },
     "metadata": {},
     "output_type": "display_data"
    }
   ],
   "source": [
    "# Histogram of nos.\n",
    "plt.hist(nos, bins=100)"
   ]
  },
  {
   "cell_type": "code",
   "execution_count": 13,
   "id": "862bcb0c-7736-4a99-8e28-23a7d27b28a4",
   "metadata": {},
   "outputs": [],
   "source": [
    "# Generate two sets of 10,000 values with different loc's.\n",
    "nos_A = rng.normal(loc=1.0, size=10000)\n",
    "nos_B = rng.normal(loc=3.0, size=10000)"
   ]
  },
  {
   "cell_type": "code",
   "execution_count": 14,
   "id": "30f6661f-37da-4270-a8b8-359042331c34",
   "metadata": {},
   "outputs": [
    {
     "data": {
      "image/png": "[encoded data removed]",
      "text/plain": [
       "<Figure size 576x396 with 1 Axes>"
      ]
     },
     "metadata": {},
     "output_type": "display_data"
    }
   ],
   "source": [
    "# Create a new pyplot figure.\n",
    "fig, ax = plt.subplots()\n",
    "\n",
    "# Histogram of nos.\n",
    "ax.hist(nos_A, bins=100, alpha=0.5)\n",
    "ax.hist(nos_B, bins=100, alpha=0.5);"
   ]
  },
  {
   "cell_type": "code",
   "execution_count": 15,
   "id": "995c2378-b1a2-45ed-ba6f-3bc1c45826fb",
   "metadata": {},
   "outputs": [],
   "source": [
    "# Generate two sets of 10,000 values with different scale's.\n",
    "nos_A = rng.normal(scale=0.5, size=10000)\n",
    "nos_B = rng.normal(scale=0.1, size=10000)"
   ]
  },
  {
   "cell_type": "code",
   "execution_count": 16,
   "id": "e762e1be-8f2f-4fa4-9bd1-1bbef738fc92",
   "metadata": {},
   "outputs": [
    {
     "data": {
      "image/png": "[encoded data removed]",
      "text/plain": [
       "<Figure size 576x396 with 1 Axes>"
      ]
     },
     "metadata": {},
     "output_type": "display_data"
    }
   ],
   "source": [
    "# Create a new pyplot figure.\n",
    "fig, ax = plt.subplots()\n",
    "\n",
    "# Histogram of nos.\n",
    "ax.hist(nos_A,  alpha=0.5, bins=40, density=True)\n",
    "ax.hist(nos_B,  alpha=0.5, bins=40, density=True);"
   ]
  },
  {
   "cell_type": "markdown",
   "id": "409ba6c5-a16d-4220-b042-72ed4b3f6405",
   "metadata": {},
   "source": [
    "<br>\n",
    "\n",
    "## Binomial\n",
    "\n",
    "https://numpy.org/doc/stable/reference/random/generated/numpy.random.Generator.binomial.html#numpy.random.Generator.binomial\n",
    "\n",
    "***"
   ]
  },
  {
   "cell_type": "code",
   "execution_count": 17,
   "id": "bd697762-82a1-41f4-8230-ab10f48b2d39",
   "metadata": {},
   "outputs": [
    {
     "data": {
      "text/plain": [
       "0"
      ]
     },
     "execution_count": 17,
     "metadata": {},
     "output_type": "execute_result"
    }
   ],
   "source": [
    "# Generate single number.\n",
    "rng.binomial(n=1, p=0.5)"
   ]
  },
  {
   "cell_type": "code",
   "execution_count": 18,
   "id": "8266d1ab-2ddf-4111-b6fd-e575659f7671",
   "metadata": {},
   "outputs": [
    {
     "data": {
      "text/plain": [
       "array([0, 1, 0, ..., 0, 1, 1], dtype=int64)"
      ]
     },
     "execution_count": 18,
     "metadata": {},
     "output_type": "execute_result"
    }
   ],
   "source": [
    "# Generate 10,000 numbers.\n",
    "nos = rng.binomial(n=1, p=0.5, size=10000)\n",
    "nos"
   ]
  },
  {
   "cell_type": "code",
   "execution_count": 19,
   "id": "f9c5bb75-0bfd-4714-a24a-5db5e27b806d",
   "metadata": {},
   "outputs": [
    {
     "data": {
      "text/plain": [
       "<BarContainer object of 2 artists>"
      ]
     },
     "execution_count": 19,
     "metadata": {},
     "output_type": "execute_result"
    },
    {
     "data": {
      "image/png": "[encoded data removed]",
      "text/plain": [
       "<Figure size 576x396 with 1 Axes>"
      ]
     },
     "metadata": {},
     "output_type": "display_data"
    }
   ],
   "source": [
    "# Create a bar chart.\n",
    "plt.bar([\"Fail\", \"Success\"], [nos.size - nos.sum(), nos.sum()])"
   ]
  },
  {
   "cell_type": "code",
   "execution_count": 20,
   "id": "7016d2c5-1d7d-487d-be23-767dbb4713a5",
   "metadata": {},
   "outputs": [
    {
     "data": {
      "text/plain": [
       "array([0, 0, 0, ..., 0, 0, 0], dtype=int64)"
      ]
     },
     "execution_count": 20,
     "metadata": {},
     "output_type": "execute_result"
    }
   ],
   "source": [
    "# Generate 10,000 numbers.\n",
    "nos = rng.binomial(n=1, p=0.1, size=10000)\n",
    "nos"
   ]
  },
  {
   "cell_type": "code",
   "execution_count": 21,
   "id": "ab7eeebf-1795-4b86-a645-28e28c74ad47",
   "metadata": {},
   "outputs": [
    {
     "data": {
      "text/plain": [
       "<BarContainer object of 2 artists>"
      ]
     },
     "execution_count": 21,
     "metadata": {},
     "output_type": "execute_result"
    },
    {
     "data": {
      "image/png": "[encoded data removed]",
      "text/plain": [
       "<Figure size 576x396 with 1 Axes>"
      ]
     },
     "metadata": {},
     "output_type": "display_data"
    }
   ],
   "source": [
    "# Create a bar chart.\n",
    "plt.bar([\"Fail\", \"Success\"], [nos.size - nos.sum(), nos.sum()])"
   ]
  },
  {
   "cell_type": "code",
   "execution_count": 22,
   "id": "65541d7e-1d1b-4a1f-84b7-17b16543f3b3",
   "metadata": {},
   "outputs": [
    {
     "data": {
      "text/plain": [
       "array([0, 1, 0, ..., 0, 0, 0], dtype=int64)"
      ]
     },
     "execution_count": 22,
     "metadata": {},
     "output_type": "execute_result"
    }
   ],
   "source": [
    "# Generate 10,000 numbers with n=10 and p=0.1.\n",
    "nos = rng.binomial(n=10, p=0.1, size=10000)\n",
    "nos"
   ]
  },
  {
   "cell_type": "code",
   "execution_count": 23,
   "id": "29ec97db-850e-404b-9b56-a875d8940540",
   "metadata": {},
   "outputs": [],
   "source": [
    "unique, counts = np.unique(nos, return_counts=True)"
   ]
  },
  {
   "cell_type": "code",
   "execution_count": 24,
   "id": "3b89a3bf-cb36-45ae-a3bd-da8cd4d42e82",
   "metadata": {},
   "outputs": [
    {
     "data": {
      "text/plain": [
       "<BarContainer object of 7 artists>"
      ]
     },
     "execution_count": 24,
     "metadata": {},
     "output_type": "execute_result"
    },
    {
     "data": {
      "image/png": "[encoded data removed]",
      "text/plain": [
       "<Figure size 576x396 with 1 Axes>"
      ]
     },
     "metadata": {},
     "output_type": "display_data"
    }
   ],
   "source": [
    "# Plot a bar chart.\n",
    "plt.bar(unique, counts)"
   ]
  },
  {
   "cell_type": "code",
   "execution_count": 25,
   "id": "11d17c9b-1785-446a-8fff-31155c24c455",
   "metadata": {},
   "outputs": [
    {
     "data": {
      "text/plain": [
       "array([53, 47, 55, ..., 56, 57, 48], dtype=int64)"
      ]
     },
     "execution_count": 25,
     "metadata": {},
     "output_type": "execute_result"
    }
   ],
   "source": [
    "# Generate 10,000 numbers.\n",
    "nos = rng.binomial(n=100, p=0.5, size=10000)\n",
    "nos"
   ]
  },
  {
   "cell_type": "code",
   "execution_count": 26,
   "id": "52249e95-2184-4a63-bf37-a17fc1aa0877",
   "metadata": {},
   "outputs": [],
   "source": [
    "unique, counts = np.unique(nos, return_counts=True)"
   ]
  },
  {
   "cell_type": "code",
   "execution_count": 27,
   "id": "3f2e23c3-f848-4f06-8d00-7f810f992faf",
   "metadata": {},
   "outputs": [
    {
     "data": {
      "text/plain": [
       "<BarContainer object of 40 artists>"
      ]
     },
     "execution_count": 27,
     "metadata": {},
     "output_type": "execute_result"
    },
    {
     "data": {
      "image/png": "[encoded data removed]",
      "text/plain": [
       "<Figure size 576x396 with 1 Axes>"
      ]
     },
     "metadata": {},
     "output_type": "display_data"
    }
   ],
   "source": [
    "# Plot a bar chart.\n",
    "plt.bar(unique, counts)"
   ]
  },
  {
   "cell_type": "markdown",
   "id": "df04f1cf-3fa2-47ed-9310-5606c9d1f56a",
   "metadata": {},
   "source": [
    "<br>\n",
    "\n",
    "## Normal Samples\n",
    "\n",
    "https://numpy.org/doc/stable/reference/random/generated/numpy.random.Generator.normal.html#numpy.random.Generator.normal\n",
    "\n",
    "***"
   ]
  },
  {
   "cell_type": "code",
   "execution_count": 28,
   "id": "6edcc646-99f5-45ef-b6f1-b288361ffd46",
   "metadata": {},
   "outputs": [],
   "source": [
    "# Generate 10,000 samples of 100 normally generated numbers.\n",
    "samples = rng.normal(loc=0.0, size=(10000, 100))"
   ]
  },
  {
   "cell_type": "code",
   "execution_count": 29,
   "id": "c1040f7c-f97c-4a10-a409-b649c1c77803",
   "metadata": {},
   "outputs": [
    {
     "data": {
      "text/plain": [
       "array([[ 0.87888697, -1.2446353 , -0.36780298, ..., -0.56892388,\n",
       "         0.48120751,  0.48313385],\n",
       "       [ 0.660191  ,  1.67944295,  0.15423304, ..., -0.73661189,\n",
       "        -0.29521304,  0.69133855],\n",
       "       [-0.480871  ,  0.95942832,  0.84024212, ..., -1.01851158,\n",
       "        -0.40869974,  0.44869308],\n",
       "       ...,\n",
       "       [ 1.2904644 , -1.0069735 ,  0.48821751, ..., -1.16729042,\n",
       "         0.42955794, -0.07483846],\n",
       "       [-0.78582631,  0.42123182, -1.86074872, ...,  0.4471081 ,\n",
       "         0.19458108,  1.12967098],\n",
       "       [ 1.13554595,  0.10756223, -0.28544126, ...,  0.51524957,\n",
       "         0.22909008, -1.07387188]])"
      ]
     },
     "execution_count": 29,
     "metadata": {},
     "output_type": "execute_result"
    }
   ],
   "source": [
    "samples"
   ]
  },
  {
   "cell_type": "code",
   "execution_count": 30,
   "id": "c8d1103d-082f-41fa-9a4c-a6858797314f",
   "metadata": {},
   "outputs": [
    {
     "data": {
      "text/plain": [
       "(10000, 100)"
      ]
     },
     "execution_count": 30,
     "metadata": {},
     "output_type": "execute_result"
    }
   ],
   "source": [
    "samples.shape"
   ]
  },
  {
   "cell_type": "code",
   "execution_count": 31,
   "id": "331e26d8-6811-4efb-bc88-f417bffb453c",
   "metadata": {},
   "outputs": [
    {
     "data": {
      "image/png": "[encoded data removed]",
      "text/plain": [
       "<Figure size 576x396 with 1 Axes>"
      ]
     },
     "metadata": {},
     "output_type": "display_data"
    }
   ],
   "source": [
    "# Histogram of nos.\n",
    "plt.hist(samples.flatten(), bins=20);"
   ]
  },
  {
   "cell_type": "code",
   "execution_count": 32,
   "id": "859d5991-0b24-42e8-9c4b-595bb75a9ba3",
   "metadata": {},
   "outputs": [
    {
     "data": {
      "text/plain": [
       "0.00021636809120272992"
      ]
     },
     "execution_count": 32,
     "metadata": {},
     "output_type": "execute_result"
    }
   ],
   "source": [
    "# Calculate the mean of all the numbers.\n",
    "samples.mean()"
   ]
  },
  {
   "cell_type": "code",
   "execution_count": 33,
   "id": "ae5c83fd-f0a9-43e0-bd5a-50da3e1a1d7d",
   "metadata": {},
   "outputs": [
    {
     "data": {
      "text/plain": [
       "array([ 0.0280299 ,  0.03600297,  0.12829562, ...,  0.02258446,\n",
       "        0.02745438, -0.10158864])"
      ]
     },
     "execution_count": 33,
     "metadata": {},
     "output_type": "execute_result"
    }
   ],
   "source": [
    "# Calculate the mean of all the samples.\n",
    "mean_samples = samples.mean(axis=1)\n",
    "mean_samples"
   ]
  },
  {
   "cell_type": "code",
   "execution_count": 34,
   "id": "5e82e945-e8d2-4fe6-91e2-73f5fd4d3a5a",
   "metadata": {},
   "outputs": [
    {
     "data": {
      "text/plain": [
       "(10000,)"
      ]
     },
     "execution_count": 34,
     "metadata": {},
     "output_type": "execute_result"
    }
   ],
   "source": [
    "mean_samples.shape"
   ]
  },
  {
   "cell_type": "code",
   "execution_count": 35,
   "id": "5d981c44-f67e-4a39-9cdc-3f773ef0f15f",
   "metadata": {},
   "outputs": [
    {
     "data": {
      "image/png": "[encoded data removed]",
      "text/plain": [
       "<Figure size 576x396 with 1 Axes>"
      ]
     },
     "metadata": {},
     "output_type": "display_data"
    }
   ],
   "source": [
    "# Histogram of nos.\n",
    "plt.hist(mean_samples, bins=20);"
   ]
  },
  {
   "cell_type": "code",
   "execution_count": 36,
   "id": "82c0a86d-92be-4dad-b117-f98346b2df05",
   "metadata": {},
   "outputs": [],
   "source": [
    "# Generate two sets of 10,000 samples of 100 normally generated numbers.\n",
    "samples_A = rng.normal(loc=1.0, scale=10.0, size=(10000, 100))\n",
    "samples_B = rng.normal(loc=1.1, scale=10.0, size=(10000, 100))"
   ]
  },
  {
   "cell_type": "code",
   "execution_count": 37,
   "id": "442f396a-5934-483b-8750-2683c1e6ca17",
   "metadata": {},
   "outputs": [],
   "source": [
    "# Calculate the means of the samples in each set.\n",
    "mean_samples_A = samples_A.mean(axis=1)\n",
    "mean_samples_B = samples_B.mean(axis=1)"
   ]
  },
  {
   "cell_type": "code",
   "execution_count": 38,
   "id": "63c3c667-dd71-4a20-95e5-eb35d805b1a7",
   "metadata": {},
   "outputs": [
    {
     "data": {
      "image/png": "[encoded data removed]",
      "text/plain": [
       "<Figure size 576x396 with 1 Axes>"
      ]
     },
     "metadata": {},
     "output_type": "display_data"
    }
   ],
   "source": [
    "# Create a new pyplot figure.\n",
    "fig, ax = plt.subplots()\n",
    "\n",
    "# Histogram of nos.\n",
    "ax.hist(mean_samples_A,  alpha=0.5, bins=40, density=True)\n",
    "ax.hist(mean_samples_B,  alpha=0.5, bins=40, density=True);"
   ]
  },
  {
   "cell_type": "markdown",
   "id": "769d863c-253d-49e4-ab37-d5b06a86cba9",
   "metadata": {},
   "source": [
    "***\n",
    "\n",
    "## End"
   ]
  }
 ],
 "metadata": {
  "kernelspec": {
   "display_name": "Python 3 (ipykernel)",
   "language": "python",
   "name": "python3"
  },
  "language_info": {
   "codemirror_mode": {
    "name": "ipython",
    "version": 3
   },
   "file_extension": ".py",
   "mimetype": "text/x-python",
   "name": "python",
   "nbconvert_exporter": "python",
   "pygments_lexer": "ipython3",
   "version": "3.8.12"
  }
 },
 "nbformat": 4,
 "nbformat_minor": 5
}
