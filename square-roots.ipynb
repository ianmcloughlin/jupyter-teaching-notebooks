{
 "cells": [
  {
   "cell_type": "markdown",
   "id": "9555ccf5",
   "metadata": {},
   "source": [
    "# Square roots\n",
    "\n",
    "***"
   ]
  },
  {
   "cell_type": "markdown",
   "id": "beab62f7",
   "metadata": {},
   "source": [
    "#### Integer square roots with squares\n",
    "\n",
    "***"
   ]
  },
  {
   "cell_type": "code",
   "execution_count": 1,
   "id": "48465abe",
   "metadata": {},
   "outputs": [],
   "source": [
    "x = 225"
   ]
  },
  {
   "cell_type": "code",
   "execution_count": 2,
   "id": "69db653d",
   "metadata": {},
   "outputs": [
    {
     "name": "stdout",
     "output_type": "stream",
     "text": [
      "15\n"
     ]
    }
   ],
   "source": [
    "# Loop through values (i) from 0 to x-1.\n",
    "for i in range(x):\n",
    "    # Check if i squared is equal to x.\n",
    "    if (i**2) - x == 0:\n",
    "        # Print the square root.\n",
    "        print(i)\n",
    "        # Finish.\n",
    "        break"
   ]
  },
  {
   "cell_type": "code",
   "execution_count": 3,
   "id": "f33fd3c4",
   "metadata": {},
   "outputs": [],
   "source": [
    "x = 196"
   ]
  },
  {
   "cell_type": "code",
   "execution_count": 4,
   "id": "fc392e91",
   "metadata": {},
   "outputs": [
    {
     "name": "stdout",
     "output_type": "stream",
     "text": [
      "14\n"
     ]
    }
   ],
   "source": [
    "# Loop through values (i) from 0 to x-1.\n",
    "for i in range(x):\n",
    "    # Check if i squared is equal to x.\n",
    "    if (i**2) - x == 0:\n",
    "        # Print the square root.\n",
    "        print(i)\n",
    "        # Finish.\n",
    "        break"
   ]
  },
  {
   "cell_type": "code",
   "execution_count": 5,
   "id": "d8be62ec",
   "metadata": {},
   "outputs": [],
   "source": [
    "x = 200"
   ]
  },
  {
   "cell_type": "code",
   "execution_count": 6,
   "id": "a7d84d2f",
   "metadata": {},
   "outputs": [],
   "source": [
    "# Loop through values (i) from 0 to x-1.\n",
    "for i in range(x):\n",
    "    # Check if i squared is equal to x.\n",
    "    if (i**2) - x == 0:\n",
    "        # Print the square root.\n",
    "        print(i)\n",
    "        # Finish.\n",
    "        break"
   ]
  },
  {
   "cell_type": "markdown",
   "id": "c1feac2d",
   "metadata": {},
   "source": [
    "<br>\n",
    "\n",
    "#### Non-integer square roots\n",
    "\n",
    "***"
   ]
  },
  {
   "cell_type": "code",
   "execution_count": 7,
   "id": "a87e446f",
   "metadata": {},
   "outputs": [],
   "source": [
    "import numpy as np"
   ]
  },
  {
   "cell_type": "code",
   "execution_count": 8,
   "id": "21506431",
   "metadata": {},
   "outputs": [],
   "source": [
    "x = 200"
   ]
  },
  {
   "cell_type": "code",
   "execution_count": 9,
   "id": "10d176de",
   "metadata": {},
   "outputs": [],
   "source": [
    "increment = 0.0001"
   ]
  },
  {
   "cell_type": "code",
   "execution_count": 10,
   "id": "4a53c42e",
   "metadata": {},
   "outputs": [],
   "source": [
    "# Loop through values (i) from 0 to x-1.\n",
    "for i in np.arange(0.0, x, increment):\n",
    "    # Check if i squared is equal to x.\n",
    "    if (i**2) - x == 0:\n",
    "        # Print the square root.\n",
    "        print(i)\n",
    "        # Finish.\n",
    "        break"
   ]
  },
  {
   "cell_type": "code",
   "execution_count": 11,
   "id": "ed6c7fec",
   "metadata": {},
   "outputs": [],
   "source": [
    "x = 200"
   ]
  },
  {
   "cell_type": "code",
   "execution_count": 12,
   "id": "f0847370",
   "metadata": {},
   "outputs": [],
   "source": [
    "increment = 0.0001"
   ]
  },
  {
   "cell_type": "code",
   "execution_count": 13,
   "id": "6320b536",
   "metadata": {},
   "outputs": [
    {
     "name": "stdout",
     "output_type": "stream",
     "text": [
      "14.1418\n",
      "No iterations: 141419\n"
     ]
    }
   ],
   "source": [
    "# Track number of iterations.\n",
    "no_iter = 0\n",
    "\n",
    "# Loop through values (i) from 0 to x-1.\n",
    "for i in np.arange(0.0, x, increment):\n",
    "    no_iter = no_iter + 1\n",
    "    # Check if i squared is equal to x.\n",
    "    if abs((i**2) - x) <= 0.01:\n",
    "        # Print the square root.\n",
    "        print(i)\n",
    "        # Finish.\n",
    "        break\n",
    "\n",
    "# Show nubmer of iterations.\n",
    "print(f\"No iterations: {no_iter}\")"
   ]
  },
  {
   "cell_type": "code",
   "execution_count": 14,
   "id": "704c2097",
   "metadata": {},
   "outputs": [
    {
     "data": {
      "text/plain": [
       "199.99050724"
      ]
     },
     "execution_count": 14,
     "metadata": {},
     "output_type": "execute_result"
    }
   ],
   "source": [
    "14.1418**2"
   ]
  },
  {
   "cell_type": "markdown",
   "id": "3c65f040",
   "metadata": {},
   "source": [
    "<br>\n",
    "\n",
    "#### The Square Root of 2\n",
    "\n",
    "***"
   ]
  },
  {
   "cell_type": "markdown",
   "id": "5e327768",
   "metadata": {},
   "source": [
    "$ \\sqrt{200} = \\sqrt{2(100)} = \\sqrt{2}\\sqrt{100} = 10\\sqrt{2}$"
   ]
  },
  {
   "cell_type": "markdown",
   "id": "36f5e221",
   "metadata": {},
   "source": [
    "$ \\sqrt{2} \\neq \\frac{a}{b} $"
   ]
  },
  {
   "cell_type": "code",
   "execution_count": 15,
   "id": "73ffda5d",
   "metadata": {},
   "outputs": [
    {
     "data": {
      "text/plain": [
       "14.142135623730951"
      ]
     },
     "execution_count": 15,
     "metadata": {},
     "output_type": "execute_result"
    }
   ],
   "source": [
    "np.sqrt(200)"
   ]
  },
  {
   "cell_type": "markdown",
   "id": "7ca39b31",
   "metadata": {},
   "source": [
    "<br>\n",
    "\n",
    "#### Newton's method\n",
    "\n",
    "https://tour.golang.org/flowcontrol/8\n",
    "\n",
    "***"
   ]
  },
  {
   "cell_type": "code",
   "execution_count": 16,
   "id": "a5043ba2",
   "metadata": {},
   "outputs": [],
   "source": [
    "# We're looking for the square root of x.\n",
    "x = 200"
   ]
  },
  {
   "cell_type": "code",
   "execution_count": 17,
   "id": "6f6e64a2",
   "metadata": {},
   "outputs": [
    {
     "name": "stdout",
     "output_type": "stream",
     "text": [
      "14.142135968022693\n",
      "No iterations: 6\n"
     ]
    }
   ],
   "source": [
    "# Initial guess.\n",
    "z = 100.0\n",
    "\n",
    "# Track number of iterations.\n",
    "no_iter = 0\n",
    "\n",
    "# Loop until we get a good approx.\n",
    "while abs(z**2 - x) > 0.00001:\n",
    "    no_iter = no_iter + 1\n",
    "    z = z - ((z**2 - x) / (2 * z))\n",
    "\n",
    "# Show the result.\n",
    "print(z)\n",
    "\n",
    "# Show nubmer of iterations.\n",
    "print(f\"No iterations: {no_iter}\")"
   ]
  },
  {
   "cell_type": "markdown",
   "id": "f607b7ea",
   "metadata": {},
   "source": [
    "<br>\n",
    "\n",
    "#### Why?\n",
    "\n",
    "***\n"
   ]
  },
  {
   "cell_type": "markdown",
   "id": "26a2d22a",
   "metadata": {},
   "source": [
    "$ f(z) = z^2 - x $\n",
    "\n",
    "$ f'(z) = 2z $"
   ]
  },
  {
   "cell_type": "code",
   "execution_count": 18,
   "id": "b5b3d4ca",
   "metadata": {},
   "outputs": [],
   "source": [
    "import matplotlib.pyplot as plt\n",
    "\n",
    "plt.rcParams[\"figure.figsize\"] = (16, 8)"
   ]
  },
  {
   "cell_type": "code",
   "execution_count": 19,
   "id": "2b7bdf14",
   "metadata": {},
   "outputs": [
    {
     "data": {
      "image/png": "[encoded data removed]",
      "text/plain": [
       "<Figure size 1152x576 with 1 Axes>"
      ]
     },
     "metadata": {
      "needs_background": "light"
     },
     "output_type": "display_data"
    }
   ],
   "source": [
    "fig, ax = plt.subplots()\n",
    "\n",
    "x = 200.0\n",
    "z = np.linspace(-20.0, 20.0, 1000)\n",
    "\n",
    "ax.plot(z, np.zeros(z.size), 'k:', label='$x$-axis')\n",
    "ax.plot(z, z**2 - x, label='$z^2 - x$')\n",
    "ax.set_xlabel('$z$')\n",
    "ax.legend();"
   ]
  },
  {
   "cell_type": "code",
   "execution_count": 20,
   "id": "07815069",
   "metadata": {},
   "outputs": [
    {
     "data": {
      "image/png": "[encoded data removed]",
      "text/plain": [
       "<Figure size 1152x576 with 1 Axes>"
      ]
     },
     "metadata": {
      "needs_background": "light"
     },
     "output_type": "display_data"
    }
   ],
   "source": [
    "fig, ax = plt.subplots()\n",
    "\n",
    "x = 200.0\n",
    "z = np.linspace(10.0, 20.0, 1000)\n",
    "\n",
    "ax.plot(z, z - ((z**2 - x) / (2 * z)), label='$z - ((z^2 - x) / 2z)$')\n",
    "ax.set_xlabel('$z$')\n",
    "ax.legend();"
   ]
  },
  {
   "cell_type": "markdown",
   "id": "b2827334",
   "metadata": {},
   "source": [
    "***\n",
    "\n",
    "# End"
   ]
  }
 ],
 "metadata": {
  "kernelspec": {
   "display_name": "Python 3",
   "language": "python",
   "name": "python3"
  },
  "language_info": {
   "codemirror_mode": {
    "name": "ipython",
    "version": 3
   },
   "file_extension": ".py",
   "mimetype": "text/x-python",
   "name": "python",
   "nbconvert_exporter": "python",
   "pygments_lexer": "ipython3",
   "version": "3.8.8"
  }
 },
 "nbformat": 4,
 "nbformat_minor": 5
}
